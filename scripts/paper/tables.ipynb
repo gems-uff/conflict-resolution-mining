{
 "cells": [
  {
   "cell_type": "code",
   "execution_count": null,
   "id": "d835c811",
   "metadata": {},
   "outputs": [],
   "source": [
    "import pandas as pd\n",
    "import matplotlib.pyplot as plt\n",
    "import numpy as np\n",
    "\n",
    "from IPython.display import HTML, display\n",
    "import tabulate\n",
    "import re\n",
    "import seaborn as sns\n",
    "sns.set_theme(style=\"whitegrid\")"
   ]
  },
  {
   "cell_type": "code",
   "execution_count": null,
   "id": "34b8be32",
   "metadata": {},
   "outputs": [],
   "source": [
    "api_data = pd.read_csv(\"../../data/api_data.csv\")\n",
    "\n",
    "print(f\"CSV has {len(api_data)} projects.\")"
   ]
  },
  {
   "cell_type": "code",
   "execution_count": null,
   "id": "7943841e",
   "metadata": {
    "scrolled": false
   },
   "outputs": [],
   "source": [
    "api_data"
   ]
  },
  {
   "cell_type": "code",
   "execution_count": null,
   "id": "efd6f1b6",
   "metadata": {
    "scrolled": true
   },
   "outputs": [],
   "source": [
    "conflicting_merges_per_project = pd.read_csv(\"../../data/number_conflicting_merges_project_selected.csv\")\n",
    "conflicting_merges_per_project"
   ]
  },
  {
   "cell_type": "code",
   "execution_count": null,
   "id": "4f949b4c",
   "metadata": {
    "scrolled": true
   },
   "outputs": [],
   "source": [
    "merges_per_project = pd.read_csv(\"../../data/number_merges_project_selected.csv\")\n",
    "merges_per_project"
   ]
  },
  {
   "cell_type": "code",
   "execution_count": null,
   "id": "71e53176",
   "metadata": {
    "scrolled": true
   },
   "outputs": [],
   "source": [
    "merges_csv = pd.merge(merges_per_project, conflicting_merges_per_project, on='project', how='inner')\n",
    "merges_csv = merges_csv.drop(columns=['id_y'])\n",
    "merges_csv = merges_csv.rename(columns={'id_x':'id'})\n",
    "merges_csv"
   ]
  },
  {
   "cell_type": "code",
   "execution_count": null,
   "id": "0e9ba869",
   "metadata": {
    "scrolled": true
   },
   "outputs": [],
   "source": [
    "selected_dataset_2 = pd.read_csv(\"../../data/selected_dataset_2.csv\")\n",
    "selected_dataset_2"
   ]
  },
  {
   "cell_type": "code",
   "execution_count": null,
   "id": "b421947a",
   "metadata": {
    "scrolled": true
   },
   "outputs": [],
   "source": [
    "selected_dataset_2.columns"
   ]
  },
  {
   "cell_type": "code",
   "execution_count": null,
   "id": "2b03bf99",
   "metadata": {
    "scrolled": true
   },
   "outputs": [],
   "source": [
    "chunks_per_project = selected_dataset_2.groupby(['project']).count()['chunk_id']\n",
    "chunks_per_project"
   ]
  },
  {
   "cell_type": "code",
   "execution_count": null,
   "id": "07fc2bcf",
   "metadata": {
    "scrolled": true
   },
   "outputs": [],
   "source": [
    "join_api_selected = pd.merge(api_data, chunks_per_project, on='project', how='inner')\n",
    "join_api_selected[['project_actual_ownername','chunks', 'chunk_id']]"
   ]
  },
  {
   "cell_type": "markdown",
   "id": "8e6ef3c0",
   "metadata": {},
   "source": [
    "## Characteristics of the Projects"
   ]
  },
  {
   "cell_type": "code",
   "execution_count": null,
   "id": "bd182fa2",
   "metadata": {
    "scrolled": true
   },
   "outputs": [],
   "source": [
    "selected_projects = api_data[api_data.chunks >= 1000]\n",
    "selected_projects"
   ]
  },
  {
   "cell_type": "code",
   "execution_count": null,
   "id": "4be1586d",
   "metadata": {
    "scrolled": true
   },
   "outputs": [],
   "source": [
    "join_api_merges_csv = pd.merge(merges_csv, selected_projects, on='project', how='inner')\n",
    "join_api_merges_csv = join_api_merges_csv.drop(columns=['id_y'])\n",
    "join_api_merges_csv = join_api_merges_csv.rename(columns={'id_x':'id'})\n",
    "\n",
    "join_api_merges_csv"
   ]
  },
  {
   "cell_type": "markdown",
   "id": "aab2864c",
   "metadata": {},
   "source": [
    "### Projects that are not forks (from the 29 initial projects)"
   ]
  },
  {
   "cell_type": "code",
   "execution_count": null,
   "id": "052a63a7",
   "metadata": {
    "scrolled": false
   },
   "outputs": [],
   "source": [
    "projs = [(\"freenet/fred\", 0),\n",
    "(\"apache/directory-server\", 0),\n",
    "(\"Ramblurr/Anki-Android\", 0),\n",
    "(\"alexo/wro4j\", 0),\n",
    "(\"getrailo/railo\", 0),\n",
    "(\"atlasapi/atlas\", 0),\n",
    "(\"hibernate/hibernate-orm\", 0),\n",
    "(\"TeamDev-Ltd/OpenFaces\", 0),\n",
    "(\"CloudStack-extras/CloudStack-archive\", 0),\n",
    "(\"zkoss/zk\", 0),\n",
    "(\"eucalyptus/eucalyptus\", 0),\n",
    "(\"alkacon/opencms-core\", 0),\n",
    "(\"SINTEF-9012/ThingML\", 0),\n",
    "(\"Unidata/thredds\", 0),\n",
    "(\"apache/accumulo\", 0),\n",
    "(\"jgralab/jgralab\", 0),\n",
    "(\"sebastianbenz/Jnario\", 0),\n",
    "(\"CCI-MIT/XCoLab\", 0),\n",
    "(\"apache/lucene-solr\", 0),\n",
    "(\"android/platform_frameworks_base\", 0),\n",
    "(\"elastic/elasticsearch\", 1),\n",
    "(\"eclipse/jetty.project\", 1),\n",
    "(\"revolsys/com.revolsys.open\", 1)]\n",
    "\n",
    "new_projs = pd.DataFrame.from_records(projs, columns=['project', 'NA'])\n",
    "new_projs"
   ]
  },
  {
   "cell_type": "code",
   "execution_count": null,
   "id": "f98dc6cc",
   "metadata": {},
   "outputs": [],
   "source": [
    "projects23 = pd.merge(join_api_merges_csv, new_projs, on='project', how='inner')\n",
    "projects23"
   ]
  },
  {
   "cell_type": "code",
   "execution_count": null,
   "id": "3a885d97",
   "metadata": {
    "scrolled": false
   },
   "outputs": [],
   "source": [
    "selected_projects_table = projects23[[\"id\", \"project_actual_ownername\", \"chunks\", \"nr_merges\", \"nr_conflicting_merges\", \"stargazerCount\",\n",
    "                                             \"commits\", \"contributors\", \"branches\"]]\n",
    "\n",
    "selected_projects_table = selected_projects_table.rename(columns={\"project_actual_ownername\": \"Project\",\n",
    "                                        \"nr_merges\": \"Merges\",\n",
    "                                        \"nr_conflicting_merges\": \"Conflicting Merges\",\n",
    "                                        \"chunks\": \"Chunks\",\n",
    "                                        \"stargazerCount\": \"Stars\",\n",
    "                                        \"commits\": \"Commits\",\n",
    "                                        \"contributors\": \"Developers\",\n",
    "                                        \"branches\": \"Branches\"})\n",
    "# float columns to int\n",
    "selected_projects_table[[\"Chunks\", \"Stars\", \"Commits\", \"Developers\", \"Branches\"]] = \\\n",
    "  selected_projects_table[[\"Chunks\", \"Stars\", \"Commits\", \"Developers\", \"Branches\"]].astype(int)\n",
    "\n",
    "selected_projects_table = selected_projects_table.sort_values(by=['Chunks'], ascending=False)\n",
    "selected_projects_table"
   ]
  },
  {
   "cell_type": "markdown",
   "id": "72b116d6",
   "metadata": {},
   "source": [
    "### Fixing columns \"Commits\" and \"Developers\" to show data from Ghiotto's database"
   ]
  },
  {
   "cell_type": "code",
   "execution_count": null,
   "id": "3817d814",
   "metadata": {
    "scrolled": true
   },
   "outputs": [],
   "source": [
    "statistics_bd_project_selected = pd.read_csv(\"../../data/statistics_bd_project_selected.csv\")\n",
    "\n",
    "# fixing project with wrong value\n",
    "statistics_bd_project_selected.at[0, 'commits'] = 246462\n",
    "\n",
    "statistics_bd_project_selected"
   ]
  },
  {
   "cell_type": "code",
   "execution_count": null,
   "id": "fcd3802c",
   "metadata": {
    "scrolled": true
   },
   "outputs": [],
   "source": [
    "commits_devs_from_BD = statistics_bd_project_selected[[\"id\", \"commits\", \"developers\", \"stars\"]]\n",
    "commits_devs_from_BD"
   ]
  },
  {
   "cell_type": "code",
   "execution_count": null,
   "id": "45e4824d",
   "metadata": {
    "scrolled": false
   },
   "outputs": [],
   "source": [
    "table_projects = pd.merge(selected_projects_table, \n",
    "                                   commits_devs_from_BD,\n",
    "                                   on='id', how='inner')\\\n",
    "        .drop(columns=['id', 'Branches', 'Developers', 'Commits', 'Stars'])\\\n",
    "        .rename(columns={\"developers\": \"Developers\",\n",
    "                         \"commits\": \"Commits\",\n",
    "                         \"stars\": \"Stars\"})\n",
    "\n",
    "# fixing project with value 0\n",
    "# table_projects.at[3, 'Commits'] = 246462\n",
    "\n",
    "# table_projects = table_projects.append(table_projects.median(numeric_only=True), ignore_index=True)\n",
    "# table_projects.at[29, 'Project'] = 'Median'\n",
    "table_projects = table_projects.sort_values(by=['Project'], key=lambda x: x.str.lower())\n",
    "table_projects"
   ]
  },
  {
   "cell_type": "code",
   "execution_count": null,
   "id": "5785f7de",
   "metadata": {
    "scrolled": true
   },
   "outputs": [],
   "source": [
    "table_projects.describe()"
   ]
  },
  {
   "cell_type": "code",
   "execution_count": null,
   "id": "d6b3cc41",
   "metadata": {
    "scrolled": false
   },
   "outputs": [],
   "source": [
    "# pd.merge(table_projects, new_projs, on='Project', how='outer')"
   ]
  },
  {
   "cell_type": "code",
   "execution_count": null,
   "id": "021dacf7",
   "metadata": {},
   "outputs": [],
   "source": [
    "# metrics = ['sum', 'median', 'mean', 'std', 'min', quantile_25, quantile_50, quantile_75, 'max']\n",
    "\n",
    "projects_stats = table_projects.agg({'Chunks' : 'sum',\n",
    "                    'Merges' : 'sum',\n",
    "                    'Conflicting Merges' : 'sum',\n",
    "                    'Commits' : 'sum',\n",
    "                    'Developers' : 'sum',\n",
    "                    'Stars' : 'sum'\n",
    "                   })\n",
    "\n",
    "projects_stats['Project'] = 'Total'\n",
    "\n",
    "projects_stats.to_frame().T"
   ]
  },
  {
   "cell_type": "code",
   "execution_count": null,
   "id": "c61f05db",
   "metadata": {},
   "outputs": [],
   "source": [
    "# table_with_stats = pd.concat([table_projects, projects_stats])\n",
    "table_with_stats = table_projects.append(table_projects.sum(numeric_only=True).rename('Total'))\n",
    "\n",
    "table_with_stats.at['Total', 'Project'] = 'Total'\n",
    "\n",
    "table_with_stats = table_with_stats[['Project', 'Stars', 'Developers', 'Commits', 'Merges', 'Conflicting Merges', 'Chunks']]\n",
    "table_with_stats"
   ]
  },
  {
   "cell_type": "code",
   "execution_count": null,
   "id": "630829d7",
   "metadata": {},
   "outputs": [],
   "source": [
    "# boxplot = table_projects.boxplot(rot=45, grid=False, column=['Chunks', 'Merges', 'Conflicting Merges', 'Commits', 'Developers', 'Stars'])"
   ]
  },
  {
   "cell_type": "markdown",
   "id": "c44135a9",
   "metadata": {},
   "source": [
    "### LaTeX output"
   ]
  },
  {
   "cell_type": "code",
   "execution_count": null,
   "id": "75fb17dc",
   "metadata": {
    "scrolled": false
   },
   "outputs": [],
   "source": [
    "# with pd.option_context(\"max_colwidth\", None):\n",
    "#   print(table_projects.to_latex(index=False))\n",
    "table_with_stats.to_csv('../../data/selected_projects_statistics.csv', index=None)\n",
    "with pd.option_context(\"max_colwidth\", None):\n",
    "  print(table_with_stats.to_latex(index=False, float_format=\"{:,.0f}\".format))"
   ]
  },
  {
   "cell_type": "markdown",
   "id": "2cf13d06",
   "metadata": {},
   "source": [
    "## Attributes"
   ]
  },
  {
   "cell_type": "code",
   "execution_count": null,
   "id": "951f6f94",
   "metadata": {
    "scrolled": true
   },
   "outputs": [],
   "source": [
    "attributes = pd.read_csv(\"../../data/attributes.csv\")\n",
    "attributes"
   ]
  },
  {
   "cell_type": "code",
   "execution_count": null,
   "id": "52aa57e9",
   "metadata": {
    "scrolled": false
   },
   "outputs": [],
   "source": [
    "attributes_used = attributes[attributes[\"Name in the dataset\"].notna()]\n",
    "print(f\"{attributes_used.shape[0]} atributes used at the dataset.\") "
   ]
  },
  {
   "cell_type": "code",
   "execution_count": null,
   "id": "04b7d221",
   "metadata": {},
   "outputs": [],
   "source": [
    "attributes_used"
   ]
  },
  {
   "cell_type": "code",
   "execution_count": null,
   "id": "e9839846",
   "metadata": {
    "scrolled": false
   },
   "outputs": [],
   "source": [
    "attrs_table = attributes_used[['Category', 'Attribute', 'Type', 'Scope', 'Details', 'Ref_latex']]\\\n",
    "                .sort_values(by=['Category', 'Scope'])\\\n",
    "                .rename(columns={'Details':'Description',\n",
    "                                 'Ref_latex':'References'})\n",
    "attrs_table"
   ]
  },
  {
   "cell_type": "code",
   "execution_count": null,
   "id": "11c7a99a",
   "metadata": {},
   "outputs": [],
   "source": [
    "t = \"cite\\{menezes\\_what\\_2020\\}\"\n",
    "print(t.replace(\"cite\\\\\", \"\\cite\"))"
   ]
  },
  {
   "cell_type": "code",
   "execution_count": null,
   "id": "4c49a076",
   "metadata": {},
   "outputs": [],
   "source": [
    "with pd.option_context(\"max_colwidth\", None):\n",
    "    txt = attrs_table.to_latex(index=False,\n",
    "                               float_format=\"{:,.0f}\".format,\n",
    "                               column_format=\"p{0.08\\linewidth}p{0.2\\linewidth} p{0.15\\linewidth}\\\n",
    "                               p{0.04\\linewidth}p{0.30\\linewidth}p{0.1\\linewidth}\")\n",
    "    x = re.sub(\"[ \\t]+\", \" \", txt)\\\n",
    "          .replace(\"cite\\\\\", \"\\cite\")\\\n",
    "          .replace(\"\\\\}\", \"}\")\\\n",
    "          .replace(\"\\\\_\", \"_\")\\\n",
    "          .replace(\"NaN \", \"\")\\\n",
    "          .replace(\"\\\\textbackslash \", \"\")\n",
    "\n",
    "    print(x)"
   ]
  },
  {
   "cell_type": "markdown",
   "id": "8058d2cf",
   "metadata": {},
   "source": [
    "# Experiment results summary"
   ]
  },
  {
   "cell_type": "code",
   "execution_count": null,
   "id": "a04cf87c",
   "metadata": {
    "scrolled": true
   },
   "outputs": [],
   "source": [
    "summary = pd.read_csv('../../data/results/experiment_results.csv')\n",
    "'''\n",
    "    Given two dataframes, reorder the second based on the first\n",
    "'''\n",
    "def reorder_projects(original_df, second_df):\n",
    "    projects_order = list(original_df['Project'])\n",
    "    projects_order.remove('Total')\n",
    "    new_df_data = []\n",
    "    for project in projects_order:\n",
    "        rows = second_df[second_df['project'] == project]\n",
    "        if len(rows) == 1:\n",
    "            new_df_data.append(rows.iloc[0])\n",
    "    new_df_data.append(second_df[second_df['project'] == 'Overall'].iloc[0])\n",
    "    return pd.DataFrame(new_df_data, columns=second_df.columns)\n",
    "\n",
    "def get_new_project_name(project_name):\n",
    "    project_row = api_data[api_data['project'] == project_name]\n",
    "    if len(project_row) == 1:\n",
    "        if not pd.isnull(project_row.iloc[0]['project_new_ownername']):\n",
    "            return project_row.iloc[0]['project_new_ownername'] \n",
    "    return project_name\n",
    "\n",
    "summary['project'] = summary['project'].apply(get_new_project_name)\n",
    "summary"
   ]
  },
  {
   "cell_type": "code",
   "execution_count": null,
   "id": "2ce3c514",
   "metadata": {},
   "outputs": [],
   "source": [
    "overall_row = summary.iloc[-1:]\n",
    "summary_wo_overall = summary.iloc[0:-1]\n",
    "summary_wo_overall_sorted = summary_wo_overall.sort_values('norm._improv.', ascending=False)\n",
    "summary_wo_overall_sorted\n",
    "summary_concat = pd.concat([summary_wo_overall_sorted, overall_row])\n",
    "summary = summary_concat[['project', 'norm._improv.', 'accuracy_cv', 'baseline',\n",
    "                          'accuracy_test', 'precision', 'recall', 'f1-score']]\n",
    "summary"
   ]
  },
  {
   "cell_type": "code",
   "execution_count": null,
   "id": "8bf4c115",
   "metadata": {
    "scrolled": false
   },
   "outputs": [],
   "source": [
    "latex_string = summary.to_latex(index=False, float_format=\"{:,.3f}\".format)\n",
    "x = re.sub(\"[ \\t]+\", \" \", latex_string)\n",
    "print(x)"
   ]
  },
  {
   "cell_type": "markdown",
   "id": "a6b592d4",
   "metadata": {},
   "source": [
    "# Experiments results by class"
   ]
  },
  {
   "cell_type": "code",
   "execution_count": null,
   "id": "6aa580c2",
   "metadata": {},
   "outputs": [],
   "source": [
    "import re\n",
    "by_class = pd.read_csv('../../data/results/experiment_by_class.csv')\n",
    "by_class = by_class.round(3)\n",
    "def fix_model_name(model_name):\n",
    "    if 'baseline_' in model_name:\n",
    "        return re.sub('baseline_*.*', 'Baseline', model_name)\n",
    "#         return model_name.replace('baseline_*', 'Baseline')\n",
    "    if 'random forest' in model_name:\n",
    "        return model_name.replace('random forest', 'Random Forest')\n",
    "by_class['model'] = by_class['model'].apply(fix_model_name)\n",
    "by_class"
   ]
  },
  {
   "cell_type": "code",
   "execution_count": null,
   "id": "912b2933",
   "metadata": {},
   "outputs": [],
   "source": [
    "print(by_class.to_latex(index=False))"
   ]
  },
  {
   "cell_type": "markdown",
   "id": "91c99b7e",
   "metadata": {},
   "source": [
    "# Attributes importance top-10"
   ]
  },
  {
   "cell_type": "code",
   "execution_count": null,
   "id": "6176929e",
   "metadata": {},
   "outputs": [],
   "source": [
    "attributes_importance = pd.read_csv('../../data/results/attributes_importance.csv').head(10)"
   ]
  },
  {
   "cell_type": "code",
   "execution_count": null,
   "id": "7ee5cb5a",
   "metadata": {},
   "outputs": [],
   "source": [
    "attributes_scope = pd.read_csv('../../data/results/attributes_scope.csv')\n",
    "attributes_importance = attributes_importance.merge(attributes_scope)[['attribute', 'scope', 'average_information_gain', 'average_rank']].round(2)\n",
    "attributes_importance"
   ]
  },
  {
   "cell_type": "code",
   "execution_count": null,
   "id": "86b61289",
   "metadata": {},
   "outputs": [],
   "source": [
    "print(attributes_importance.to_latex(index=False))"
   ]
  },
  {
   "cell_type": "markdown",
   "id": "749bbc7a",
   "metadata": {},
   "source": [
    "# Top-10 Language Constructs information gain"
   ]
  },
  {
   "cell_type": "code",
   "execution_count": null,
   "id": "6e271832",
   "metadata": {
    "scrolled": false
   },
   "outputs": [],
   "source": [
    "constructs_top10 = pd.read_csv('../../data/results/constructs_ig.csv')\n",
    "constructs_top10 = constructs_top10[constructs_top10.construct != 'Overall']\n",
    "constructs_top10 = constructs_top10.sort_values('avg_information_gain', ascending=False)\\\n",
    "                                   .head(10)\\\n",
    "                                   .round(2)\\\n",
    "                                   .rename(columns={'construct':'Language construct',\n",
    "                                 'avg_information_gain':'Avg. Information gain',\n",
    "                                 'avg_rank': 'Avg. Rank'})\n",
    "constructs_top10"
   ]
  },
  {
   "cell_type": "code",
   "execution_count": null,
   "id": "53f54491",
   "metadata": {
    "scrolled": false
   },
   "outputs": [],
   "source": [
    "print(constructs_top10.to_latex(index=False))"
   ]
  },
  {
   "cell_type": "markdown",
   "id": "f3f43739",
   "metadata": {},
   "source": [
    "# ============ Debug ==========="
   ]
  },
  {
   "cell_type": "code",
   "execution_count": null,
   "id": "6b15e5cf",
   "metadata": {
    "scrolled": true
   },
   "outputs": [],
   "source": [
    "df = pd.read_csv('../../data/selected_dataset_2.csv')\n",
    "df"
   ]
  },
  {
   "cell_type": "code",
   "execution_count": null,
   "id": "1a14dd4d",
   "metadata": {},
   "outputs": [],
   "source": [
    "df.groupby('project').apply(\\\n",
    "        lambda df_x: (df_x.isna().sum().sum()))"
   ]
  },
  {
   "cell_type": "code",
   "execution_count": null,
   "id": "05c7ffa7",
   "metadata": {},
   "outputs": [],
   "source": [
    "df.dropna()\\\n",
    "  .groupby('project').apply(\\\n",
    "        lambda df_x: (df_x.isna().sum().sum()))"
   ]
  },
  {
   "cell_type": "code",
   "execution_count": null,
   "id": "a2e59f2b",
   "metadata": {},
   "outputs": [],
   "source": [
    "df_na = df.isna().sum()\n",
    "df_na"
   ]
  },
  {
   "cell_type": "code",
   "execution_count": null,
   "id": "0bf79657",
   "metadata": {},
   "outputs": [],
   "source": [
    "df_na[df_na != 0]"
   ]
  },
  {
   "cell_type": "code",
   "execution_count": null,
   "id": "18ab8625",
   "metadata": {
    "scrolled": true
   },
   "outputs": [],
   "source": [
    "df.dropna()"
   ]
  },
  {
   "cell_type": "code",
   "execution_count": null,
   "id": "93363ca4",
   "metadata": {
    "scrolled": true
   },
   "outputs": [],
   "source": [
    "df_clean_count = df.dropna().groupby('project').count()\n",
    "df_clean_count"
   ]
  },
  {
   "cell_type": "code",
   "execution_count": null,
   "id": "8c709f2f",
   "metadata": {
    "scrolled": true
   },
   "outputs": [],
   "source": [
    "df_clean_count_big = df_clean_count[df_clean_count.chunk_id >= 10]\n",
    "df_clean_count_big"
   ]
  },
  {
   "cell_type": "code",
   "execution_count": null,
   "id": "2c7664cb",
   "metadata": {},
   "outputs": [],
   "source": [
    "projects_20 = list(df_clean_count_big.index.values)\n",
    "projects_20"
   ]
  },
  {
   "cell_type": "code",
   "execution_count": null,
   "id": "e7481981",
   "metadata": {
    "scrolled": true
   },
   "outputs": [],
   "source": [
    "df.groupby('project').count()"
   ]
  },
  {
   "cell_type": "code",
   "execution_count": null,
   "id": "0e6d5b6a",
   "metadata": {
    "scrolled": true
   },
   "outputs": [],
   "source": [
    "df.dropna().groupby('project').count()"
   ]
  },
  {
   "cell_type": "code",
   "execution_count": null,
   "id": "024b1103",
   "metadata": {},
   "outputs": [],
   "source": [
    "all_constructors = ['Class declaration', 'Return statement', 'Array access', 'Cast expression', \n",
    "                            'Attribute', 'Array initializer', 'Do statement', 'Case statement', 'Other', 'Method signature', 'Break statement',\n",
    "                            'TypeDeclarationStatement', 'Comment', 'Method invocation', 'Package declaration', 'While statement', \n",
    "                            'Interface signature', 'Variable', 'Enum value', 'Class signature', 'Annotation', 'Method interface',\n",
    "                            'Interface declaration', 'Synchronized statement', 'Throw statement', 'Switch statement', 'Catch clause',\n",
    "                            'Try statement', 'Annotation declaration', 'For statement', 'Enum declaration', 'Enum signature', 'Assert statement',\n",
    "                            'Static initializer', 'If statement', 'Method declaration', 'Continue statement', 'Import', 'Blank']"
   ]
  },
  {
   "cell_type": "code",
   "execution_count": null,
   "id": "144043e8",
   "metadata": {
    "scrolled": true
   },
   "outputs": [],
   "source": [
    "proj_constr = ['project', 'developerdecision'] + all_constructors\n",
    "\n",
    "df_constructs = df[df.project.isin(projects_20)]\\\n",
    "                  .dropna()\\\n",
    "                  .filter(items=proj_constr)\n",
    "df_constructs"
   ]
  },
  {
   "cell_type": "code",
   "execution_count": null,
   "id": "f7852a52",
   "metadata": {},
   "outputs": [],
   "source": [
    "df_constructs[all_constructors]"
   ]
  },
  {
   "cell_type": "code",
   "execution_count": null,
   "id": "0da5617b",
   "metadata": {},
   "outputs": [],
   "source": [
    "df_constructs.apply(lambda x: classifi if x.name in ['x', 'y'] else x)"
   ]
  },
  {
   "cell_type": "code",
   "execution_count": null,
   "id": "c2dd5afb",
   "metadata": {
    "scrolled": false
   },
   "outputs": [],
   "source": [
    "df[df.project.isin(projects_20)]\\\n",
    "  .dropna()\\\n",
    "  .groupby('project').apply(\\\n",
    "        lambda df_x: pd.Series({'information gain': df_x,\n",
    "                                \n",
    "                                     'entropy': entropy(df_x, attrib, y_attrib)})"
   ]
  },
  {
   "cell_type": "markdown",
   "id": "c8fdeb60",
   "metadata": {},
   "source": [
    "### Frequency of language constructs on all projects."
   ]
  },
  {
   "cell_type": "code",
   "execution_count": null,
   "id": "4d9cff06",
   "metadata": {
    "scrolled": true
   },
   "outputs": [],
   "source": [
    "selected_dataset_2"
   ]
  },
  {
   "cell_type": "code",
   "execution_count": null,
   "id": "69401469",
   "metadata": {
    "scrolled": true
   },
   "outputs": [],
   "source": [
    "selected_dataset_2[['Import', 'developerdecision']]"
   ]
  },
  {
   "cell_type": "code",
   "execution_count": null,
   "id": "dba8e192",
   "metadata": {},
   "outputs": [],
   "source": [
    "selected_dataset_2[['Import', 'developerdecision']].groupby('Import').count()"
   ]
  },
  {
   "cell_type": "markdown",
   "id": "ddcbd12b",
   "metadata": {},
   "source": [
    "Distribution of 'Import' and 'developer decision'."
   ]
  },
  {
   "cell_type": "code",
   "execution_count": null,
   "id": "14d08761",
   "metadata": {},
   "outputs": [],
   "source": [
    "selected_dataset_2[['Import', 'developerdecision']].apply(lambda x: x.value_counts(normalize=True) * 100)\n",
    "# .count()"
   ]
  },
  {
   "cell_type": "markdown",
   "id": "81283ac0",
   "metadata": {},
   "source": [
    "Distribution of classes, grouped by values of Import (0 and 1).\n",
    "\n",
    "The value 1 means that the chunk has an Import construct."
   ]
  },
  {
   "cell_type": "code",
   "execution_count": null,
   "id": "c75b74fc",
   "metadata": {},
   "outputs": [],
   "source": [
    "import_dist = selected_dataset_2[['Import', 'developerdecision']].groupby(['Import']).apply(\\\n",
    "        lambda df_x: (df_x.groupby(['developerdecision']).count() * 100) / df_x.shape[0])\n",
    "import_dist"
   ]
  },
  {
   "cell_type": "code",
   "execution_count": null,
   "id": "be5bd12e",
   "metadata": {
    "scrolled": true
   },
   "outputs": [],
   "source": [
    "import_dist.unstack()"
   ]
  },
  {
   "cell_type": "code",
   "execution_count": null,
   "id": "b5ece0a3",
   "metadata": {
    "scrolled": false
   },
   "outputs": [],
   "source": [
    "import_dist.unstack().plot(kind='bar', figsize=(10,8))"
   ]
  },
  {
   "cell_type": "markdown",
   "id": "2e1acf15",
   "metadata": {},
   "source": [
    "Distribution of classes on the whole dataset."
   ]
  },
  {
   "cell_type": "code",
   "execution_count": null,
   "id": "758d10c7",
   "metadata": {},
   "outputs": [],
   "source": [
    "dataset_dist = selected_dataset_2[['Import', 'developerdecision']].groupby(['developerdecision']).count()\\\n",
    "  .apply(lambda x: x*100/x.sum())\\\n",
    "#   .sort_values(by=['Import'], ascending=False)\n",
    "dataset_dist"
   ]
  },
  {
   "cell_type": "code",
   "execution_count": null,
   "id": "bc28bcc0",
   "metadata": {},
   "outputs": [],
   "source": [
    "dataset_dist.plot(kind='bar', figsize=(10,8))"
   ]
  },
  {
   "cell_type": "code",
   "execution_count": null,
   "id": "ae08b01a",
   "metadata": {},
   "outputs": [],
   "source": [
    "selected_dataset_2.columns"
   ]
  },
  {
   "cell_type": "code",
   "execution_count": null,
   "id": "cbb6566b",
   "metadata": {},
   "outputs": [],
   "source": [
    "all_constructors = ['Class declaration', 'Return statement', 'Array access', 'Cast expression', \n",
    "                            'Attribute', 'Array initializer', 'Do statement', 'Case statement', 'Other', 'Method signature', 'Break statement',\n",
    "                            'TypeDeclarationStatement', 'Comment', 'Method invocation', 'Package declaration', 'While statement', \n",
    "                            'Interface signature', 'Variable', 'Enum value', 'Class signature', 'Annotation', 'Method interface',\n",
    "                            'Interface declaration', 'Synchronized statement', 'Throw statement', 'Switch statement', 'Catch clause',\n",
    "                            'Try statement', 'Annotation declaration', 'For statement', 'Enum declaration', 'Enum signature', 'Assert statement',\n",
    "                            'Static initializer', 'If statement', 'Method declaration', 'Continue statement', 'Import', 'Blank']"
   ]
  },
  {
   "cell_type": "code",
   "execution_count": null,
   "id": "3253902b",
   "metadata": {},
   "outputs": [],
   "source": [
    "selected_dataset_2[all_constructors]"
   ]
  },
  {
   "cell_type": "code",
   "execution_count": null,
   "id": "9a4ac130",
   "metadata": {
    "scrolled": true
   },
   "outputs": [],
   "source": [
    "constructs_freq = selected_dataset_2[all_constructors].apply(lambda s: s.value_counts(normalize=True)*100).T\\\n",
    "  .sort_values(by=[1], ascending=False)\n",
    "constructs_freq"
   ]
  },
  {
   "cell_type": "code",
   "execution_count": null,
   "id": "aacad540",
   "metadata": {},
   "outputs": [],
   "source": [
    "constructs_top10.set_index('Language construct')\\\n",
    "  .join(constructs_freq)\\\n",
    "  .drop(columns=[0])\\\n",
    "  .rename(columns={1:'Frequency %'})"
   ]
  },
  {
   "cell_type": "markdown",
   "id": "8d7d6cd5",
   "metadata": {},
   "source": [
    "# Language construct top-1 per project"
   ]
  },
  {
   "cell_type": "code",
   "execution_count": null,
   "id": "cc0b7c6f",
   "metadata": {},
   "outputs": [],
   "source": [
    "constructs_per_project = pd.read_csv('../../data/results/constructs_importance_projects.csv')\n",
    "def fix_project_name(project_name):\n",
    "    return project_name.replace('__','/')\n",
    "constructs_per_project['project'] = constructs_per_project['project'].apply(fix_project_name)\n",
    "constructs_per_project['project'] = constructs_per_project['project'].apply(get_new_project_name)\n",
    "constructs_per_project = reorder_projects(table_with_stats, constructs_per_project).reset_index(drop=True)\n",
    "constructs_per_project['information_gain'] = constructs_per_project['information_gain'].round(3)\n",
    "data_rows = constructs_per_project.iloc[:-1 , :]\\\n",
    "  .sort_values(by=['information_gain'], ascending=False)\n",
    "overall_row = constructs_per_project.iloc[-1: , :]\n",
    "constructs_per_project = pd.concat([data_rows, overall_row])\n",
    "constructs_per_project"
   ]
  },
  {
   "cell_type": "code",
   "execution_count": null,
   "id": "45799998",
   "metadata": {},
   "outputs": [],
   "source": [
    "# def fix_big_construct_name(construct_name):\n",
    "#     if construct_name == 'Method invocation':\n",
    "#         part1 = construct_name.split()[0]\n",
    "#         part2 = construct_name.split()[1]\n",
    "#         return \"\\\\begin{tabular}[l]{@{}c@{}}\" + part1 + \"\\\\\\\\\" + part2 + \"\\end{tabular}\"\n",
    "#     return construct_name\n",
    "# constructs_per_project['construct'] = constructs_per_project['construct'].apply(fix_big_construct_name)\n",
    "# constructs_per_project"
   ]
  },
  {
   "cell_type": "code",
   "execution_count": null,
   "id": "49128e42",
   "metadata": {},
   "outputs": [],
   "source": [
    "constructs = constructs_per_project.rename(columns={'project':'Project',\n",
    "                                       'construct':'Construct',\n",
    "                                       'information_gain':'Information gain',\n",
    "                                       'rank': 'Rank'})\n",
    "\n",
    "constructs['Rank'] = constructs['Rank'].astype(int)\n",
    "\n",
    "print(constructs.to_latex(index=False,\n",
    "                          float_format=\"{:,.3f}\".format,\n",
    "                          column_format=\"p{5cm}p{3cm}p{2cm}p{1cm}\"))"
   ]
  },
  {
   "cell_type": "markdown",
   "id": "624c99bf",
   "metadata": {},
   "source": [
    "# Developers importance per project"
   ]
  },
  {
   "cell_type": "code",
   "execution_count": null,
   "id": "914d1e18",
   "metadata": {},
   "outputs": [],
   "source": [
    "def is_authorship_feature(feature_name):\n",
    "    if '.' in feature_name or '@' in feature_name:\n",
    "        return True"
   ]
  },
  {
   "cell_type": "code",
   "execution_count": null,
   "id": "5f726980",
   "metadata": {
    "scrolled": true
   },
   "outputs": [],
   "source": [
    "developers_per_project = pd.read_csv('../../data/results/developers_importance.csv')\n",
    "developers_per_project['project'] = developers_per_project['project'].apply(fix_project_name)\n",
    "developers_per_project['project'] = developers_per_project['project'].apply(get_new_project_name)\n",
    "developers_per_project = reorder_projects(table_with_stats, developers_per_project).reset_index(drop=True)\n",
    "developers_per_project['information_gain'] = developers_per_project['information_gain'].round(3)\n",
    "developers_per_project = developers_per_project.drop('author', axis=1)\n",
    "developers_per_project['rank'] = developers_per_project['rank'].astype(int)\n",
    "data_rows = developers_per_project.iloc[:-1 , :]\\\n",
    "  .sort_values(by=['information_gain'], ascending=False)\n",
    "overall_row = developers_per_project.iloc[-1: , :]\n",
    "developers_per_project = pd.concat([data_rows, overall_row])\n",
    "developers_per_project"
   ]
  },
  {
   "cell_type": "code",
   "execution_count": null,
   "id": "434b06b0",
   "metadata": {},
   "outputs": [],
   "source": [
    "print(developers_per_project.to_latex(index=False))"
   ]
  },
  {
   "cell_type": "code",
   "execution_count": null,
   "id": "33664916",
   "metadata": {},
   "outputs": [],
   "source": [
    "cci_training = pd.read_csv(\"../../data/projects/CCI-MIT__XCoLab-training.csv\")\n",
    "cci_training"
   ]
  },
  {
   "cell_type": "code",
   "execution_count": null,
   "id": "bd78e7ee",
   "metadata": {
    "scrolled": true
   },
   "outputs": [],
   "source": [
    "cci_test = pd.read_csv(\"../../data/projects/CCI-MIT__XCoLab-test.csv\")\n",
    "cci_test"
   ]
  },
  {
   "cell_type": "code",
   "execution_count": null,
   "id": "507e6f4e",
   "metadata": {},
   "outputs": [],
   "source": [
    "cci = pd.concat([cci_training, cci_test])\n",
    "cci"
   ]
  },
  {
   "cell_type": "code",
   "execution_count": null,
   "id": "40ae5870",
   "metadata": {},
   "outputs": [],
   "source": [
    "cci_devs = cci.filter(regex=(\"developerdecision|.*@.*\\..*\"))\n",
    "cci_devs"
   ]
  },
  {
   "cell_type": "code",
   "execution_count": null,
   "id": "4ae50edb",
   "metadata": {},
   "outputs": [],
   "source": [
    "cci_devs.apply(lambda x: x.value_counts(normalize=True) * 100)"
   ]
  },
  {
   "cell_type": "code",
   "execution_count": null,
   "id": "5dbaaa74",
   "metadata": {},
   "outputs": [],
   "source": [
    "cci_devs[['developerdecision', 'steverab93@gmail.com']].groupby('steverab93@gmail.com').count()"
   ]
  },
  {
   "cell_type": "code",
   "execution_count": null,
   "id": "52f0b69d",
   "metadata": {
    "scrolled": true
   },
   "outputs": [],
   "source": [
    "steverab93_dist = cci_devs[['steverab93@gmail.com', 'developerdecision']].groupby(['steverab93@gmail.com']).apply(\\\n",
    "        lambda df_x: (df_x.groupby(['developerdecision']).count() * 100) / df_x.shape[0])\n",
    "steverab93_dist"
   ]
  },
  {
   "cell_type": "code",
   "execution_count": null,
   "id": "b7ae89d1",
   "metadata": {},
   "outputs": [],
   "source": [
    "def dev_dist(project, dev_email):\n",
    "    training = pd.read_csv(f\"../../data/projects/{project}-training.csv\")\n",
    "    test = pd.read_csv(f\"../../data/projects/{project}-test.csv\")\n",
    "    proj = pd.concat([training, test])\n",
    "    devs = proj.filter(regex=(\"developerdecision|.*@.*\\..*\"))\n",
    "    df_count = devs[['developerdecision', dev_email]].groupby(dev_email).count()\n",
    "    count0 = df_count['developerdecision'][0]\n",
    "    count1 = df_count['developerdecision'][1]\n",
    "    percentage = count1 / (count0 + count1)\n",
    "    print(f\"Chunks of {dev_email}: {count1} from {count0 + count1}.\\n{round(percentage*100,2)}% of the chunks\")\n",
    "    return devs[[dev_email, 'developerdecision']].groupby([dev_email]).apply(\\\n",
    "            lambda df_x: (df_x.groupby(['developerdecision']).count() * 100) / df_x.shape[0])\\\n",
    "            .unstack()"
   ]
  },
  {
   "cell_type": "code",
   "execution_count": null,
   "id": "2dc57f8a",
   "metadata": {},
   "outputs": [],
   "source": [
    "dev_dist('CCI-MIT__XCoLab', 'steverab93@gmail.com')"
   ]
  },
  {
   "cell_type": "code",
   "execution_count": null,
   "id": "3009fb65",
   "metadata": {},
   "outputs": [],
   "source": [
    "dev_dist('apache__directory-server', 'akarasulu@apache.org')"
   ]
  },
  {
   "cell_type": "code",
   "execution_count": null,
   "id": "e7bcfae4",
   "metadata": {},
   "outputs": [],
   "source": [
    "dev_dist('Ramblurr__Anki-Android', 'martin.andre@gmail.com')"
   ]
  },
  {
   "cell_type": "code",
   "execution_count": null,
   "id": "dcec7b1c",
   "metadata": {},
   "outputs": [],
   "source": []
  }
 ],
 "metadata": {
  "kernelspec": {
   "display_name": "Python 3",
   "language": "python",
   "name": "python3"
  },
  "language_info": {
   "codemirror_mode": {
    "name": "ipython",
    "version": 3
   },
   "file_extension": ".py",
   "mimetype": "text/x-python",
   "name": "python",
   "nbconvert_exporter": "python",
   "pygments_lexer": "ipython3",
   "version": "3.6.9"
  }
 },
 "nbformat": 4,
 "nbformat_minor": 5
}
