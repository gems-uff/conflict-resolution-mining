{
 "cells": [
  {
   "cell_type": "code",
   "execution_count": 76,
   "metadata": {},
   "outputs": [],
   "source": [
    "import pandas as pd\n",
    "pd.set_option('display.max_columns', None)\n",
    "from sklearn.tree import DecisionTreeClassifier\n",
    "from sklearn.ensemble import RandomForestClassifier\n",
    "from sklearn.ensemble import AdaBoostClassifier\n",
    "from xgboost import XGBRFClassifier\n",
    "import warnings\n",
    "import classifier_utils\n",
    "import seaborn as sns\n",
    "warnings.filterwarnings(\"ignore\", category=UserWarning)\n",
    "\n",
    "from sklearn.metrics import classification_report\n",
    "from sklearn.model_selection import cross_val_predict, GridSearchCV"
   ]
  },
  {
   "cell_type": "code",
   "execution_count": 7,
   "metadata": {},
   "outputs": [],
   "source": [
    "non_features_columns = [\"chunk_id\", \"line_start\", \"line_end\", \"line_separator\", \"kind_conflict\", \"url\", \"project\"]\n",
    "non_features_columns.extend([\"project_user\", \"project_name\", \"path\", \"file_name\", \"sha\", \"leftsha\", \"rightsha\", \"basesha\"])"
   ]
  },
  {
   "cell_type": "code",
   "execution_count": 8,
   "metadata": {},
   "outputs": [],
   "source": [
    "selected_dataset = pd.read_csv(\"../../data/SELECTED_LABELLED_DATASET.csv\")\n",
    "projects = list(selected_dataset['project'].unique())"
   ]
  },
  {
   "cell_type": "markdown",
   "metadata": {},
   "source": [
    "# Class distributions"
   ]
  },
  {
   "cell_type": "markdown",
   "metadata": {},
   "source": [
    "### Normalized (%)"
   ]
  },
  {
   "cell_type": "code",
   "execution_count": 9,
   "metadata": {},
   "outputs": [
    {
     "data": {
      "text/plain": "                                              Project  Version 1  Version 2  \\\n0                               Ramblurr/Anki-Android      43.87      29.25   \n1                             apache/directory-server      47.39      51.23   \n2                    android/platform_frameworks_base      70.77       7.64   \n3                                        freenet/fred      40.42      16.50   \n4                                         alexo/wro4j      30.70      14.77   \n5                                  apache/lucene-solr      25.05      26.59   \n6                               elastic/elasticsearch       0.00       0.00   \n7                                      getrailo/railo      31.99      37.76   \n8                                      atlasapi/atlas      24.04      44.50   \n9                             hibernate/hibernate-orm      23.88      20.11   \n10               CloudStack-extras/CloudStack-archive      43.67      17.72   \n11                              TeamDev-Ltd/OpenFaces      93.84       1.47   \n12                              eucalyptus/eucalyptus      42.30      22.62   \n13                                           zkoss/zk      60.16      10.90   \n14                              eclipse/jetty.project       0.00       0.00   \n15                               alkacon/opencms-core      94.40       3.21   \n16                                SINTEF-9012/ThingML      93.76       0.61   \n17                    cgjones/android-frameworks-base      74.69      10.80   \n18                                    apache/accumulo      63.50      18.58   \n19                                    Unidata/thredds      12.42      77.68   \n20                         revolsys/com.revolsys.open       0.00       0.00   \n21            IceColdSandwich/android_frameworks_base      72.59       9.30   \n22                      AOKP/frameworks_base_disabled      71.09       9.78   \n23  adetaylor/android-frameworks-base-with-remote-...       0.00       0.00   \n24                                    jgralab/jgralab      49.11      37.18   \n25                               sebastianbenz/Jnario      99.91       0.00   \n26                                     CCI-MIT/XCoLab      57.31      17.03   \n27  RealVNC/android-frameworks-base-with-screensho...      71.11       8.39   \n28             allwinner-ics/platform_frameworks_base      71.27       9.86   \n\n    Combination  ConcatenationV1V2  ConcatenationV2V1  Manual  None  \n0          8.43               1.32               0.92   16.07  0.13  \n1          0.15               0.00               0.00    1.23  0.00  \n2          9.02               2.68               1.42    8.13  0.33  \n3         23.32               6.23               0.49   12.94  0.10  \n4         28.65               0.88               1.02   23.61  0.37  \n5         20.33               5.24               0.31   21.66  0.82  \n6          0.00               0.00               0.00    0.00  0.00  \n7          8.74               7.17               0.35   13.81  0.17  \n8         12.40               5.37               0.90   12.53  0.26  \n9         31.15               7.40               1.12   14.11  2.23  \n10         9.49              16.00               1.27   11.39  0.45  \n11         1.47               0.45               0.21    2.52  0.03  \n12        15.39               4.02               1.34   13.52  0.80  \n13        11.35               1.48               0.68   15.21  0.23  \n14         0.00               0.00               0.00    0.00  0.00  \n15         0.36               0.00               0.36    1.55  0.12  \n16         1.64               0.31               0.10    3.48  0.10  \n17         5.31               1.24               0.53    7.43  0.00  \n18         6.83               0.76               0.95    9.05  0.32  \n19         2.11               0.00               0.42    7.16  0.21  \n20       100.00               0.00               0.00    0.00  0.00  \n21         7.71               2.35               1.59    6.20  0.25  \n22         8.03               2.19               1.46    7.23  0.22  \n23         0.00               0.00               0.00    0.00  0.00  \n24         5.44               0.61               0.22    7.44  0.00  \n25         0.01               0.00               0.00    0.06  0.01  \n26         0.51               0.24               0.05   24.86  0.00  \n27         8.07               2.05               1.79    8.26  0.32  \n28         7.75               2.53               1.68    6.66  0.25  ",
      "text/html": "<div>\n<style scoped>\n    .dataframe tbody tr th:only-of-type {\n        vertical-align: middle;\n    }\n\n    .dataframe tbody tr th {\n        vertical-align: top;\n    }\n\n    .dataframe thead th {\n        text-align: right;\n    }\n</style>\n<table border=\"1\" class=\"dataframe\">\n  <thead>\n    <tr style=\"text-align: right;\">\n      <th></th>\n      <th>Project</th>\n      <th>Version 1</th>\n      <th>Version 2</th>\n      <th>Combination</th>\n      <th>ConcatenationV1V2</th>\n      <th>ConcatenationV2V1</th>\n      <th>Manual</th>\n      <th>None</th>\n    </tr>\n  </thead>\n  <tbody>\n    <tr>\n      <th>0</th>\n      <td>Ramblurr/Anki-Android</td>\n      <td>43.87</td>\n      <td>29.25</td>\n      <td>8.43</td>\n      <td>1.32</td>\n      <td>0.92</td>\n      <td>16.07</td>\n      <td>0.13</td>\n    </tr>\n    <tr>\n      <th>1</th>\n      <td>apache/directory-server</td>\n      <td>47.39</td>\n      <td>51.23</td>\n      <td>0.15</td>\n      <td>0.00</td>\n      <td>0.00</td>\n      <td>1.23</td>\n      <td>0.00</td>\n    </tr>\n    <tr>\n      <th>2</th>\n      <td>android/platform_frameworks_base</td>\n      <td>70.77</td>\n      <td>7.64</td>\n      <td>9.02</td>\n      <td>2.68</td>\n      <td>1.42</td>\n      <td>8.13</td>\n      <td>0.33</td>\n    </tr>\n    <tr>\n      <th>3</th>\n      <td>freenet/fred</td>\n      <td>40.42</td>\n      <td>16.50</td>\n      <td>23.32</td>\n      <td>6.23</td>\n      <td>0.49</td>\n      <td>12.94</td>\n      <td>0.10</td>\n    </tr>\n    <tr>\n      <th>4</th>\n      <td>alexo/wro4j</td>\n      <td>30.70</td>\n      <td>14.77</td>\n      <td>28.65</td>\n      <td>0.88</td>\n      <td>1.02</td>\n      <td>23.61</td>\n      <td>0.37</td>\n    </tr>\n    <tr>\n      <th>5</th>\n      <td>apache/lucene-solr</td>\n      <td>25.05</td>\n      <td>26.59</td>\n      <td>20.33</td>\n      <td>5.24</td>\n      <td>0.31</td>\n      <td>21.66</td>\n      <td>0.82</td>\n    </tr>\n    <tr>\n      <th>6</th>\n      <td>elastic/elasticsearch</td>\n      <td>0.00</td>\n      <td>0.00</td>\n      <td>0.00</td>\n      <td>0.00</td>\n      <td>0.00</td>\n      <td>0.00</td>\n      <td>0.00</td>\n    </tr>\n    <tr>\n      <th>7</th>\n      <td>getrailo/railo</td>\n      <td>31.99</td>\n      <td>37.76</td>\n      <td>8.74</td>\n      <td>7.17</td>\n      <td>0.35</td>\n      <td>13.81</td>\n      <td>0.17</td>\n    </tr>\n    <tr>\n      <th>8</th>\n      <td>atlasapi/atlas</td>\n      <td>24.04</td>\n      <td>44.50</td>\n      <td>12.40</td>\n      <td>5.37</td>\n      <td>0.90</td>\n      <td>12.53</td>\n      <td>0.26</td>\n    </tr>\n    <tr>\n      <th>9</th>\n      <td>hibernate/hibernate-orm</td>\n      <td>23.88</td>\n      <td>20.11</td>\n      <td>31.15</td>\n      <td>7.40</td>\n      <td>1.12</td>\n      <td>14.11</td>\n      <td>2.23</td>\n    </tr>\n    <tr>\n      <th>10</th>\n      <td>CloudStack-extras/CloudStack-archive</td>\n      <td>43.67</td>\n      <td>17.72</td>\n      <td>9.49</td>\n      <td>16.00</td>\n      <td>1.27</td>\n      <td>11.39</td>\n      <td>0.45</td>\n    </tr>\n    <tr>\n      <th>11</th>\n      <td>TeamDev-Ltd/OpenFaces</td>\n      <td>93.84</td>\n      <td>1.47</td>\n      <td>1.47</td>\n      <td>0.45</td>\n      <td>0.21</td>\n      <td>2.52</td>\n      <td>0.03</td>\n    </tr>\n    <tr>\n      <th>12</th>\n      <td>eucalyptus/eucalyptus</td>\n      <td>42.30</td>\n      <td>22.62</td>\n      <td>15.39</td>\n      <td>4.02</td>\n      <td>1.34</td>\n      <td>13.52</td>\n      <td>0.80</td>\n    </tr>\n    <tr>\n      <th>13</th>\n      <td>zkoss/zk</td>\n      <td>60.16</td>\n      <td>10.90</td>\n      <td>11.35</td>\n      <td>1.48</td>\n      <td>0.68</td>\n      <td>15.21</td>\n      <td>0.23</td>\n    </tr>\n    <tr>\n      <th>14</th>\n      <td>eclipse/jetty.project</td>\n      <td>0.00</td>\n      <td>0.00</td>\n      <td>0.00</td>\n      <td>0.00</td>\n      <td>0.00</td>\n      <td>0.00</td>\n      <td>0.00</td>\n    </tr>\n    <tr>\n      <th>15</th>\n      <td>alkacon/opencms-core</td>\n      <td>94.40</td>\n      <td>3.21</td>\n      <td>0.36</td>\n      <td>0.00</td>\n      <td>0.36</td>\n      <td>1.55</td>\n      <td>0.12</td>\n    </tr>\n    <tr>\n      <th>16</th>\n      <td>SINTEF-9012/ThingML</td>\n      <td>93.76</td>\n      <td>0.61</td>\n      <td>1.64</td>\n      <td>0.31</td>\n      <td>0.10</td>\n      <td>3.48</td>\n      <td>0.10</td>\n    </tr>\n    <tr>\n      <th>17</th>\n      <td>cgjones/android-frameworks-base</td>\n      <td>74.69</td>\n      <td>10.80</td>\n      <td>5.31</td>\n      <td>1.24</td>\n      <td>0.53</td>\n      <td>7.43</td>\n      <td>0.00</td>\n    </tr>\n    <tr>\n      <th>18</th>\n      <td>apache/accumulo</td>\n      <td>63.50</td>\n      <td>18.58</td>\n      <td>6.83</td>\n      <td>0.76</td>\n      <td>0.95</td>\n      <td>9.05</td>\n      <td>0.32</td>\n    </tr>\n    <tr>\n      <th>19</th>\n      <td>Unidata/thredds</td>\n      <td>12.42</td>\n      <td>77.68</td>\n      <td>2.11</td>\n      <td>0.00</td>\n      <td>0.42</td>\n      <td>7.16</td>\n      <td>0.21</td>\n    </tr>\n    <tr>\n      <th>20</th>\n      <td>revolsys/com.revolsys.open</td>\n      <td>0.00</td>\n      <td>0.00</td>\n      <td>100.00</td>\n      <td>0.00</td>\n      <td>0.00</td>\n      <td>0.00</td>\n      <td>0.00</td>\n    </tr>\n    <tr>\n      <th>21</th>\n      <td>IceColdSandwich/android_frameworks_base</td>\n      <td>72.59</td>\n      <td>9.30</td>\n      <td>7.71</td>\n      <td>2.35</td>\n      <td>1.59</td>\n      <td>6.20</td>\n      <td>0.25</td>\n    </tr>\n    <tr>\n      <th>22</th>\n      <td>AOKP/frameworks_base_disabled</td>\n      <td>71.09</td>\n      <td>9.78</td>\n      <td>8.03</td>\n      <td>2.19</td>\n      <td>1.46</td>\n      <td>7.23</td>\n      <td>0.22</td>\n    </tr>\n    <tr>\n      <th>23</th>\n      <td>adetaylor/android-frameworks-base-with-remote-...</td>\n      <td>0.00</td>\n      <td>0.00</td>\n      <td>0.00</td>\n      <td>0.00</td>\n      <td>0.00</td>\n      <td>0.00</td>\n      <td>0.00</td>\n    </tr>\n    <tr>\n      <th>24</th>\n      <td>jgralab/jgralab</td>\n      <td>49.11</td>\n      <td>37.18</td>\n      <td>5.44</td>\n      <td>0.61</td>\n      <td>0.22</td>\n      <td>7.44</td>\n      <td>0.00</td>\n    </tr>\n    <tr>\n      <th>25</th>\n      <td>sebastianbenz/Jnario</td>\n      <td>99.91</td>\n      <td>0.00</td>\n      <td>0.01</td>\n      <td>0.00</td>\n      <td>0.00</td>\n      <td>0.06</td>\n      <td>0.01</td>\n    </tr>\n    <tr>\n      <th>26</th>\n      <td>CCI-MIT/XCoLab</td>\n      <td>57.31</td>\n      <td>17.03</td>\n      <td>0.51</td>\n      <td>0.24</td>\n      <td>0.05</td>\n      <td>24.86</td>\n      <td>0.00</td>\n    </tr>\n    <tr>\n      <th>27</th>\n      <td>RealVNC/android-frameworks-base-with-screensho...</td>\n      <td>71.11</td>\n      <td>8.39</td>\n      <td>8.07</td>\n      <td>2.05</td>\n      <td>1.79</td>\n      <td>8.26</td>\n      <td>0.32</td>\n    </tr>\n    <tr>\n      <th>28</th>\n      <td>allwinner-ics/platform_frameworks_base</td>\n      <td>71.27</td>\n      <td>9.86</td>\n      <td>7.75</td>\n      <td>2.53</td>\n      <td>1.68</td>\n      <td>6.66</td>\n      <td>0.25</td>\n    </tr>\n  </tbody>\n</table>\n</div>"
     },
     "execution_count": 9,
     "metadata": {},
     "output_type": "execute_result"
    }
   ],
   "source": [
    "class_distribution_normalized = classifier_utils.get_projects_class_distribution(projects)\n",
    "\n",
    "class_distribution_normalized"
   ]
  },
  {
   "cell_type": "markdown",
   "metadata": {},
   "source": [
    "### Count"
   ]
  },
  {
   "cell_type": "code",
   "execution_count": 10,
   "metadata": {},
   "outputs": [
    {
     "data": {
      "text/plain": "                                              Project  Version 1  Version 2  \\\n0                               Ramblurr/Anki-Android        333        222   \n1                             apache/directory-server        309        334   \n2                    android/platform_frameworks_base       1741        188   \n3                                        freenet/fred        409        167   \n4                                         alexo/wro4j        420        202   \n5                                  apache/lucene-solr        244        259   \n6                               elastic/elasticsearch          0          0   \n7                                      getrailo/railo        183        216   \n8                                      atlasapi/atlas        188        348   \n9                             hibernate/hibernate-orm        171        144   \n10               CloudStack-extras/CloudStack-archive        483        196   \n11                              TeamDev-Ltd/OpenFaces       2683         42   \n12                              eucalyptus/eucalyptus        316        169   \n13                                           zkoss/zk        530         96   \n14                              eclipse/jetty.project          0          0   \n15                               alkacon/opencms-core        793         27   \n16                                SINTEF-9012/ThingML        916          6   \n17                    cgjones/android-frameworks-base        422         61   \n18                                    apache/accumulo       1999        585   \n19                                    Unidata/thredds        118        738   \n20                         revolsys/com.revolsys.open          0          0   \n21            IceColdSandwich/android_frameworks_base        866        111   \n22                      AOKP/frameworks_base_disabled        974        134   \n23  adetaylor/android-frameworks-base-with-remote-...          0          0   \n24                                    jgralab/jgralab        885        670   \n25                               sebastianbenz/Jnario       8166          0   \n26                                     CCI-MIT/XCoLab       2153        640   \n27  RealVNC/android-frameworks-base-with-screensho...       1110        131   \n28             allwinner-ics/platform_frameworks_base        846        117   \n\n    Combination  ConcatenationV1V2  ConcatenationV2V1  Manual  None  \n0            64                 10                  7     122     1  \n1             1                  0                  0       8     0  \n2           222                 66                 35     200     8  \n3           236                 63                  5     131     1  \n4           392                 12                 14     323     5  \n5           198                 51                  3     211     8  \n6             0                  0                  0       0     0  \n7            50                 41                  2      79     1  \n8            97                 42                  7      98     2  \n9           223                 53                  8     101    16  \n10          105                177                 14     126     5  \n11           42                 13                  6      72     1  \n12          115                 30                 10     101     6  \n13          100                 13                  6     134     2  \n14            0                  0                  0       0     0  \n15            3                  0                  3      13     1  \n16           16                  3                  1      34     1  \n17           30                  7                  3      42     0  \n18          215                 24                 30     285    10  \n19           20                  0                  4      68     2  \n20            1                  0                  0       0     0  \n21           92                 28                 19      74     3  \n22          110                 30                 20      99     3  \n23            0                  0                  0       0     0  \n24           98                 11                  4     134     0  \n25            1                  0                  0       5     1  \n26           19                  9                  2     934     0  \n27          126                 32                 28     129     5  \n28           92                 30                 20      79     3  ",
      "text/html": "<div>\n<style scoped>\n    .dataframe tbody tr th:only-of-type {\n        vertical-align: middle;\n    }\n\n    .dataframe tbody tr th {\n        vertical-align: top;\n    }\n\n    .dataframe thead th {\n        text-align: right;\n    }\n</style>\n<table border=\"1\" class=\"dataframe\">\n  <thead>\n    <tr style=\"text-align: right;\">\n      <th></th>\n      <th>Project</th>\n      <th>Version 1</th>\n      <th>Version 2</th>\n      <th>Combination</th>\n      <th>ConcatenationV1V2</th>\n      <th>ConcatenationV2V1</th>\n      <th>Manual</th>\n      <th>None</th>\n    </tr>\n  </thead>\n  <tbody>\n    <tr>\n      <th>0</th>\n      <td>Ramblurr/Anki-Android</td>\n      <td>333</td>\n      <td>222</td>\n      <td>64</td>\n      <td>10</td>\n      <td>7</td>\n      <td>122</td>\n      <td>1</td>\n    </tr>\n    <tr>\n      <th>1</th>\n      <td>apache/directory-server</td>\n      <td>309</td>\n      <td>334</td>\n      <td>1</td>\n      <td>0</td>\n      <td>0</td>\n      <td>8</td>\n      <td>0</td>\n    </tr>\n    <tr>\n      <th>2</th>\n      <td>android/platform_frameworks_base</td>\n      <td>1741</td>\n      <td>188</td>\n      <td>222</td>\n      <td>66</td>\n      <td>35</td>\n      <td>200</td>\n      <td>8</td>\n    </tr>\n    <tr>\n      <th>3</th>\n      <td>freenet/fred</td>\n      <td>409</td>\n      <td>167</td>\n      <td>236</td>\n      <td>63</td>\n      <td>5</td>\n      <td>131</td>\n      <td>1</td>\n    </tr>\n    <tr>\n      <th>4</th>\n      <td>alexo/wro4j</td>\n      <td>420</td>\n      <td>202</td>\n      <td>392</td>\n      <td>12</td>\n      <td>14</td>\n      <td>323</td>\n      <td>5</td>\n    </tr>\n    <tr>\n      <th>5</th>\n      <td>apache/lucene-solr</td>\n      <td>244</td>\n      <td>259</td>\n      <td>198</td>\n      <td>51</td>\n      <td>3</td>\n      <td>211</td>\n      <td>8</td>\n    </tr>\n    <tr>\n      <th>6</th>\n      <td>elastic/elasticsearch</td>\n      <td>0</td>\n      <td>0</td>\n      <td>0</td>\n      <td>0</td>\n      <td>0</td>\n      <td>0</td>\n      <td>0</td>\n    </tr>\n    <tr>\n      <th>7</th>\n      <td>getrailo/railo</td>\n      <td>183</td>\n      <td>216</td>\n      <td>50</td>\n      <td>41</td>\n      <td>2</td>\n      <td>79</td>\n      <td>1</td>\n    </tr>\n    <tr>\n      <th>8</th>\n      <td>atlasapi/atlas</td>\n      <td>188</td>\n      <td>348</td>\n      <td>97</td>\n      <td>42</td>\n      <td>7</td>\n      <td>98</td>\n      <td>2</td>\n    </tr>\n    <tr>\n      <th>9</th>\n      <td>hibernate/hibernate-orm</td>\n      <td>171</td>\n      <td>144</td>\n      <td>223</td>\n      <td>53</td>\n      <td>8</td>\n      <td>101</td>\n      <td>16</td>\n    </tr>\n    <tr>\n      <th>10</th>\n      <td>CloudStack-extras/CloudStack-archive</td>\n      <td>483</td>\n      <td>196</td>\n      <td>105</td>\n      <td>177</td>\n      <td>14</td>\n      <td>126</td>\n      <td>5</td>\n    </tr>\n    <tr>\n      <th>11</th>\n      <td>TeamDev-Ltd/OpenFaces</td>\n      <td>2683</td>\n      <td>42</td>\n      <td>42</td>\n      <td>13</td>\n      <td>6</td>\n      <td>72</td>\n      <td>1</td>\n    </tr>\n    <tr>\n      <th>12</th>\n      <td>eucalyptus/eucalyptus</td>\n      <td>316</td>\n      <td>169</td>\n      <td>115</td>\n      <td>30</td>\n      <td>10</td>\n      <td>101</td>\n      <td>6</td>\n    </tr>\n    <tr>\n      <th>13</th>\n      <td>zkoss/zk</td>\n      <td>530</td>\n      <td>96</td>\n      <td>100</td>\n      <td>13</td>\n      <td>6</td>\n      <td>134</td>\n      <td>2</td>\n    </tr>\n    <tr>\n      <th>14</th>\n      <td>eclipse/jetty.project</td>\n      <td>0</td>\n      <td>0</td>\n      <td>0</td>\n      <td>0</td>\n      <td>0</td>\n      <td>0</td>\n      <td>0</td>\n    </tr>\n    <tr>\n      <th>15</th>\n      <td>alkacon/opencms-core</td>\n      <td>793</td>\n      <td>27</td>\n      <td>3</td>\n      <td>0</td>\n      <td>3</td>\n      <td>13</td>\n      <td>1</td>\n    </tr>\n    <tr>\n      <th>16</th>\n      <td>SINTEF-9012/ThingML</td>\n      <td>916</td>\n      <td>6</td>\n      <td>16</td>\n      <td>3</td>\n      <td>1</td>\n      <td>34</td>\n      <td>1</td>\n    </tr>\n    <tr>\n      <th>17</th>\n      <td>cgjones/android-frameworks-base</td>\n      <td>422</td>\n      <td>61</td>\n      <td>30</td>\n      <td>7</td>\n      <td>3</td>\n      <td>42</td>\n      <td>0</td>\n    </tr>\n    <tr>\n      <th>18</th>\n      <td>apache/accumulo</td>\n      <td>1999</td>\n      <td>585</td>\n      <td>215</td>\n      <td>24</td>\n      <td>30</td>\n      <td>285</td>\n      <td>10</td>\n    </tr>\n    <tr>\n      <th>19</th>\n      <td>Unidata/thredds</td>\n      <td>118</td>\n      <td>738</td>\n      <td>20</td>\n      <td>0</td>\n      <td>4</td>\n      <td>68</td>\n      <td>2</td>\n    </tr>\n    <tr>\n      <th>20</th>\n      <td>revolsys/com.revolsys.open</td>\n      <td>0</td>\n      <td>0</td>\n      <td>1</td>\n      <td>0</td>\n      <td>0</td>\n      <td>0</td>\n      <td>0</td>\n    </tr>\n    <tr>\n      <th>21</th>\n      <td>IceColdSandwich/android_frameworks_base</td>\n      <td>866</td>\n      <td>111</td>\n      <td>92</td>\n      <td>28</td>\n      <td>19</td>\n      <td>74</td>\n      <td>3</td>\n    </tr>\n    <tr>\n      <th>22</th>\n      <td>AOKP/frameworks_base_disabled</td>\n      <td>974</td>\n      <td>134</td>\n      <td>110</td>\n      <td>30</td>\n      <td>20</td>\n      <td>99</td>\n      <td>3</td>\n    </tr>\n    <tr>\n      <th>23</th>\n      <td>adetaylor/android-frameworks-base-with-remote-...</td>\n      <td>0</td>\n      <td>0</td>\n      <td>0</td>\n      <td>0</td>\n      <td>0</td>\n      <td>0</td>\n      <td>0</td>\n    </tr>\n    <tr>\n      <th>24</th>\n      <td>jgralab/jgralab</td>\n      <td>885</td>\n      <td>670</td>\n      <td>98</td>\n      <td>11</td>\n      <td>4</td>\n      <td>134</td>\n      <td>0</td>\n    </tr>\n    <tr>\n      <th>25</th>\n      <td>sebastianbenz/Jnario</td>\n      <td>8166</td>\n      <td>0</td>\n      <td>1</td>\n      <td>0</td>\n      <td>0</td>\n      <td>5</td>\n      <td>1</td>\n    </tr>\n    <tr>\n      <th>26</th>\n      <td>CCI-MIT/XCoLab</td>\n      <td>2153</td>\n      <td>640</td>\n      <td>19</td>\n      <td>9</td>\n      <td>2</td>\n      <td>934</td>\n      <td>0</td>\n    </tr>\n    <tr>\n      <th>27</th>\n      <td>RealVNC/android-frameworks-base-with-screensho...</td>\n      <td>1110</td>\n      <td>131</td>\n      <td>126</td>\n      <td>32</td>\n      <td>28</td>\n      <td>129</td>\n      <td>5</td>\n    </tr>\n    <tr>\n      <th>28</th>\n      <td>allwinner-ics/platform_frameworks_base</td>\n      <td>846</td>\n      <td>117</td>\n      <td>92</td>\n      <td>30</td>\n      <td>20</td>\n      <td>79</td>\n      <td>3</td>\n    </tr>\n  </tbody>\n</table>\n</div>"
     },
     "execution_count": 10,
     "metadata": {},
     "output_type": "execute_result"
    }
   ],
   "source": [
    "class_distribution_count = classifier_utils.get_projects_class_distribution(projects, False)\n",
    "\n",
    "class_distribution_count"
   ]
  },
  {
   "cell_type": "markdown",
   "metadata": {},
   "source": [
    "# Decision Tree"
   ]
  },
  {
   "cell_type": "markdown",
   "metadata": {},
   "source": [
    "### Base classifier"
   ]
  },
  {
   "cell_type": "code",
   "execution_count": 11,
   "metadata": {},
   "outputs": [],
   "source": [
    "dt = DecisionTreeClassifier(min_samples_split=5, random_state=99)\n"
   ]
  },
  {
   "cell_type": "code",
   "execution_count": 12,
   "outputs": [
    {
     "data": {
      "text/plain": "{'ccp_alpha': 0.0,\n 'class_weight': None,\n 'criterion': 'gini',\n 'max_depth': None,\n 'max_features': None,\n 'max_leaf_nodes': None,\n 'min_impurity_decrease': 0.0,\n 'min_impurity_split': None,\n 'min_samples_leaf': 1,\n 'min_samples_split': 5,\n 'min_weight_fraction_leaf': 0.0,\n 'random_state': 99,\n 'splitter': 'best'}"
     },
     "execution_count": 12,
     "metadata": {},
     "output_type": "execute_result"
    }
   ],
   "source": [
    "dt.get_params()"
   ],
   "metadata": {
    "collapsed": false,
    "pycharm": {
     "name": "#%%\n"
    }
   }
  },
  {
   "cell_type": "code",
   "execution_count": 14,
   "outputs": [],
   "source": [
    "result_dt = classifier_utils.ProjectsResults(dt, projects, non_features_columns)"
   ],
   "metadata": {
    "collapsed": false,
    "pycharm": {
     "name": "#%%\n"
    }
   }
  },
  {
   "cell_type": "code",
   "execution_count": 15,
   "metadata": {},
   "outputs": [
    {
     "data": {
      "text/plain": "                                              project  observations  \\\n26                                    CCI-MIT__XCoLab          5512   \n1                            apache__directory-server           845   \n24                                   jgralab__jgralab          2072   \n19                                   Unidata__thredds          1154   \n18                                   apache__accumulo          4113   \n10              CloudStack-extras__CloudStack-archive          1424   \n0                              Ramblurr__Anki-Android           892   \n5                                 apache__lucene-solr          1256   \n7                                     getrailo__railo           815   \n11                             TeamDev-Ltd__OpenFaces          2979   \n13                                          zkoss__zk          1087   \n3                                       freenet__fred          1268   \n22                     AOKP__frameworks_base_disabled          1999   \n17                   cgjones__android-frameworks-base           828   \n9                            hibernate__hibernate-orm          1000   \n4                                        alexo__wro4j          1663   \n28            allwinner-ics__platform_frameworks_base          1780   \n2                   android__platform_frameworks_base          3557   \n12                             eucalyptus__eucalyptus          1020   \n27  RealVNC__android-frameworks-base-with-screensh...          2269   \n21           IceColdSandwich__android_frameworks_base          1792   \n8                                     atlasapi__atlas          1107   \n15                              alkacon__opencms-core           923   \n16                               SINTEF-9012__ThingML          1022   \n25                              sebastianbenz__Jnario          8298   \n6                              elastic__elasticsearch          1246   \n14                             eclipse__jetty.project          1537   \n20                        revolsys__com.revolsys.open           991   \n23  adetaylor__android-frameworks-base-with-remote...          1792   \n\n    observations (wt NaN)  precision  recall  f1-score  accuracy  \\\n26                   3757      0.973   0.971     0.972     0.971   \n1                     652      0.922   0.923     0.923     0.923   \n24                   1802      0.823   0.819     0.820     0.819   \n19                    950      0.902   0.901     0.901     0.901   \n18                   3148      0.838   0.835     0.836     0.835   \n10                   1106      0.699   0.700     0.699     0.700   \n0                     759      0.678   0.681     0.679     0.681   \n5                     974      0.573   0.568     0.569     0.568   \n7                     572      0.636   0.631     0.633     0.631   \n11                   2859      0.964   0.963     0.964     0.963   \n13                    881      0.760   0.753     0.756     0.753   \n3                    1012      0.606   0.606     0.605     0.606   \n22                   1370      0.794   0.796     0.794     0.796   \n17                    565      0.827   0.818     0.821     0.818   \n9                     716      0.506   0.503     0.504     0.503   \n4                    1368      0.494   0.495     0.494     0.495   \n28                   1187      0.789   0.783     0.786     0.783   \n2                    2460      0.778   0.778     0.778     0.778   \n12                    747      0.556   0.549     0.552     0.549   \n27                   1561      0.774   0.773     0.773     0.773   \n21                   1193      0.784   0.782     0.783     0.782   \n8                     782      0.557   0.550     0.553     0.550   \n15                    840      0.945   0.949     0.947     0.949   \n16                    977      0.936   0.941     0.938     0.941   \n25                   8173      0.998   0.999     0.998     0.999   \n6                       0        NaN     NaN       NaN       NaN   \n14                      0        NaN     NaN       NaN       NaN   \n20                      1        NaN     NaN       NaN       NaN   \n23                      0        NaN     NaN       NaN       NaN   \n\n    baseline (majority)  improvement  \n26                0.573        0.931  \n1                 0.512        0.843  \n24                0.491        0.643  \n19                0.777        0.557  \n18                0.635        0.548  \n10                0.437        0.467  \n0                 0.439        0.432  \n5                 0.266        0.411  \n7                 0.378        0.407  \n11                0.938        0.403  \n13                0.602        0.379  \n3                 0.404        0.338  \n22                0.711        0.293  \n17                0.747        0.280  \n9                 0.311        0.278  \n4                 0.307        0.271  \n28                0.713        0.246  \n2                 0.708        0.242  \n12                0.423        0.218  \n27                0.711        0.215  \n21                0.726        0.205  \n8                 0.445        0.189  \n15                0.944        0.085  \n16                0.938        0.049  \n25                0.999       -0.000  \n6                   NaN          NaN  \n14                  NaN          NaN  \n20                  NaN          NaN  \n23                  NaN          NaN  ",
      "text/html": "<div>\n<style scoped>\n    .dataframe tbody tr th:only-of-type {\n        vertical-align: middle;\n    }\n\n    .dataframe tbody tr th {\n        vertical-align: top;\n    }\n\n    .dataframe thead th {\n        text-align: right;\n    }\n</style>\n<table border=\"1\" class=\"dataframe\">\n  <thead>\n    <tr style=\"text-align: right;\">\n      <th></th>\n      <th>project</th>\n      <th>observations</th>\n      <th>observations (wt NaN)</th>\n      <th>precision</th>\n      <th>recall</th>\n      <th>f1-score</th>\n      <th>accuracy</th>\n      <th>baseline (majority)</th>\n      <th>improvement</th>\n    </tr>\n  </thead>\n  <tbody>\n    <tr>\n      <th>26</th>\n      <td>CCI-MIT__XCoLab</td>\n      <td>5512</td>\n      <td>3757</td>\n      <td>0.973</td>\n      <td>0.971</td>\n      <td>0.972</td>\n      <td>0.971</td>\n      <td>0.573</td>\n      <td>0.931</td>\n    </tr>\n    <tr>\n      <th>1</th>\n      <td>apache__directory-server</td>\n      <td>845</td>\n      <td>652</td>\n      <td>0.922</td>\n      <td>0.923</td>\n      <td>0.923</td>\n      <td>0.923</td>\n      <td>0.512</td>\n      <td>0.843</td>\n    </tr>\n    <tr>\n      <th>24</th>\n      <td>jgralab__jgralab</td>\n      <td>2072</td>\n      <td>1802</td>\n      <td>0.823</td>\n      <td>0.819</td>\n      <td>0.820</td>\n      <td>0.819</td>\n      <td>0.491</td>\n      <td>0.643</td>\n    </tr>\n    <tr>\n      <th>19</th>\n      <td>Unidata__thredds</td>\n      <td>1154</td>\n      <td>950</td>\n      <td>0.902</td>\n      <td>0.901</td>\n      <td>0.901</td>\n      <td>0.901</td>\n      <td>0.777</td>\n      <td>0.557</td>\n    </tr>\n    <tr>\n      <th>18</th>\n      <td>apache__accumulo</td>\n      <td>4113</td>\n      <td>3148</td>\n      <td>0.838</td>\n      <td>0.835</td>\n      <td>0.836</td>\n      <td>0.835</td>\n      <td>0.635</td>\n      <td>0.548</td>\n    </tr>\n    <tr>\n      <th>10</th>\n      <td>CloudStack-extras__CloudStack-archive</td>\n      <td>1424</td>\n      <td>1106</td>\n      <td>0.699</td>\n      <td>0.700</td>\n      <td>0.699</td>\n      <td>0.700</td>\n      <td>0.437</td>\n      <td>0.467</td>\n    </tr>\n    <tr>\n      <th>0</th>\n      <td>Ramblurr__Anki-Android</td>\n      <td>892</td>\n      <td>759</td>\n      <td>0.678</td>\n      <td>0.681</td>\n      <td>0.679</td>\n      <td>0.681</td>\n      <td>0.439</td>\n      <td>0.432</td>\n    </tr>\n    <tr>\n      <th>5</th>\n      <td>apache__lucene-solr</td>\n      <td>1256</td>\n      <td>974</td>\n      <td>0.573</td>\n      <td>0.568</td>\n      <td>0.569</td>\n      <td>0.568</td>\n      <td>0.266</td>\n      <td>0.411</td>\n    </tr>\n    <tr>\n      <th>7</th>\n      <td>getrailo__railo</td>\n      <td>815</td>\n      <td>572</td>\n      <td>0.636</td>\n      <td>0.631</td>\n      <td>0.633</td>\n      <td>0.631</td>\n      <td>0.378</td>\n      <td>0.407</td>\n    </tr>\n    <tr>\n      <th>11</th>\n      <td>TeamDev-Ltd__OpenFaces</td>\n      <td>2979</td>\n      <td>2859</td>\n      <td>0.964</td>\n      <td>0.963</td>\n      <td>0.964</td>\n      <td>0.963</td>\n      <td>0.938</td>\n      <td>0.403</td>\n    </tr>\n    <tr>\n      <th>13</th>\n      <td>zkoss__zk</td>\n      <td>1087</td>\n      <td>881</td>\n      <td>0.760</td>\n      <td>0.753</td>\n      <td>0.756</td>\n      <td>0.753</td>\n      <td>0.602</td>\n      <td>0.379</td>\n    </tr>\n    <tr>\n      <th>3</th>\n      <td>freenet__fred</td>\n      <td>1268</td>\n      <td>1012</td>\n      <td>0.606</td>\n      <td>0.606</td>\n      <td>0.605</td>\n      <td>0.606</td>\n      <td>0.404</td>\n      <td>0.338</td>\n    </tr>\n    <tr>\n      <th>22</th>\n      <td>AOKP__frameworks_base_disabled</td>\n      <td>1999</td>\n      <td>1370</td>\n      <td>0.794</td>\n      <td>0.796</td>\n      <td>0.794</td>\n      <td>0.796</td>\n      <td>0.711</td>\n      <td>0.293</td>\n    </tr>\n    <tr>\n      <th>17</th>\n      <td>cgjones__android-frameworks-base</td>\n      <td>828</td>\n      <td>565</td>\n      <td>0.827</td>\n      <td>0.818</td>\n      <td>0.821</td>\n      <td>0.818</td>\n      <td>0.747</td>\n      <td>0.280</td>\n    </tr>\n    <tr>\n      <th>9</th>\n      <td>hibernate__hibernate-orm</td>\n      <td>1000</td>\n      <td>716</td>\n      <td>0.506</td>\n      <td>0.503</td>\n      <td>0.504</td>\n      <td>0.503</td>\n      <td>0.311</td>\n      <td>0.278</td>\n    </tr>\n    <tr>\n      <th>4</th>\n      <td>alexo__wro4j</td>\n      <td>1663</td>\n      <td>1368</td>\n      <td>0.494</td>\n      <td>0.495</td>\n      <td>0.494</td>\n      <td>0.495</td>\n      <td>0.307</td>\n      <td>0.271</td>\n    </tr>\n    <tr>\n      <th>28</th>\n      <td>allwinner-ics__platform_frameworks_base</td>\n      <td>1780</td>\n      <td>1187</td>\n      <td>0.789</td>\n      <td>0.783</td>\n      <td>0.786</td>\n      <td>0.783</td>\n      <td>0.713</td>\n      <td>0.246</td>\n    </tr>\n    <tr>\n      <th>2</th>\n      <td>android__platform_frameworks_base</td>\n      <td>3557</td>\n      <td>2460</td>\n      <td>0.778</td>\n      <td>0.778</td>\n      <td>0.778</td>\n      <td>0.778</td>\n      <td>0.708</td>\n      <td>0.242</td>\n    </tr>\n    <tr>\n      <th>12</th>\n      <td>eucalyptus__eucalyptus</td>\n      <td>1020</td>\n      <td>747</td>\n      <td>0.556</td>\n      <td>0.549</td>\n      <td>0.552</td>\n      <td>0.549</td>\n      <td>0.423</td>\n      <td>0.218</td>\n    </tr>\n    <tr>\n      <th>27</th>\n      <td>RealVNC__android-frameworks-base-with-screensh...</td>\n      <td>2269</td>\n      <td>1561</td>\n      <td>0.774</td>\n      <td>0.773</td>\n      <td>0.773</td>\n      <td>0.773</td>\n      <td>0.711</td>\n      <td>0.215</td>\n    </tr>\n    <tr>\n      <th>21</th>\n      <td>IceColdSandwich__android_frameworks_base</td>\n      <td>1792</td>\n      <td>1193</td>\n      <td>0.784</td>\n      <td>0.782</td>\n      <td>0.783</td>\n      <td>0.782</td>\n      <td>0.726</td>\n      <td>0.205</td>\n    </tr>\n    <tr>\n      <th>8</th>\n      <td>atlasapi__atlas</td>\n      <td>1107</td>\n      <td>782</td>\n      <td>0.557</td>\n      <td>0.550</td>\n      <td>0.553</td>\n      <td>0.550</td>\n      <td>0.445</td>\n      <td>0.189</td>\n    </tr>\n    <tr>\n      <th>15</th>\n      <td>alkacon__opencms-core</td>\n      <td>923</td>\n      <td>840</td>\n      <td>0.945</td>\n      <td>0.949</td>\n      <td>0.947</td>\n      <td>0.949</td>\n      <td>0.944</td>\n      <td>0.085</td>\n    </tr>\n    <tr>\n      <th>16</th>\n      <td>SINTEF-9012__ThingML</td>\n      <td>1022</td>\n      <td>977</td>\n      <td>0.936</td>\n      <td>0.941</td>\n      <td>0.938</td>\n      <td>0.941</td>\n      <td>0.938</td>\n      <td>0.049</td>\n    </tr>\n    <tr>\n      <th>25</th>\n      <td>sebastianbenz__Jnario</td>\n      <td>8298</td>\n      <td>8173</td>\n      <td>0.998</td>\n      <td>0.999</td>\n      <td>0.998</td>\n      <td>0.999</td>\n      <td>0.999</td>\n      <td>-0.000</td>\n    </tr>\n    <tr>\n      <th>6</th>\n      <td>elastic__elasticsearch</td>\n      <td>1246</td>\n      <td>0</td>\n      <td>NaN</td>\n      <td>NaN</td>\n      <td>NaN</td>\n      <td>NaN</td>\n      <td>NaN</td>\n      <td>NaN</td>\n    </tr>\n    <tr>\n      <th>14</th>\n      <td>eclipse__jetty.project</td>\n      <td>1537</td>\n      <td>0</td>\n      <td>NaN</td>\n      <td>NaN</td>\n      <td>NaN</td>\n      <td>NaN</td>\n      <td>NaN</td>\n      <td>NaN</td>\n    </tr>\n    <tr>\n      <th>20</th>\n      <td>revolsys__com.revolsys.open</td>\n      <td>991</td>\n      <td>1</td>\n      <td>NaN</td>\n      <td>NaN</td>\n      <td>NaN</td>\n      <td>NaN</td>\n      <td>NaN</td>\n      <td>NaN</td>\n    </tr>\n    <tr>\n      <th>23</th>\n      <td>adetaylor__android-frameworks-base-with-remote...</td>\n      <td>1792</td>\n      <td>0</td>\n      <td>NaN</td>\n      <td>NaN</td>\n      <td>NaN</td>\n      <td>NaN</td>\n      <td>NaN</td>\n      <td>NaN</td>\n    </tr>\n  </tbody>\n</table>\n</div>"
     },
     "execution_count": 15,
     "metadata": {},
     "output_type": "execute_result"
    }
   ],
   "source": [
    "report_dt = result_dt.get_report_df()\n",
    "\n",
    "report_dt\n"
   ]
  },
  {
   "cell_type": "markdown",
   "metadata": {},
   "source": [
    "### Inspect project"
   ]
  },
  {
   "cell_type": "code",
   "execution_count": 16,
   "metadata": {},
   "outputs": [],
   "source": [
    "sample_project_dt = result_dt.get_project('sebastianbenz__Jnario')"
   ]
  },
  {
   "cell_type": "code",
   "execution_count": 17,
   "metadata": {},
   "outputs": [
    {
     "data": {
      "text/plain": "              precision    recall  f1-score      support\nCombination    0.000000  0.000000  0.000000     1.000000\nManual         0.000000  0.000000  0.000000     5.000000\nNone           0.000000  0.000000  0.000000     1.000000\nVersion 1      0.999143  0.999510  0.999327  8166.000000\naccuracy       0.998654  0.998654  0.998654     0.998654\nmacro avg      0.249786  0.249878  0.249832  8173.000000\nweighted avg   0.998287  0.998654  0.998471  8173.000000",
      "text/html": "<div>\n<style scoped>\n    .dataframe tbody tr th:only-of-type {\n        vertical-align: middle;\n    }\n\n    .dataframe tbody tr th {\n        vertical-align: top;\n    }\n\n    .dataframe thead th {\n        text-align: right;\n    }\n</style>\n<table border=\"1\" class=\"dataframe\">\n  <thead>\n    <tr style=\"text-align: right;\">\n      <th></th>\n      <th>precision</th>\n      <th>recall</th>\n      <th>f1-score</th>\n      <th>support</th>\n    </tr>\n  </thead>\n  <tbody>\n    <tr>\n      <th>Combination</th>\n      <td>0.000000</td>\n      <td>0.000000</td>\n      <td>0.000000</td>\n      <td>1.000000</td>\n    </tr>\n    <tr>\n      <th>Manual</th>\n      <td>0.000000</td>\n      <td>0.000000</td>\n      <td>0.000000</td>\n      <td>5.000000</td>\n    </tr>\n    <tr>\n      <th>None</th>\n      <td>0.000000</td>\n      <td>0.000000</td>\n      <td>0.000000</td>\n      <td>1.000000</td>\n    </tr>\n    <tr>\n      <th>Version 1</th>\n      <td>0.999143</td>\n      <td>0.999510</td>\n      <td>0.999327</td>\n      <td>8166.000000</td>\n    </tr>\n    <tr>\n      <th>accuracy</th>\n      <td>0.998654</td>\n      <td>0.998654</td>\n      <td>0.998654</td>\n      <td>0.998654</td>\n    </tr>\n    <tr>\n      <th>macro avg</th>\n      <td>0.249786</td>\n      <td>0.249878</td>\n      <td>0.249832</td>\n      <td>8173.000000</td>\n    </tr>\n    <tr>\n      <th>weighted avg</th>\n      <td>0.998287</td>\n      <td>0.998654</td>\n      <td>0.998471</td>\n      <td>8173.000000</td>\n    </tr>\n  </tbody>\n</table>\n</div>"
     },
     "metadata": {},
     "output_type": "display_data"
    },
    {
     "data": {
      "text/plain": "None"
     },
     "metadata": {},
     "output_type": "display_data"
    },
    {
     "data": {
      "text/plain": "<Figure size 708.661x311.811 with 2 Axes>",
      "image/png": "[encoded data removed]"
     },
     "metadata": {},
     "output_type": "display_data"
    }
   ],
   "source": [
    "display(sample_project_dt.get_scores_df())\n",
    "display(classifier_utils.plot_classification_report(sample_project_dt.scores))"
   ]
  },
  {
   "cell_type": "markdown",
   "metadata": {},
   "source": [
    "### Tuning hyperparameters (TODO)\n"
   ]
  },
  {
   "cell_type": "code",
   "execution_count": 102,
   "metadata": {},
   "outputs": [
    {
     "name": "stdout",
     "output_type": "stream",
     "text": [
      "Fitting 10 folds for each of 24 candidates, totalling 240 fits\n",
      "\n",
      "\n",
      "Best params and score:\n",
      "{'criterion': 'entropy', 'max_depth': 5, 'min_samples_leaf': 1}\n",
      "0.6917719298245614\n",
      "\n",
      "\n"
     ]
    },
    {
     "data": {
      "text/plain": "   param_criterion param_max_depth param_min_samples_leaf  mean_test_score  \\\n18         entropy               5                      1         0.691772   \n19         entropy               5                      2         0.691772   \n20         entropy               5                      3         0.690456   \n12         entropy            None                      1         0.681070   \n0             gini            None                      1         0.681053   \n7             gini               5                      2         0.679895   \n6             gini               5                      1         0.679895   \n8             gini               5                      3         0.679895   \n2             gini            None                      3         0.679807   \n14         entropy            None                      3         0.679754   \n16         entropy               3                      2         0.670649   \n3             gini               3                      1         0.670649   \n15         entropy               3                      1         0.670649   \n5             gini               3                      3         0.670649   \n17         entropy               3                      3         0.670649   \n1             gini            None                      2         0.670596   \n13         entropy            None                      2         0.670561   \n4             gini               3                      2         0.669333   \n11            gini              10                      3         0.669263   \n21         entropy              10                      1         0.666596   \n9             gini              10                      1         0.661368   \n23         entropy              10                      3         0.658702   \n22         entropy              10                      2         0.657421   \n10            gini              10                      2         0.650860   \n\n    std_test_score  rank_test_score  \n18        0.047117                1  \n19        0.048207                1  \n20        0.047126                3  \n12        0.047340                4  \n0         0.058606                5  \n7         0.049639                6  \n6         0.049639                6  \n8         0.055563                8  \n2         0.057261                9  \n14        0.041163               10  \n16        0.050424               11  \n3         0.051779               11  \n15        0.050424               11  \n5         0.050424               11  \n17        0.050424               11  \n1         0.042188               16  \n13        0.044885               17  \n4         0.050909               18  \n11        0.041689               19  \n21        0.065934               20  \n9         0.045036               21  \n23        0.048779               22  \n22        0.068729               23  \n10        0.035857               24  ",
      "text/html": "<div>\n<style scoped>\n    .dataframe tbody tr th:only-of-type {\n        vertical-align: middle;\n    }\n\n    .dataframe tbody tr th {\n        vertical-align: top;\n    }\n\n    .dataframe thead th {\n        text-align: right;\n    }\n</style>\n<table border=\"1\" class=\"dataframe\">\n  <thead>\n    <tr style=\"text-align: right;\">\n      <th></th>\n      <th>param_criterion</th>\n      <th>param_max_depth</th>\n      <th>param_min_samples_leaf</th>\n      <th>mean_test_score</th>\n      <th>std_test_score</th>\n      <th>rank_test_score</th>\n    </tr>\n  </thead>\n  <tbody>\n    <tr>\n      <th>18</th>\n      <td>entropy</td>\n      <td>5</td>\n      <td>1</td>\n      <td>0.691772</td>\n      <td>0.047117</td>\n      <td>1</td>\n    </tr>\n    <tr>\n      <th>19</th>\n      <td>entropy</td>\n      <td>5</td>\n      <td>2</td>\n      <td>0.691772</td>\n      <td>0.048207</td>\n      <td>1</td>\n    </tr>\n    <tr>\n      <th>20</th>\n      <td>entropy</td>\n      <td>5</td>\n      <td>3</td>\n      <td>0.690456</td>\n      <td>0.047126</td>\n      <td>3</td>\n    </tr>\n    <tr>\n      <th>12</th>\n      <td>entropy</td>\n      <td>None</td>\n      <td>1</td>\n      <td>0.681070</td>\n      <td>0.047340</td>\n      <td>4</td>\n    </tr>\n    <tr>\n      <th>0</th>\n      <td>gini</td>\n      <td>None</td>\n      <td>1</td>\n      <td>0.681053</td>\n      <td>0.058606</td>\n      <td>5</td>\n    </tr>\n    <tr>\n      <th>7</th>\n      <td>gini</td>\n      <td>5</td>\n      <td>2</td>\n      <td>0.679895</td>\n      <td>0.049639</td>\n      <td>6</td>\n    </tr>\n    <tr>\n      <th>6</th>\n      <td>gini</td>\n      <td>5</td>\n      <td>1</td>\n      <td>0.679895</td>\n      <td>0.049639</td>\n      <td>6</td>\n    </tr>\n    <tr>\n      <th>8</th>\n      <td>gini</td>\n      <td>5</td>\n      <td>3</td>\n      <td>0.679895</td>\n      <td>0.055563</td>\n      <td>8</td>\n    </tr>\n    <tr>\n      <th>2</th>\n      <td>gini</td>\n      <td>None</td>\n      <td>3</td>\n      <td>0.679807</td>\n      <td>0.057261</td>\n      <td>9</td>\n    </tr>\n    <tr>\n      <th>14</th>\n      <td>entropy</td>\n      <td>None</td>\n      <td>3</td>\n      <td>0.679754</td>\n      <td>0.041163</td>\n      <td>10</td>\n    </tr>\n    <tr>\n      <th>16</th>\n      <td>entropy</td>\n      <td>3</td>\n      <td>2</td>\n      <td>0.670649</td>\n      <td>0.050424</td>\n      <td>11</td>\n    </tr>\n    <tr>\n      <th>3</th>\n      <td>gini</td>\n      <td>3</td>\n      <td>1</td>\n      <td>0.670649</td>\n      <td>0.051779</td>\n      <td>11</td>\n    </tr>\n    <tr>\n      <th>15</th>\n      <td>entropy</td>\n      <td>3</td>\n      <td>1</td>\n      <td>0.670649</td>\n      <td>0.050424</td>\n      <td>11</td>\n    </tr>\n    <tr>\n      <th>5</th>\n      <td>gini</td>\n      <td>3</td>\n      <td>3</td>\n      <td>0.670649</td>\n      <td>0.050424</td>\n      <td>11</td>\n    </tr>\n    <tr>\n      <th>17</th>\n      <td>entropy</td>\n      <td>3</td>\n      <td>3</td>\n      <td>0.670649</td>\n      <td>0.050424</td>\n      <td>11</td>\n    </tr>\n    <tr>\n      <th>1</th>\n      <td>gini</td>\n      <td>None</td>\n      <td>2</td>\n      <td>0.670596</td>\n      <td>0.042188</td>\n      <td>16</td>\n    </tr>\n    <tr>\n      <th>13</th>\n      <td>entropy</td>\n      <td>None</td>\n      <td>2</td>\n      <td>0.670561</td>\n      <td>0.044885</td>\n      <td>17</td>\n    </tr>\n    <tr>\n      <th>4</th>\n      <td>gini</td>\n      <td>3</td>\n      <td>2</td>\n      <td>0.669333</td>\n      <td>0.050909</td>\n      <td>18</td>\n    </tr>\n    <tr>\n      <th>11</th>\n      <td>gini</td>\n      <td>10</td>\n      <td>3</td>\n      <td>0.669263</td>\n      <td>0.041689</td>\n      <td>19</td>\n    </tr>\n    <tr>\n      <th>21</th>\n      <td>entropy</td>\n      <td>10</td>\n      <td>1</td>\n      <td>0.666596</td>\n      <td>0.065934</td>\n      <td>20</td>\n    </tr>\n    <tr>\n      <th>9</th>\n      <td>gini</td>\n      <td>10</td>\n      <td>1</td>\n      <td>0.661368</td>\n      <td>0.045036</td>\n      <td>21</td>\n    </tr>\n    <tr>\n      <th>23</th>\n      <td>entropy</td>\n      <td>10</td>\n      <td>3</td>\n      <td>0.658702</td>\n      <td>0.048779</td>\n      <td>22</td>\n    </tr>\n    <tr>\n      <th>22</th>\n      <td>entropy</td>\n      <td>10</td>\n      <td>2</td>\n      <td>0.657421</td>\n      <td>0.068729</td>\n      <td>23</td>\n    </tr>\n    <tr>\n      <th>10</th>\n      <td>gini</td>\n      <td>10</td>\n      <td>2</td>\n      <td>0.650860</td>\n      <td>0.035857</td>\n      <td>24</td>\n    </tr>\n  </tbody>\n</table>\n</div>"
     },
     "execution_count": 102,
     "metadata": {},
     "output_type": "execute_result"
    }
   ],
   "source": [
    "parameters = {'criterion':('gini', 'entropy'),\n",
    "              'min_samples_leaf':[1, 2, 3],\n",
    "              'max_depth':[None, 3, 5, 10]}\n",
    "\n",
    "result = classifier_utils.grid_search(projects[0], dt, parameters, non_features_columns)\n",
    "\n",
    "pd.DataFrame(result)\\\n",
    "    .filter(regex=(\"param_.*|mean_test_score|std_test_score|rank_test_score\"))\\\n",
    "    .sort_values(by=['rank_test_score'])"
   ]
  },
  {
   "cell_type": "markdown",
   "metadata": {},
   "source": [
    "# Random Forest"
   ]
  },
  {
   "cell_type": "markdown",
   "metadata": {},
   "source": [
    "### Base classifier"
   ]
  },
  {
   "cell_type": "code",
   "execution_count": null,
   "metadata": {},
   "outputs": [],
   "source": [
    "rf = RandomForestClassifier(random_state=99)\n",
    "result_rf = classifier_utils.ProjectsResults(rf, projects, non_features_columns)"
   ]
  },
  {
   "cell_type": "code",
   "execution_count": null,
   "metadata": {},
   "outputs": [],
   "source": [
    "report_rf = result_rf.get_report_df()\n",
    "\n",
    "report_rf"
   ]
  },
  {
   "cell_type": "markdown",
   "metadata": {},
   "source": [
    "### Inspect project"
   ]
  },
  {
   "cell_type": "code",
   "execution_count": null,
   "metadata": {},
   "outputs": [],
   "source": [
    "sample_project_rf = result_rf.get_project('alexo__wro4j')"
   ]
  },
  {
   "cell_type": "code",
   "execution_count": null,
   "metadata": {},
   "outputs": [],
   "source": [
    "display(sample_project_rf.get_scores_df())\n",
    "display(classifier_utils.plot_classification_report(sample_project_rf.scores))"
   ]
  },
  {
   "cell_type": "markdown",
   "metadata": {},
   "source": [
    "### Tuning hyperparameters (TODO)"
   ]
  },
  {
   "cell_type": "code",
   "execution_count": null,
   "metadata": {},
   "outputs": [],
   "source": []
  },
  {
   "cell_type": "markdown",
   "metadata": {},
   "source": [
    "# Random Forest (XGBoost)"
   ]
  },
  {
   "cell_type": "markdown",
   "metadata": {},
   "source": [
    "### Base classifier"
   ]
  },
  {
   "cell_type": "code",
   "execution_count": null,
   "metadata": {},
   "outputs": [],
   "source": [
    "rf_xg = XGBRFClassifier(random_state=99, n_estimators=100, subsample=0.9, colsample_bynode=0.2, eval_metric='mlogloss')\n",
    "result_rf_xg = classifier_utils.ProjectsResults(rf_xg, projects, non_features_columns, drop_na=False)"
   ]
  },
  {
   "cell_type": "code",
   "execution_count": null,
   "metadata": {},
   "outputs": [],
   "source": [
    "report_rf_xg = result_rf_xg.get_report_df()\n",
    "\n",
    "report_rf_xg"
   ]
  },
  {
   "cell_type": "markdown",
   "metadata": {},
   "source": [
    "### Inspect project"
   ]
  },
  {
   "cell_type": "code",
   "execution_count": null,
   "metadata": {},
   "outputs": [],
   "source": [
    "project = result_rf_xg.get_project('alexo__wro4j')"
   ]
  },
  {
   "cell_type": "code",
   "execution_count": null,
   "metadata": {},
   "outputs": [],
   "source": [
    "display(project.get_scores_df())\n",
    "display(display(classifier_utils.plot_classification_report(project.scores)))"
   ]
  },
  {
   "cell_type": "markdown",
   "metadata": {},
   "source": [
    "### Tuning hyperparameters (TODO)"
   ]
  },
  {
   "cell_type": "code",
   "execution_count": null,
   "metadata": {},
   "outputs": [],
   "source": []
  },
  {
   "cell_type": "markdown",
   "metadata": {},
   "source": [
    "# Tuned algorithms' comparison (TODO)"
   ]
  },
  {
   "cell_type": "code",
   "execution_count": null,
   "metadata": {
    "scrolled": false
   },
   "outputs": [],
   "source": [
    "import importlib\n",
    "importlib.reload(classifier_utils)\n",
    "                 \n",
    "# setup the algorithms with the desired parameters\n",
    "algorithms = {}\n",
    "algorithms['sklearn-decisionTree'] = DecisionTreeClassifier(min_samples_split=5, random_state=99)\n",
    "# algorithms['sklearn-adaboost'] = AdaBoostClassifier(n_estimators=100, random_state=99)\n",
    "algorithms['sklearn-randomForest'] = RandomForestClassifier(random_state=99)\n",
    "# algorithms['xgBoost-randomForest'] = XGBRFClassifier(random_state=99, n_estimators=100, subsample=0.9, colsample_bynode=0.2, eval_metric='mlogloss')\n",
    "\n",
    "\n",
    "results = []\n",
    "for project in projects:\n",
    "    for algorithm_name, algorithm in algorithms.items():\n",
    "        row = []\n",
    "        project_results = classifier_utils.evaluate_project(project, non_features_columns, algorithm)\n",
    "        result = project_results.results\n",
    "        precision = result.iloc[0]['precision']\n",
    "        recall = result.iloc[0]['recall']\n",
    "        f1_score = result.iloc[0]['f1-score']\n",
    "        accuracy = result.iloc[0]['accuracy']\n",
    "        majority_class = result.iloc[0]['baseline (majority)']\n",
    "        improvement = result.iloc[0]['improvement']\n",
    "        row = [project, algorithm_name, precision, recall, f1_score, accuracy, majority_class, improvement]\n",
    "        results.append(row)\n",
    "    \n",
    "results = pd.DataFrame(results, columns=['project', 'algorithm', 'precision', 'recall', 'f1-score', 'accuracy', 'baseline (majority)', 'improvement'])\n",
    "results.sort_values('improvement', ascending=False)\n",
    "# print(results)\n",
    "# pd.concat(results, ignore_index=True)"
   ]
  },
  {
   "cell_type": "markdown",
   "metadata": {},
   "source": [
    "## Comparing algorithms' reports\n",
    "\n",
    "First let's merge the reports from Decision Tree, Random Forest and Random Forest XGBoost in a big table."
   ]
  },
  {
   "cell_type": "code",
   "execution_count": null,
   "metadata": {
    "pycharm": {
     "name": "#%%\n"
    }
   },
   "outputs": [],
   "source": [
    "df_inner_dt_rf = pd.merge(report_dt, report_rf, on='project', how='inner', suffixes=('_dt', '_rf'))\n",
    "\n",
    "df_xg = report_rf_xg.add_suffix(\"_xg\").rename(columns={\"project_xg\": \"project\"})\n",
    "\n",
    "df_inner_dt_rf_xg = pd.merge(df_inner_dt_rf,\n",
    "                             df_xg,\n",
    "                             on='project', how='inner')\n",
    "\n",
    "df_inner_dt_rf_xg\n"
   ]
  },
  {
   "cell_type": "markdown",
   "metadata": {},
   "source": [
    "### How much accuracy improvement does each algorithm provide to the projects?"
   ]
  },
  {
   "cell_type": "code",
   "execution_count": null,
   "metadata": {
    "pycharm": {
     "name": "#%%\n"
    }
   },
   "outputs": [],
   "source": [
    "improvements = df_inner_dt_rf_xg.filter(regex=(\"project|improvement.*\"))\n",
    "\n",
    "# improvements"
   ]
  },
  {
   "cell_type": "code",
   "execution_count": null,
   "metadata": {
    "pycharm": {
     "name": "#%%\n"
    }
   },
   "outputs": [],
   "source": [
    "cm = sns.light_palette(\"green\", as_cmap=True)\n",
    "\n",
    "improvements.style.background_gradient(cmap = cm).format({'improvement_dt' : \"{:.2%}\",\n",
    "                           'improvement_rf' : \"{:.2%}\",\n",
    "                           'improvement_xg': \"{:.2%}\"})"
   ]
  },
  {
   "cell_type": "markdown",
   "metadata": {},
   "source": [
    "## For each project, which algorithm provides the highest accuracy improvement?"
   ]
  },
  {
   "cell_type": "code",
   "execution_count": null,
   "metadata": {
    "pycharm": {
     "name": "#%%\n"
    }
   },
   "outputs": [],
   "source": [
    "winner_algo = improvements.set_index('project').idxmax(axis=1)\n",
    "\n",
    "winner_algo"
   ]
  },
  {
   "cell_type": "markdown",
   "metadata": {},
   "source": [
    "## In how many projects does each algorithm provide the highest accuracy improvement?"
   ]
  },
  {
   "cell_type": "code",
   "execution_count": null,
   "metadata": {
    "pycharm": {
     "name": "#%%\n"
    }
   },
   "outputs": [],
   "source": [
    "winner_algo.groupby(winner_algo).size().sort_values(ascending=False)\n"
   ]
  }
 ],
 "metadata": {
  "kernelspec": {
   "display_name": "Python 3",
   "language": "python",
   "name": "python3"
  },
  "language_info": {
   "codemirror_mode": {
    "name": "ipython",
    "version": 3
   },
   "file_extension": ".py",
   "mimetype": "text/x-python",
   "name": "python",
   "nbconvert_exporter": "python",
   "pygments_lexer": "ipython3",
   "version": "3.9.2"
  }
 },
 "nbformat": 4,
 "nbformat_minor": 4
}