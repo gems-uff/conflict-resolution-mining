{
 "cells": [
  {
   "cell_type": "code",
   "execution_count": 1,
   "metadata": {},
   "outputs": [],
   "source": [
    "import pandas as pd\n",
    "import math\n",
    "pd.set_option('display.max_columns', None)\n",
    "import os\n",
    "import sys"
   ]
  },
  {
   "cell_type": "code",
   "execution_count": 2,
   "metadata": {},
   "outputs": [],
   "source": [
    "# collect_attributes_db_failed.txt (collect_attributes_db)\n",
    "# collect_attributes_failed.txt (collect_attributes)"
   ]
  },
  {
   "cell_type": "code",
   "execution_count": 3,
   "metadata": {},
   "outputs": [],
   "source": [
    "# load datasets\n",
    "columns = ['chunk_id', \"failure_cause\"]\n",
    "df = pd.read_csv('../../data/logs/collect_attributes_db_failed.txt', delimiter = \":\",  names=columns, header=None)\n",
    "df2 = pd.read_csv('../../data/logs/collect_attributes_failed.txt', delimiter = \":\",  names=columns, header=None)\n",
    "selected = pd.read_csv('../../data/SELECTED_LABELLED_DATASET.csv')\n",
    "\n",
    "chunks = pd.read_csv('../../data/LABELLED_DATASET.csv')"
   ]
  },
  {
   "cell_type": "markdown",
   "metadata": {},
   "source": [
    "## Analyzing collect_attributes_db_failed.txt (collect_attributes_db)"
   ]
  },
  {
   "cell_type": "code",
   "execution_count": 4,
   "metadata": {},
   "outputs": [
    {
     "data": {
      "text/html": [
       "<div>\n",
       "<style scoped>\n",
       "    .dataframe tbody tr th:only-of-type {\n",
       "        vertical-align: middle;\n",
       "    }\n",
       "\n",
       "    .dataframe tbody tr th {\n",
       "        vertical-align: top;\n",
       "    }\n",
       "\n",
       "    .dataframe thead th {\n",
       "        text-align: right;\n",
       "    }\n",
       "</style>\n",
       "<table border=\"1\" class=\"dataframe\">\n",
       "  <thead>\n",
       "    <tr style=\"text-align: right;\">\n",
       "      <th></th>\n",
       "      <th>chunk_id</th>\n",
       "      <th>failure_cause</th>\n",
       "    </tr>\n",
       "  </thead>\n",
       "  <tbody>\n",
       "    <tr>\n",
       "      <th>0</th>\n",
       "      <td>1120635</td>\n",
       "      <td>REPO_NOT_AVAILABLE</td>\n",
       "    </tr>\n",
       "    <tr>\n",
       "      <th>1</th>\n",
       "      <td>1120636</td>\n",
       "      <td>REPO_NOT_AVAILABLE</td>\n",
       "    </tr>\n",
       "    <tr>\n",
       "      <th>2</th>\n",
       "      <td>1120637</td>\n",
       "      <td>REPO_NOT_AVAILABLE</td>\n",
       "    </tr>\n",
       "    <tr>\n",
       "      <th>3</th>\n",
       "      <td>1120638</td>\n",
       "      <td>REPO_NOT_AVAILABLE</td>\n",
       "    </tr>\n",
       "    <tr>\n",
       "      <th>4</th>\n",
       "      <td>1410716</td>\n",
       "      <td>REPO_NOT_AVAILABLE</td>\n",
       "    </tr>\n",
       "  </tbody>\n",
       "</table>\n",
       "</div>"
      ],
      "text/plain": [
       "   chunk_id       failure_cause\n",
       "0   1120635  REPO_NOT_AVAILABLE\n",
       "1   1120636  REPO_NOT_AVAILABLE\n",
       "2   1120637  REPO_NOT_AVAILABLE\n",
       "3   1120638  REPO_NOT_AVAILABLE\n",
       "4   1410716  REPO_NOT_AVAILABLE"
      ]
     },
     "execution_count": 4,
     "metadata": {},
     "output_type": "execute_result"
    }
   ],
   "source": [
    "df.head()"
   ]
  },
  {
   "cell_type": "code",
   "execution_count": 5,
   "metadata": {},
   "outputs": [
    {
     "name": "stdout",
     "output_type": "stream",
     "text": [
      "Size of selected chunks: 57214\n",
      "Size of failed_selected: 3299\n",
      "Size of failed: 6681\n"
     ]
    },
    {
     "data": {
      "text/html": [
       "<div>\n",
       "<style scoped>\n",
       "    .dataframe tbody tr th:only-of-type {\n",
       "        vertical-align: middle;\n",
       "    }\n",
       "\n",
       "    .dataframe tbody tr th {\n",
       "        vertical-align: top;\n",
       "    }\n",
       "\n",
       "    .dataframe thead th {\n",
       "        text-align: right;\n",
       "    }\n",
       "</style>\n",
       "<table border=\"1\" class=\"dataframe\">\n",
       "  <thead>\n",
       "    <tr style=\"text-align: right;\">\n",
       "      <th></th>\n",
       "      <th>chunk_id</th>\n",
       "      <th>failure_cause</th>\n",
       "    </tr>\n",
       "  </thead>\n",
       "  <tbody>\n",
       "    <tr>\n",
       "      <th>1830</th>\n",
       "      <td>1380730</td>\n",
       "      <td>CANT_MERGE</td>\n",
       "    </tr>\n",
       "    <tr>\n",
       "      <th>5468</th>\n",
       "      <td>1150439</td>\n",
       "      <td>CANT_MERGE</td>\n",
       "    </tr>\n",
       "    <tr>\n",
       "      <th>905</th>\n",
       "      <td>1376577</td>\n",
       "      <td>CANT_MERGE</td>\n",
       "    </tr>\n",
       "  </tbody>\n",
       "</table>\n",
       "</div>"
      ],
      "text/plain": [
       "      chunk_id failure_cause\n",
       "1830   1380730    CANT_MERGE\n",
       "5468   1150439    CANT_MERGE\n",
       "905    1376577    CANT_MERGE"
      ]
     },
     "execution_count": 5,
     "metadata": {},
     "output_type": "execute_result"
    }
   ],
   "source": [
    "# filter by selected projects only\n",
    "\n",
    "print(f\"Size of selected chunks: {len(selected)}\")\n",
    "selected.sample(n=3)\n",
    "selected_chunks = list(selected['chunk_id'])\n",
    "failed_selected = df[df['chunk_id'].isin(selected_chunks)]\n",
    "print(f\"Size of failed_selected: {len(failed_selected)}\")\n",
    "print(f\"Size of failed: {len(df)}\")\n",
    "failed_selected.sample(n=3)"
   ]
  },
  {
   "cell_type": "code",
   "execution_count": 6,
   "metadata": {},
   "outputs": [
    {
     "data": {
      "text/plain": [
       "CANT_MERGE                  3261\n",
       "INCOSISTENT_MERGE_REPLAY      38\n",
       "Name: failure_cause, dtype: int64"
      ]
     },
     "execution_count": 6,
     "metadata": {},
     "output_type": "execute_result"
    }
   ],
   "source": [
    "failed_selected['failure_cause'].value_counts()"
   ]
  },
  {
   "cell_type": "code",
   "execution_count": 7,
   "metadata": {},
   "outputs": [
    {
     "data": {
      "text/plain": [
       "REPO_NOT_AVAILABLE          3363\n",
       "CANT_MERGE                  3261\n",
       "INCOSISTENT_MERGE_REPLAY      52\n",
       "INVALID_FILE                   5\n",
       "Name: failure_cause, dtype: int64"
      ]
     },
     "execution_count": 7,
     "metadata": {},
     "output_type": "execute_result"
    }
   ],
   "source": [
    "df['failure_cause'].value_counts()"
   ]
  },
  {
   "cell_type": "code",
   "execution_count": 8,
   "metadata": {},
   "outputs": [
    {
     "data": {
      "text/html": [
       "<div>\n",
       "<style scoped>\n",
       "    .dataframe tbody tr th:only-of-type {\n",
       "        vertical-align: middle;\n",
       "    }\n",
       "\n",
       "    .dataframe tbody tr th {\n",
       "        vertical-align: top;\n",
       "    }\n",
       "\n",
       "    .dataframe thead th {\n",
       "        text-align: right;\n",
       "    }\n",
       "</style>\n",
       "<table border=\"1\" class=\"dataframe\">\n",
       "  <thead>\n",
       "    <tr style=\"text-align: right;\">\n",
       "      <th></th>\n",
       "      <th>chunk_id</th>\n",
       "      <th>failure_cause</th>\n",
       "    </tr>\n",
       "  </thead>\n",
       "  <tbody>\n",
       "    <tr>\n",
       "      <th>1572</th>\n",
       "      <td>1380408</td>\n",
       "      <td>CANT_MERGE</td>\n",
       "    </tr>\n",
       "    <tr>\n",
       "      <th>2858</th>\n",
       "      <td>931951</td>\n",
       "      <td>CANT_MERGE</td>\n",
       "    </tr>\n",
       "    <tr>\n",
       "      <th>5447</th>\n",
       "      <td>1150402</td>\n",
       "      <td>CANT_MERGE</td>\n",
       "    </tr>\n",
       "    <tr>\n",
       "      <th>907</th>\n",
       "      <td>1376579</td>\n",
       "      <td>CANT_MERGE</td>\n",
       "    </tr>\n",
       "    <tr>\n",
       "      <th>336</th>\n",
       "      <td>1375850</td>\n",
       "      <td>CANT_MERGE</td>\n",
       "    </tr>\n",
       "    <tr>\n",
       "      <th>1299</th>\n",
       "      <td>1380075</td>\n",
       "      <td>CANT_MERGE</td>\n",
       "    </tr>\n",
       "    <tr>\n",
       "      <th>1223</th>\n",
       "      <td>1379999</td>\n",
       "      <td>CANT_MERGE</td>\n",
       "    </tr>\n",
       "    <tr>\n",
       "      <th>5804</th>\n",
       "      <td>1150901</td>\n",
       "      <td>CANT_MERGE</td>\n",
       "    </tr>\n",
       "    <tr>\n",
       "      <th>970</th>\n",
       "      <td>1376643</td>\n",
       "      <td>CANT_MERGE</td>\n",
       "    </tr>\n",
       "    <tr>\n",
       "      <th>58</th>\n",
       "      <td>1375407</td>\n",
       "      <td>CANT_MERGE</td>\n",
       "    </tr>\n",
       "  </tbody>\n",
       "</table>\n",
       "</div>"
      ],
      "text/plain": [
       "      chunk_id failure_cause\n",
       "1572   1380408    CANT_MERGE\n",
       "2858    931951    CANT_MERGE\n",
       "5447   1150402    CANT_MERGE\n",
       "907    1376579    CANT_MERGE\n",
       "336    1375850    CANT_MERGE\n",
       "1299   1380075    CANT_MERGE\n",
       "1223   1379999    CANT_MERGE\n",
       "5804   1150901    CANT_MERGE\n",
       "970    1376643    CANT_MERGE\n",
       "58     1375407    CANT_MERGE"
      ]
     },
     "execution_count": 8,
     "metadata": {},
     "output_type": "execute_result"
    }
   ],
   "source": [
    "failed_selected[failed_selected['failure_cause'] == 'CANT_MERGE'].sample(n=10)"
   ]
  },
  {
   "cell_type": "code",
   "execution_count": 9,
   "metadata": {
    "scrolled": true
   },
   "outputs": [
    {
     "data": {
      "text/html": [
       "<div>\n",
       "<style scoped>\n",
       "    .dataframe tbody tr th:only-of-type {\n",
       "        vertical-align: middle;\n",
       "    }\n",
       "\n",
       "    .dataframe tbody tr th {\n",
       "        vertical-align: top;\n",
       "    }\n",
       "\n",
       "    .dataframe thead th {\n",
       "        text-align: right;\n",
       "    }\n",
       "</style>\n",
       "<table border=\"1\" class=\"dataframe\">\n",
       "  <thead>\n",
       "    <tr style=\"text-align: right;\">\n",
       "      <th></th>\n",
       "      <th>chunk_id</th>\n",
       "      <th>developerdecision</th>\n",
       "      <th>line_start</th>\n",
       "      <th>line_end</th>\n",
       "      <th>line_separator</th>\n",
       "      <th>kind_conflict</th>\n",
       "      <th>url</th>\n",
       "      <th>project</th>\n",
       "      <th>project_user</th>\n",
       "      <th>project_name</th>\n",
       "      <th>path</th>\n",
       "      <th>file_name</th>\n",
       "      <th>sha</th>\n",
       "      <th>leftsha</th>\n",
       "      <th>rightsha</th>\n",
       "      <th>basesha</th>\n",
       "    </tr>\n",
       "  </thead>\n",
       "  <tbody>\n",
       "    <tr>\n",
       "      <th>100494</th>\n",
       "      <td>1149568</td>\n",
       "      <td>Manual</td>\n",
       "      <td>97</td>\n",
       "      <td>111</td>\n",
       "      <td>104</td>\n",
       "      <td>Attribute, Method declaration, Method signatur...</td>\n",
       "      <td>https://github.com/revolsys/com.revolsys.open</td>\n",
       "      <td>revolsys/com.revolsys.open</td>\n",
       "      <td>revolsys</td>\n",
       "      <td>com.revolsys.open</td>\n",
       "      <td>revolsys/com.revolsys.open/com.revolsys.open.c...</td>\n",
       "      <td>CopyProcess.java</td>\n",
       "      <td>054624c44d26a26165ffbd1be05b1dbfed7b8373</td>\n",
       "      <td>ffe2430f2ecf5d478d07bf56f0d974ddd4035f7c</td>\n",
       "      <td>cce1ee64e3f2fa692d03dae9ad3fbacf374d279b</td>\n",
       "      <td>46f6e17dff46cdca056f246b1a8194902ca038de</td>\n",
       "    </tr>\n",
       "  </tbody>\n",
       "</table>\n",
       "</div>"
      ],
      "text/plain": [
       "        chunk_id developerdecision  line_start  line_end  line_separator  \\\n",
       "100494   1149568            Manual          97       111             104   \n",
       "\n",
       "                                            kind_conflict  \\\n",
       "100494  Attribute, Method declaration, Method signatur...   \n",
       "\n",
       "                                                  url  \\\n",
       "100494  https://github.com/revolsys/com.revolsys.open   \n",
       "\n",
       "                           project project_user       project_name  \\\n",
       "100494  revolsys/com.revolsys.open     revolsys  com.revolsys.open   \n",
       "\n",
       "                                                     path         file_name  \\\n",
       "100494  revolsys/com.revolsys.open/com.revolsys.open.c...  CopyProcess.java   \n",
       "\n",
       "                                             sha  \\\n",
       "100494  054624c44d26a26165ffbd1be05b1dbfed7b8373   \n",
       "\n",
       "                                         leftsha  \\\n",
       "100494  ffe2430f2ecf5d478d07bf56f0d974ddd4035f7c   \n",
       "\n",
       "                                        rightsha  \\\n",
       "100494  cce1ee64e3f2fa692d03dae9ad3fbacf374d279b   \n",
       "\n",
       "                                         basesha  \n",
       "100494  46f6e17dff46cdca056f246b1a8194902ca038de  "
      ]
     },
     "execution_count": 9,
     "metadata": {},
     "output_type": "execute_result"
    }
   ],
   "source": [
    "chunks[chunks['chunk_id'] == 1149568]\n",
    "# chunks.dtypes\n",
    "# chunks.head()"
   ]
  },
  {
   "cell_type": "markdown",
   "metadata": {},
   "source": [
    "## Analyzing collect_attributes_failed.txt (collect_attributes)"
   ]
  },
  {
   "cell_type": "code",
   "execution_count": 10,
   "metadata": {},
   "outputs": [],
   "source": [
    "# load datasets\n",
    "columns = ['chunk_id', \"failure_cause\"]\n",
    "df2 = pd.read_csv('../../data/logs/collect_attributes_failed.txt', delimiter = \":\",  names=columns, header=None)\n",
    "selected = pd.read_csv('../../data/SELECTED_LABELLED_DATASET.csv')\n",
    "\n",
    "chunks = pd.read_csv('../../data/LABELLED_DATASET.csv')\n",
    "\n",
    "\n"
   ]
  },
  {
   "cell_type": "code",
   "execution_count": 11,
   "metadata": {},
   "outputs": [
    {
     "data": {
      "text/html": [
       "<div>\n",
       "<style scoped>\n",
       "    .dataframe tbody tr th:only-of-type {\n",
       "        vertical-align: middle;\n",
       "    }\n",
       "\n",
       "    .dataframe tbody tr th {\n",
       "        vertical-align: top;\n",
       "    }\n",
       "\n",
       "    .dataframe thead th {\n",
       "        text-align: right;\n",
       "    }\n",
       "</style>\n",
       "<table border=\"1\" class=\"dataframe\">\n",
       "  <thead>\n",
       "    <tr style=\"text-align: right;\">\n",
       "      <th></th>\n",
       "      <th>chunk_id</th>\n",
       "      <th>failure_cause</th>\n",
       "    </tr>\n",
       "  </thead>\n",
       "  <tbody>\n",
       "    <tr>\n",
       "      <th>1892</th>\n",
       "      <td>1172906</td>\n",
       "      <td>REPO_NOT_AVAILABLE</td>\n",
       "    </tr>\n",
       "    <tr>\n",
       "      <th>2453</th>\n",
       "      <td>947013</td>\n",
       "      <td>REPO_NOT_AVAILABLE</td>\n",
       "    </tr>\n",
       "    <tr>\n",
       "      <th>282</th>\n",
       "      <td>777653</td>\n",
       "      <td>REPO_NOT_AVAILABLE</td>\n",
       "    </tr>\n",
       "  </tbody>\n",
       "</table>\n",
       "</div>"
      ],
      "text/plain": [
       "      chunk_id       failure_cause\n",
       "1892   1172906  REPO_NOT_AVAILABLE\n",
       "2453    947013  REPO_NOT_AVAILABLE\n",
       "282     777653  REPO_NOT_AVAILABLE"
      ]
     },
     "execution_count": 11,
     "metadata": {},
     "output_type": "execute_result"
    }
   ],
   "source": [
    "# LEMBRAR QUE ESSA EXTRAÇÃO SÓ CONSIDERA UM CHUNK DE CADA MERGE. ENTÃO A FALHA DE UM CHUNK VALE PARA TODOS OS CHUNKS\n",
    "#DO MERGE DAQUELE CHUNK\n",
    "new_chunks = set()\n",
    "for index, row in df2.iterrows():\n",
    "    chunk_id = row['chunk_id']\n",
    "    failure_cause = row['failure_cause']\n",
    "    merge_SHA = chunks[chunks['chunk_id'] == chunk_id].iloc[0]['sha']\n",
    "    merge_chunks = list(chunks[chunks['sha'] == merge_SHA]['chunk_id'])\n",
    "    new_chunks.add((chunk_id, failure_cause))\n",
    "    for chunk in merge_chunks:\n",
    "        new_chunks.add((chunk, failure_cause))\n",
    "df2 = pd.DataFrame(list(new_chunks), columns=df2.columns)\n",
    "df2.sample(n=3)\n",
    "    "
   ]
  },
  {
   "cell_type": "code",
   "execution_count": 12,
   "metadata": {},
   "outputs": [
    {
     "data": {
      "text/plain": [
       "3266"
      ]
     },
     "execution_count": 12,
     "metadata": {},
     "output_type": "execute_result"
    }
   ],
   "source": [
    "len(df2)"
   ]
  },
  {
   "cell_type": "code",
   "execution_count": 13,
   "metadata": {},
   "outputs": [
    {
     "data": {
      "text/html": [
       "<div>\n",
       "<style scoped>\n",
       "    .dataframe tbody tr th:only-of-type {\n",
       "        vertical-align: middle;\n",
       "    }\n",
       "\n",
       "    .dataframe tbody tr th {\n",
       "        vertical-align: top;\n",
       "    }\n",
       "\n",
       "    .dataframe thead th {\n",
       "        text-align: right;\n",
       "    }\n",
       "</style>\n",
       "<table border=\"1\" class=\"dataframe\">\n",
       "  <thead>\n",
       "    <tr style=\"text-align: right;\">\n",
       "      <th></th>\n",
       "      <th>chunk_id</th>\n",
       "      <th>failure_cause</th>\n",
       "    </tr>\n",
       "  </thead>\n",
       "  <tbody>\n",
       "    <tr>\n",
       "      <th>0</th>\n",
       "      <td>1488498</td>\n",
       "      <td>REPO_NOT_AVAILABLE</td>\n",
       "    </tr>\n",
       "    <tr>\n",
       "      <th>1</th>\n",
       "      <td>1400690</td>\n",
       "      <td>REPO_NOT_AVAILABLE</td>\n",
       "    </tr>\n",
       "    <tr>\n",
       "      <th>2</th>\n",
       "      <td>1055407</td>\n",
       "      <td>REPO_NOT_AVAILABLE</td>\n",
       "    </tr>\n",
       "    <tr>\n",
       "      <th>3</th>\n",
       "      <td>1055145</td>\n",
       "      <td>REPO_NOT_AVAILABLE</td>\n",
       "    </tr>\n",
       "    <tr>\n",
       "      <th>4</th>\n",
       "      <td>1010048</td>\n",
       "      <td>REPO_NOT_AVAILABLE</td>\n",
       "    </tr>\n",
       "  </tbody>\n",
       "</table>\n",
       "</div>"
      ],
      "text/plain": [
       "   chunk_id       failure_cause\n",
       "0   1488498  REPO_NOT_AVAILABLE\n",
       "1   1400690  REPO_NOT_AVAILABLE\n",
       "2   1055407  REPO_NOT_AVAILABLE\n",
       "3   1055145  REPO_NOT_AVAILABLE\n",
       "4   1010048  REPO_NOT_AVAILABLE"
      ]
     },
     "execution_count": 13,
     "metadata": {},
     "output_type": "execute_result"
    }
   ],
   "source": [
    "df2.head()"
   ]
  },
  {
   "cell_type": "code",
   "execution_count": 14,
   "metadata": {},
   "outputs": [
    {
     "name": "stdout",
     "output_type": "stream",
     "text": [
      "Size of selected chunks: 57214\n",
      "Size of failed_selected: 0\n",
      "Size of failed: 3266\n"
     ]
    }
   ],
   "source": [
    "# filter by selected projects only\n",
    "\n",
    "print(f\"Size of selected chunks: {len(selected)}\")\n",
    "selected.sample(n=3)\n",
    "selected_chunks = list(selected['chunk_id'])\n",
    "failed_selected = df2[df2['chunk_id'].isin(selected_chunks)]\n",
    "print(f\"Size of failed_selected: {len(failed_selected)}\")\n",
    "print(f\"Size of failed: {len(df2)}\")\n",
    "# failed_selected.sample()"
   ]
  },
  {
   "cell_type": "code",
   "execution_count": 15,
   "metadata": {},
   "outputs": [
    {
     "data": {
      "text/plain": [
       "REPO_NOT_AVAILABLE    3216\n",
       "BAD_COMMIT              50\n",
       "Name: failure_cause, dtype: int64"
      ]
     },
     "execution_count": 15,
     "metadata": {},
     "output_type": "execute_result"
    }
   ],
   "source": [
    "df2['failure_cause'].value_counts()"
   ]
  },
  {
   "cell_type": "code",
   "execution_count": null,
   "metadata": {},
   "outputs": [],
   "source": []
  }
 ],
 "metadata": {
  "kernelspec": {
   "display_name": "Python 3",
   "language": "python",
   "name": "python3"
  },
  "language_info": {
   "codemirror_mode": {
    "name": "ipython",
    "version": 3
   },
   "file_extension": ".py",
   "mimetype": "text/x-python",
   "name": "python",
   "nbconvert_exporter": "python",
   "pygments_lexer": "ipython3",
   "version": "3.9.2"
  }
 },
 "nbformat": 4,
 "nbformat_minor": 4
}
