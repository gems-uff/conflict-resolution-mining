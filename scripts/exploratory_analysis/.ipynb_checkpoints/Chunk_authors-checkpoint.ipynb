{
 "cells": [
  {
   "cell_type": "code",
   "execution_count": 1,
   "metadata": {},
   "outputs": [],
   "source": [
    "import pandas as pd"
   ]
  },
  {
   "cell_type": "code",
   "execution_count": 2,
   "metadata": {},
   "outputs": [
    {
     "data": {
      "text/html": [
       "<div>\n",
       "<style scoped>\n",
       "    .dataframe tbody tr th:only-of-type {\n",
       "        vertical-align: middle;\n",
       "    }\n",
       "\n",
       "    .dataframe tbody tr th {\n",
       "        vertical-align: top;\n",
       "    }\n",
       "\n",
       "    .dataframe thead th {\n",
       "        text-align: right;\n",
       "    }\n",
       "</style>\n",
       "<table border=\"1\" class=\"dataframe\">\n",
       "  <thead>\n",
       "    <tr style=\"text-align: right;\">\n",
       "      <th></th>\n",
       "      <th>chunk_id</th>\n",
       "      <th>left_size</th>\n",
       "      <th>right_size</th>\n",
       "      <th>authors_left</th>\n",
       "      <th>authors_right</th>\n",
       "    </tr>\n",
       "  </thead>\n",
       "  <tbody>\n",
       "    <tr>\n",
       "      <th>0</th>\n",
       "      <td>776661</td>\n",
       "      <td>1</td>\n",
       "      <td>1</td>\n",
       "      <td>{'tiago@3scale.net': {'modified': 1, 'deleted'...</td>\n",
       "      <td>{'geoffd123@hotmail.com': {'modified': 1, 'del...</td>\n",
       "    </tr>\n",
       "    <tr>\n",
       "      <th>1</th>\n",
       "      <td>776662</td>\n",
       "      <td>6</td>\n",
       "      <td>12</td>\n",
       "      <td>{'tiago@3scale.net': {'modified': 1, 'deleted'...</td>\n",
       "      <td>{'geoffd@professionalhosts.com': {'modified': ...</td>\n",
       "    </tr>\n",
       "    <tr>\n",
       "      <th>2</th>\n",
       "      <td>776697</td>\n",
       "      <td>60</td>\n",
       "      <td>0</td>\n",
       "      <td>{'njbartlett@gmail.com': {'modified': 57, 'del...</td>\n",
       "      <td>{}</td>\n",
       "    </tr>\n",
       "    <tr>\n",
       "      <th>3</th>\n",
       "      <td>776700</td>\n",
       "      <td>17</td>\n",
       "      <td>31</td>\n",
       "      <td>{'njbartlett@gmail.com': {'modified': 17, 'del...</td>\n",
       "      <td>{'njbartlett@gmail.com': {'modified': 31, 'del...</td>\n",
       "    </tr>\n",
       "    <tr>\n",
       "      <th>4</th>\n",
       "      <td>776710</td>\n",
       "      <td>2</td>\n",
       "      <td>2</td>\n",
       "      <td>{'chris@wensel.net': {'modified': 2, 'deleted'...</td>\n",
       "      <td>{'chris@wensel.net': {'modified': 2, 'deleted'...</td>\n",
       "    </tr>\n",
       "  </tbody>\n",
       "</table>\n",
       "</div>"
      ],
      "text/plain": [
       "   chunk_id  left_size  right_size  \\\n",
       "0    776661          1           1   \n",
       "1    776662          6          12   \n",
       "2    776697         60           0   \n",
       "3    776700         17          31   \n",
       "4    776710          2           2   \n",
       "\n",
       "                                        authors_left  \\\n",
       "0  {'tiago@3scale.net': {'modified': 1, 'deleted'...   \n",
       "1  {'tiago@3scale.net': {'modified': 1, 'deleted'...   \n",
       "2  {'njbartlett@gmail.com': {'modified': 57, 'del...   \n",
       "3  {'njbartlett@gmail.com': {'modified': 17, 'del...   \n",
       "4  {'chris@wensel.net': {'modified': 2, 'deleted'...   \n",
       "\n",
       "                                       authors_right  \n",
       "0  {'geoffd123@hotmail.com': {'modified': 1, 'del...  \n",
       "1  {'geoffd@professionalhosts.com': {'modified': ...  \n",
       "2                                                 {}  \n",
       "3  {'njbartlett@gmail.com': {'modified': 31, 'del...  \n",
       "4  {'chris@wensel.net': {'modified': 2, 'deleted'...  "
      ]
     },
     "execution_count": 2,
     "metadata": {},
     "output_type": "execute_result"
    }
   ],
   "source": [
    "df = pd.read_csv('../../data/chunk_authors_v1.csv')\n",
    "df.head()"
   ]
  },
  {
   "cell_type": "code",
   "execution_count": 8,
   "metadata": {},
   "outputs": [
    {
     "name": "stdout",
     "output_type": "stream",
     "text": [
      "Total chunk authors processed: 163388\n"
     ]
    }
   ],
   "source": [
    "print(f\"Total of chunks processed: {len(df)}\")"
   ]
  },
  {
   "cell_type": "code",
   "execution_count": 10,
   "metadata": {},
   "outputs": [
    {
     "name": "stdout",
     "output_type": "stream",
     "text": [
      "Total of chunks with at least one author: 117820\n"
     ]
    }
   ],
   "source": [
    "selected = df[(df['authors_left'] != '{}') & (df['authors_right'] != '{}')]\n",
    "print(f\"Total of chunks with at least one author: {len(selected)}\")"
   ]
  },
  {
   "cell_type": "code",
   "execution_count": null,
   "metadata": {},
   "outputs": [],
   "source": []
  }
 ],
 "metadata": {
  "kernelspec": {
   "display_name": "Python 3",
   "language": "python",
   "name": "python3"
  },
  "language_info": {
   "codemirror_mode": {
    "name": "ipython",
    "version": 3
   },
   "file_extension": ".py",
   "mimetype": "text/x-python",
   "name": "python",
   "nbconvert_exporter": "python",
   "pygments_lexer": "ipython3",
   "version": "3.8.5"
  }
 },
 "nbformat": 4,
 "nbformat_minor": 4
}
