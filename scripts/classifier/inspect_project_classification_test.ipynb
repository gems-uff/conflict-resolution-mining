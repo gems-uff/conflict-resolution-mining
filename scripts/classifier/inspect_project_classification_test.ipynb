{
 "cells": [
  {
   "cell_type": "code",
   "execution_count": 1,
   "metadata": {},
   "outputs": [],
   "source": [
    "import numpy as np\n",
    "import pandas as pd\n",
    "from IPython.core.display import display\n",
    "\n",
    "pd.set_option('display.max_columns', None)\n",
    "from sklearn.tree import DecisionTreeClassifier\n",
    "from sklearn.ensemble import RandomForestClassifier\n",
    "from xgboost import XGBRFClassifier\n",
    "from ConstantClassifier import ConstantClassifier\n",
    "import warnings\n",
    "import classifier_utils\n",
    "warnings.filterwarnings(\"ignore\", category=UserWarning)"
   ]
  },
  {
   "cell_type": "code",
   "execution_count": 2,
   "metadata": {},
   "outputs": [],
   "source": [
    "non_features_columns = [\"chunk_id\", \"line_start\", \"line_end\", \"line_separator\", \"kind_conflict\", \"url\", \"project\"]\n",
    "non_features_columns.extend([\"project_user\", \"project_name\", \"path\", \"file_name\", \"sha\", \"leftsha\", \"rightsha\", \"basesha\"])"
   ]
  },
  {
   "cell_type": "code",
   "execution_count": 3,
   "metadata": {},
   "outputs": [],
   "source": [
    "project_name = \"freenet__fred\"\n",
    "project_name = project_name.replace('/','__')\n",
    "df_test = pd.read_csv(f'../../data/projects/{project_name}-test.csv')"
   ]
  },
  {
   "cell_type": "code",
   "execution_count": 4,
   "metadata": {},
   "outputs": [
    {
     "name": "stdout",
     "output_type": "stream",
     "text": [
      "Total number of rows for project freenet__fred: 316\n",
      "Percentage of rows with missing values: 63/316 (19.94%)\n"
     ]
    }
   ],
   "source": [
    "df_na = df_test[df_test.isna().any(axis=1)]\n",
    "print(f'Total number of rows for project {project_name}: {len(df_test)}')\n",
    "print(f'Percentage of rows with missing values: {len(df_na)}/{len(df_test)} ({(len(df_na) / len(df_test))*100:.2f}%)')"
   ]
  },
  {
   "cell_type": "markdown",
   "metadata": {},
   "source": [
    "# Class distributions"
   ]
  },
  {
   "cell_type": "markdown",
   "metadata": {},
   "source": [
    "### Normalized (%)"
   ]
  },
  {
   "cell_type": "code",
   "execution_count": 5,
   "metadata": {},
   "outputs": [
    {
     "data": {
      "text/html": [
       "<div>\n",
       "<style scoped>\n",
       "    .dataframe tbody tr th:only-of-type {\n",
       "        vertical-align: middle;\n",
       "    }\n",
       "\n",
       "    .dataframe tbody tr th {\n",
       "        vertical-align: top;\n",
       "    }\n",
       "\n",
       "    .dataframe thead th {\n",
       "        text-align: right;\n",
       "    }\n",
       "</style>\n",
       "<table border=\"1\" class=\"dataframe\">\n",
       "  <thead>\n",
       "    <tr style=\"text-align: right;\">\n",
       "      <th></th>\n",
       "      <th>Project</th>\n",
       "      <th>Version 1</th>\n",
       "      <th>Version 2</th>\n",
       "      <th>Combination</th>\n",
       "      <th>ConcatenationV1V2</th>\n",
       "      <th>ConcatenationV2V1</th>\n",
       "      <th>Manual</th>\n",
       "      <th>None</th>\n",
       "    </tr>\n",
       "  </thead>\n",
       "  <tbody>\n",
       "    <tr>\n",
       "      <th>0</th>\n",
       "      <td>freenet__fred</td>\n",
       "      <td>43.08</td>\n",
       "      <td>17.79</td>\n",
       "      <td>20.16</td>\n",
       "      <td>7.91</td>\n",
       "      <td>0.4</td>\n",
       "      <td>10.28</td>\n",
       "      <td>0.4</td>\n",
       "    </tr>\n",
       "  </tbody>\n",
       "</table>\n",
       "</div>"
      ],
      "text/plain": [
       "         Project  Version 1  Version 2  Combination  ConcatenationV1V2  \\\n",
       "0  freenet__fred      43.08      17.79        20.16               7.91   \n",
       "\n",
       "   ConcatenationV2V1  Manual  None  \n",
       "0                0.4   10.28   0.4  "
      ]
     },
     "execution_count": 5,
     "metadata": {},
     "output_type": "execute_result"
    }
   ],
   "source": [
    "class_distribution_normalized = classifier_utils.get_project_class_distribution(df_test, project_name)\n",
    "\n",
    "class_distribution_normalized"
   ]
  },
  {
   "cell_type": "markdown",
   "metadata": {},
   "source": [
    "### Count"
   ]
  },
  {
   "cell_type": "code",
   "execution_count": 6,
   "metadata": {},
   "outputs": [
    {
     "data": {
      "text/html": [
       "<div>\n",
       "<style scoped>\n",
       "    .dataframe tbody tr th:only-of-type {\n",
       "        vertical-align: middle;\n",
       "    }\n",
       "\n",
       "    .dataframe tbody tr th {\n",
       "        vertical-align: top;\n",
       "    }\n",
       "\n",
       "    .dataframe thead th {\n",
       "        text-align: right;\n",
       "    }\n",
       "</style>\n",
       "<table border=\"1\" class=\"dataframe\">\n",
       "  <thead>\n",
       "    <tr style=\"text-align: right;\">\n",
       "      <th></th>\n",
       "      <th>Project</th>\n",
       "      <th>Version 1</th>\n",
       "      <th>Version 2</th>\n",
       "      <th>Combination</th>\n",
       "      <th>ConcatenationV1V2</th>\n",
       "      <th>ConcatenationV2V1</th>\n",
       "      <th>Manual</th>\n",
       "      <th>None</th>\n",
       "    </tr>\n",
       "  </thead>\n",
       "  <tbody>\n",
       "    <tr>\n",
       "      <th>0</th>\n",
       "      <td>freenet__fred</td>\n",
       "      <td>109</td>\n",
       "      <td>45</td>\n",
       "      <td>51</td>\n",
       "      <td>20</td>\n",
       "      <td>1</td>\n",
       "      <td>26</td>\n",
       "      <td>1</td>\n",
       "    </tr>\n",
       "  </tbody>\n",
       "</table>\n",
       "</div>"
      ],
      "text/plain": [
       "         Project  Version 1  Version 2  Combination  ConcatenationV1V2  \\\n",
       "0  freenet__fred        109         45           51                 20   \n",
       "\n",
       "   ConcatenationV2V1  Manual  None  \n",
       "0                  1      26     1  "
      ]
     },
     "execution_count": 6,
     "metadata": {},
     "output_type": "execute_result"
    }
   ],
   "source": [
    "class_distribution_count = classifier_utils.get_project_class_distribution(df_test, project_name, False)\n",
    "\n",
    "class_distribution_count"
   ]
  },
  {
   "cell_type": "markdown",
   "metadata": {},
   "source": [
    "# Classifiers"
   ]
  },
  {
   "cell_type": "code",
   "execution_count": 7,
   "metadata": {},
   "outputs": [],
   "source": [
    "# choose which algorithm to use\n",
    "# algorithm = DecisionTreeClassifier(random_state=99)\n",
    "algorithm = RandomForestClassifier(random_state=99, n_jobs=5, n_estimators=100, max_features=0.3, min_samples_leaf=1)\n",
    "# algorithm = XGBRFClassifier(random_state=99)"
   ]
  },
  {
   "cell_type": "code",
   "execution_count": 8,
   "metadata": {
    "pycharm": {
     "name": "#%%\n"
    }
   },
   "outputs": [],
   "source": [
    "result = classifier_utils.ProjectsResults(algorithm, [project_name], non_features_columns, training=False)"
   ]
  },
  {
   "cell_type": "code",
   "execution_count": 9,
   "metadata": {},
   "outputs": [
    {
     "data": {
      "text/html": [
       "<div>\n",
       "<style scoped>\n",
       "    .dataframe tbody tr th:only-of-type {\n",
       "        vertical-align: middle;\n",
       "    }\n",
       "\n",
       "    .dataframe tbody tr th {\n",
       "        vertical-align: top;\n",
       "    }\n",
       "\n",
       "    .dataframe thead th {\n",
       "        text-align: right;\n",
       "    }\n",
       "</style>\n",
       "<table border=\"1\" class=\"dataframe\">\n",
       "  <thead>\n",
       "    <tr style=\"text-align: right;\">\n",
       "      <th></th>\n",
       "      <th>project</th>\n",
       "      <th>observations</th>\n",
       "      <th>observations (wt NaN)</th>\n",
       "      <th>precision</th>\n",
       "      <th>recall</th>\n",
       "      <th>f1-score</th>\n",
       "      <th>accuracy</th>\n",
       "      <th>baseline (majority)</th>\n",
       "      <th>improvement</th>\n",
       "    </tr>\n",
       "  </thead>\n",
       "  <tbody>\n",
       "    <tr>\n",
       "      <th>0</th>\n",
       "      <td>freenet__fred</td>\n",
       "      <td>1268</td>\n",
       "      <td>1012</td>\n",
       "      <td>0.673</td>\n",
       "      <td>0.692</td>\n",
       "      <td>0.676</td>\n",
       "      <td>0.692</td>\n",
       "      <td>0.431</td>\n",
       "      <td>0.458</td>\n",
       "    </tr>\n",
       "  </tbody>\n",
       "</table>\n",
       "</div>"
      ],
      "text/plain": [
       "         project  observations  observations (wt NaN)  precision  recall  \\\n",
       "0  freenet__fred          1268                   1012      0.673   0.692   \n",
       "\n",
       "   f1-score  accuracy  baseline (majority)  improvement  \n",
       "0     0.676     0.692                0.431        0.458  "
      ]
     },
     "execution_count": 9,
     "metadata": {},
     "output_type": "execute_result"
    }
   ],
   "source": [
    "report = result.get_report_df()\n",
    "report"
   ]
  },
  {
   "cell_type": "markdown",
   "metadata": {},
   "source": [
    "### Inspect project"
   ]
  },
  {
   "cell_type": "code",
   "execution_count": 10,
   "metadata": {},
   "outputs": [],
   "source": [
    "sample_project = result.get_project(project_name)"
   ]
  },
  {
   "cell_type": "code",
   "execution_count": 11,
   "metadata": {},
   "outputs": [
    {
     "data": {
      "text/html": [
       "<div>\n",
       "<style scoped>\n",
       "    .dataframe tbody tr th:only-of-type {\n",
       "        vertical-align: middle;\n",
       "    }\n",
       "\n",
       "    .dataframe tbody tr th {\n",
       "        vertical-align: top;\n",
       "    }\n",
       "\n",
       "    .dataframe thead th {\n",
       "        text-align: right;\n",
       "    }\n",
       "</style>\n",
       "<table border=\"1\" class=\"dataframe\">\n",
       "  <thead>\n",
       "    <tr style=\"text-align: right;\">\n",
       "      <th></th>\n",
       "      <th>precision</th>\n",
       "      <th>recall</th>\n",
       "      <th>f1-score</th>\n",
       "      <th>support</th>\n",
       "    </tr>\n",
       "  </thead>\n",
       "  <tbody>\n",
       "    <tr>\n",
       "      <th>Combination</th>\n",
       "      <td>0.581818</td>\n",
       "      <td>0.627451</td>\n",
       "      <td>0.603774</td>\n",
       "      <td>51.0000</td>\n",
       "    </tr>\n",
       "    <tr>\n",
       "      <th>ConcatenationV1V2</th>\n",
       "      <td>0.714286</td>\n",
       "      <td>0.500000</td>\n",
       "      <td>0.588235</td>\n",
       "      <td>20.0000</td>\n",
       "    </tr>\n",
       "    <tr>\n",
       "      <th>ConcatenationV2V1</th>\n",
       "      <td>0.000000</td>\n",
       "      <td>0.000000</td>\n",
       "      <td>0.000000</td>\n",
       "      <td>1.0000</td>\n",
       "    </tr>\n",
       "    <tr>\n",
       "      <th>Manual</th>\n",
       "      <td>0.428571</td>\n",
       "      <td>0.230769</td>\n",
       "      <td>0.300000</td>\n",
       "      <td>26.0000</td>\n",
       "    </tr>\n",
       "    <tr>\n",
       "      <th>None</th>\n",
       "      <td>0.000000</td>\n",
       "      <td>0.000000</td>\n",
       "      <td>0.000000</td>\n",
       "      <td>1.0000</td>\n",
       "    </tr>\n",
       "    <tr>\n",
       "      <th>Version 1</th>\n",
       "      <td>0.769231</td>\n",
       "      <td>0.825688</td>\n",
       "      <td>0.796460</td>\n",
       "      <td>109.0000</td>\n",
       "    </tr>\n",
       "    <tr>\n",
       "      <th>Version 2</th>\n",
       "      <td>0.698113</td>\n",
       "      <td>0.822222</td>\n",
       "      <td>0.755102</td>\n",
       "      <td>45.0000</td>\n",
       "    </tr>\n",
       "    <tr>\n",
       "      <th>accuracy</th>\n",
       "      <td>0.691700</td>\n",
       "      <td>0.691700</td>\n",
       "      <td>0.691700</td>\n",
       "      <td>0.6917</td>\n",
       "    </tr>\n",
       "    <tr>\n",
       "      <th>macro avg</th>\n",
       "      <td>0.456003</td>\n",
       "      <td>0.429447</td>\n",
       "      <td>0.434796</td>\n",
       "      <td>253.0000</td>\n",
       "    </tr>\n",
       "    <tr>\n",
       "      <th>weighted avg</th>\n",
       "      <td>0.673370</td>\n",
       "      <td>0.691700</td>\n",
       "      <td>0.676486</td>\n",
       "      <td>253.0000</td>\n",
       "    </tr>\n",
       "  </tbody>\n",
       "</table>\n",
       "</div>"
      ],
      "text/plain": [
       "                   precision    recall  f1-score   support\n",
       "Combination         0.581818  0.627451  0.603774   51.0000\n",
       "ConcatenationV1V2   0.714286  0.500000  0.588235   20.0000\n",
       "ConcatenationV2V1   0.000000  0.000000  0.000000    1.0000\n",
       "Manual              0.428571  0.230769  0.300000   26.0000\n",
       "None                0.000000  0.000000  0.000000    1.0000\n",
       "Version 1           0.769231  0.825688  0.796460  109.0000\n",
       "Version 2           0.698113  0.822222  0.755102   45.0000\n",
       "accuracy            0.691700  0.691700  0.691700    0.6917\n",
       "macro avg           0.456003  0.429447  0.434796  253.0000\n",
       "weighted avg        0.673370  0.691700  0.676486  253.0000"
      ]
     },
     "metadata": {},
     "output_type": "display_data"
    },
    {
     "data": {
      "text/plain": [
       "None"
      ]
     },
     "metadata": {},
     "output_type": "display_data"
    },
    {
     "data": {
      "image/png": "[encoded data removed]",
      "text/plain": [
       "<Figure size 708.661x396.85 with 2 Axes>"
      ]
     },
     "metadata": {},
     "output_type": "display_data"
    }
   ],
   "source": [
    "display(sample_project.get_scores_df())\n",
    "display(classifier_utils.plot_classification_report(sample_project.scores))"
   ]
  },
  {
   "cell_type": "markdown",
   "metadata": {},
   "source": [
    "### Confusion matrix"
   ]
  },
  {
   "cell_type": "code",
   "execution_count": 12,
   "metadata": {},
   "outputs": [
    {
     "name": "stdout",
     "output_type": "stream",
     "text": [
      "Columns = predicted label\n",
      "Rows = true label\n"
     ]
    },
    {
     "data": {
      "text/html": [
       "<div>\n",
       "<style scoped>\n",
       "    .dataframe tbody tr th:only-of-type {\n",
       "        vertical-align: middle;\n",
       "    }\n",
       "\n",
       "    .dataframe tbody tr th {\n",
       "        vertical-align: top;\n",
       "    }\n",
       "\n",
       "    .dataframe thead th {\n",
       "        text-align: right;\n",
       "    }\n",
       "</style>\n",
       "<table border=\"1\" class=\"dataframe\">\n",
       "  <thead>\n",
       "    <tr style=\"text-align: right;\">\n",
       "      <th></th>\n",
       "      <th>Combination</th>\n",
       "      <th>ConcatenationV1V2</th>\n",
       "      <th>ConcatenationV2V1</th>\n",
       "      <th>Manual</th>\n",
       "      <th>None</th>\n",
       "      <th>Version 1</th>\n",
       "      <th>Version 2</th>\n",
       "    </tr>\n",
       "  </thead>\n",
       "  <tbody>\n",
       "    <tr>\n",
       "      <th>Combination</th>\n",
       "      <td>32</td>\n",
       "      <td>1</td>\n",
       "      <td>0</td>\n",
       "      <td>4</td>\n",
       "      <td>0</td>\n",
       "      <td>10</td>\n",
       "      <td>4</td>\n",
       "    </tr>\n",
       "    <tr>\n",
       "      <th>ConcatenationV1V2</th>\n",
       "      <td>4</td>\n",
       "      <td>10</td>\n",
       "      <td>0</td>\n",
       "      <td>0</td>\n",
       "      <td>0</td>\n",
       "      <td>2</td>\n",
       "      <td>4</td>\n",
       "    </tr>\n",
       "    <tr>\n",
       "      <th>ConcatenationV2V1</th>\n",
       "      <td>1</td>\n",
       "      <td>0</td>\n",
       "      <td>0</td>\n",
       "      <td>0</td>\n",
       "      <td>0</td>\n",
       "      <td>0</td>\n",
       "      <td>0</td>\n",
       "    </tr>\n",
       "    <tr>\n",
       "      <th>Manual</th>\n",
       "      <td>8</td>\n",
       "      <td>0</td>\n",
       "      <td>0</td>\n",
       "      <td>6</td>\n",
       "      <td>0</td>\n",
       "      <td>10</td>\n",
       "      <td>2</td>\n",
       "    </tr>\n",
       "    <tr>\n",
       "      <th>None</th>\n",
       "      <td>0</td>\n",
       "      <td>0</td>\n",
       "      <td>0</td>\n",
       "      <td>0</td>\n",
       "      <td>0</td>\n",
       "      <td>1</td>\n",
       "      <td>0</td>\n",
       "    </tr>\n",
       "    <tr>\n",
       "      <th>Version 1</th>\n",
       "      <td>9</td>\n",
       "      <td>2</td>\n",
       "      <td>0</td>\n",
       "      <td>2</td>\n",
       "      <td>0</td>\n",
       "      <td>90</td>\n",
       "      <td>6</td>\n",
       "    </tr>\n",
       "    <tr>\n",
       "      <th>Version 2</th>\n",
       "      <td>1</td>\n",
       "      <td>1</td>\n",
       "      <td>0</td>\n",
       "      <td>2</td>\n",
       "      <td>0</td>\n",
       "      <td>4</td>\n",
       "      <td>37</td>\n",
       "    </tr>\n",
       "  </tbody>\n",
       "</table>\n",
       "</div>"
      ],
      "text/plain": [
       "                   Combination  ConcatenationV1V2  ConcatenationV2V1  Manual  \\\n",
       "Combination                 32                  1                  0       4   \n",
       "ConcatenationV1V2            4                 10                  0       0   \n",
       "ConcatenationV2V1            1                  0                  0       0   \n",
       "Manual                       8                  0                  0       6   \n",
       "None                         0                  0                  0       0   \n",
       "Version 1                    9                  2                  0       2   \n",
       "Version 2                    1                  1                  0       2   \n",
       "\n",
       "                   None  Version 1  Version 2  \n",
       "Combination           0         10          4  \n",
       "ConcatenationV1V2     0          2          4  \n",
       "ConcatenationV2V1     0          0          0  \n",
       "Manual                0         10          2  \n",
       "None                  0          1          0  \n",
       "Version 1             0         90          6  \n",
       "Version 2             0          4         37  "
      ]
     },
     "metadata": {},
     "output_type": "display_data"
    }
   ],
   "source": [
    "display(sample_project.get_confusion_matrix_df())"
   ]
  },
  {
   "cell_type": "code",
   "execution_count": null,
   "metadata": {},
   "outputs": [],
   "source": []
  }
 ],
 "metadata": {
  "kernelspec": {
   "display_name": "Python 3",
   "language": "python",
   "name": "python3"
  },
  "language_info": {
   "codemirror_mode": {
    "name": "ipython",
    "version": 3
   },
   "file_extension": ".py",
   "mimetype": "text/x-python",
   "name": "python",
   "nbconvert_exporter": "python",
   "pygments_lexer": "ipython3",
   "version": "3.8.5"
  }
 },
 "nbformat": 4,
 "nbformat_minor": 4
}
