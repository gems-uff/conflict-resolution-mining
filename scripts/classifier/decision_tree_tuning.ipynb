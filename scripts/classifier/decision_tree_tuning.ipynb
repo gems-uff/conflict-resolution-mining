{
 "cells": [
  {
   "cell_type": "markdown",
   "metadata": {},
   "source": [
    "Goal of this notebook:\n",
    "\n",
    "Explore Decision Tree hyperparameters to find the best common combination among all projects.\n",
    "\n",
    "Outputs: \n",
    "- Validation curves for each hyperparameter\n",
    "- Best combination of decision tree hyperparameters"
   ]
  },
  {
   "cell_type": "code",
   "execution_count": 1,
   "metadata": {},
   "outputs": [],
   "source": [
    "import numpy as np\n",
    "import pandas as pd\n",
    "from IPython.core.display import display\n",
    "from matplotlib import pyplot as plt\n",
    "\n",
    "pd.set_option('display.max_columns', None)\n",
    "from sklearn.tree import DecisionTreeClassifier\n",
    "from sklearn.ensemble import RandomForestClassifier\n",
    "from sklearn.ensemble import AdaBoostClassifier\n",
    "from xgboost import XGBRFClassifier\n",
    "import warnings\n",
    "import classifier_utils\n",
    "import seaborn as sns\n",
    "warnings.filterwarnings(\"ignore\", category=UserWarning)\n",
    "\n",
    "from sklearn.metrics import classification_report\n",
    "from sklearn.model_selection import cross_val_predict, GridSearchCV, validation_curve\n",
    "from sklearn.impute import SimpleImputer\n",
    "import math"
   ]
  },
  {
   "cell_type": "code",
   "execution_count": 2,
   "metadata": {},
   "outputs": [],
   "source": [
    "non_features_columns = [\"chunk_id\", \"line_start\", \"line_end\", \"line_separator\", \"kind_conflict\", \"url\", \"project\"]\n",
    "non_features_columns.extend([\"project_user\", \"project_name\", \"path\", \"file_name\", \"sha\", \"leftsha\", \"rightsha\", \"basesha\"])"
   ]
  },
  {
   "cell_type": "code",
   "execution_count": 3,
   "metadata": {},
   "outputs": [],
   "source": [
    "selected_dataset = pd.read_csv(\"../../data/SELECTED_LABELLED_DATASET.csv\")\n",
    "projects = list(selected_dataset['project'].unique())"
   ]
  },
  {
   "cell_type": "code",
   "execution_count": 4,
   "metadata": {},
   "outputs": [
    {
     "data": {
      "text/plain": [
       "0.28144947636066214"
      ]
     },
     "execution_count": 4,
     "metadata": {},
     "output_type": "execute_result"
    }
   ],
   "source": [
    "df_training = pd.read_csv(\"../../data/dataset-training.csv\")\n",
    "df_na = df_training[df_training.isna().any(axis=1)]\n",
    "\n",
    "len(df_na) / len(df_training)"
   ]
  },
  {
   "cell_type": "markdown",
   "metadata": {},
   "source": [
    "# Decision Tree"
   ]
  },
  {
   "cell_type": "markdown",
   "metadata": {},
   "source": [
    "### Base classifier"
   ]
  },
  {
   "cell_type": "code",
   "execution_count": 5,
   "metadata": {},
   "outputs": [],
   "source": [
    "dt = DecisionTreeClassifier(min_samples_split=5, random_state=99)"
   ]
  },
  {
   "cell_type": "code",
   "execution_count": 6,
   "metadata": {
    "pycharm": {
     "name": "#%%\n"
    }
   },
   "outputs": [],
   "source": [
    "result_dt = classifier_utils.ProjectsResults(dt, projects, non_features_columns)"
   ]
  },
  {
   "cell_type": "code",
   "execution_count": 7,
   "metadata": {},
   "outputs": [
    {
     "data": {
      "text/html": [
       "<div>\n",
       "<style scoped>\n",
       "    .dataframe tbody tr th:only-of-type {\n",
       "        vertical-align: middle;\n",
       "    }\n",
       "\n",
       "    .dataframe tbody tr th {\n",
       "        vertical-align: top;\n",
       "    }\n",
       "\n",
       "    .dataframe thead th {\n",
       "        text-align: right;\n",
       "    }\n",
       "</style>\n",
       "<table border=\"1\" class=\"dataframe\">\n",
       "  <thead>\n",
       "    <tr style=\"text-align: right;\">\n",
       "      <th></th>\n",
       "      <th>project</th>\n",
       "      <th>observations</th>\n",
       "      <th>observations (wt NaN)</th>\n",
       "      <th>precision</th>\n",
       "      <th>recall</th>\n",
       "      <th>f1-score</th>\n",
       "      <th>accuracy</th>\n",
       "      <th>baseline (majority)</th>\n",
       "      <th>improvement</th>\n",
       "    </tr>\n",
       "  </thead>\n",
       "  <tbody>\n",
       "    <tr>\n",
       "      <th>26</th>\n",
       "      <td>CCI-MIT__XCoLab</td>\n",
       "      <td>5512</td>\n",
       "      <td>3757</td>\n",
       "      <td>0.973</td>\n",
       "      <td>0.971</td>\n",
       "      <td>0.972</td>\n",
       "      <td>0.971</td>\n",
       "      <td>0.573</td>\n",
       "      <td>0.931</td>\n",
       "    </tr>\n",
       "    <tr>\n",
       "      <th>1</th>\n",
       "      <td>apache__directory-server</td>\n",
       "      <td>845</td>\n",
       "      <td>652</td>\n",
       "      <td>0.922</td>\n",
       "      <td>0.923</td>\n",
       "      <td>0.923</td>\n",
       "      <td>0.923</td>\n",
       "      <td>0.512</td>\n",
       "      <td>0.843</td>\n",
       "    </tr>\n",
       "    <tr>\n",
       "      <th>24</th>\n",
       "      <td>jgralab__jgralab</td>\n",
       "      <td>2072</td>\n",
       "      <td>1802</td>\n",
       "      <td>0.823</td>\n",
       "      <td>0.819</td>\n",
       "      <td>0.820</td>\n",
       "      <td>0.819</td>\n",
       "      <td>0.491</td>\n",
       "      <td>0.643</td>\n",
       "    </tr>\n",
       "    <tr>\n",
       "      <th>19</th>\n",
       "      <td>Unidata__thredds</td>\n",
       "      <td>1154</td>\n",
       "      <td>950</td>\n",
       "      <td>0.902</td>\n",
       "      <td>0.901</td>\n",
       "      <td>0.901</td>\n",
       "      <td>0.901</td>\n",
       "      <td>0.777</td>\n",
       "      <td>0.557</td>\n",
       "    </tr>\n",
       "    <tr>\n",
       "      <th>18</th>\n",
       "      <td>apache__accumulo</td>\n",
       "      <td>4113</td>\n",
       "      <td>3148</td>\n",
       "      <td>0.838</td>\n",
       "      <td>0.835</td>\n",
       "      <td>0.836</td>\n",
       "      <td>0.835</td>\n",
       "      <td>0.635</td>\n",
       "      <td>0.548</td>\n",
       "    </tr>\n",
       "    <tr>\n",
       "      <th>10</th>\n",
       "      <td>CloudStack-extras__CloudStack-archive</td>\n",
       "      <td>1424</td>\n",
       "      <td>1106</td>\n",
       "      <td>0.699</td>\n",
       "      <td>0.700</td>\n",
       "      <td>0.699</td>\n",
       "      <td>0.700</td>\n",
       "      <td>0.437</td>\n",
       "      <td>0.467</td>\n",
       "    </tr>\n",
       "    <tr>\n",
       "      <th>0</th>\n",
       "      <td>Ramblurr__Anki-Android</td>\n",
       "      <td>892</td>\n",
       "      <td>759</td>\n",
       "      <td>0.678</td>\n",
       "      <td>0.681</td>\n",
       "      <td>0.679</td>\n",
       "      <td>0.681</td>\n",
       "      <td>0.439</td>\n",
       "      <td>0.432</td>\n",
       "    </tr>\n",
       "    <tr>\n",
       "      <th>5</th>\n",
       "      <td>apache__lucene-solr</td>\n",
       "      <td>1256</td>\n",
       "      <td>974</td>\n",
       "      <td>0.573</td>\n",
       "      <td>0.568</td>\n",
       "      <td>0.569</td>\n",
       "      <td>0.568</td>\n",
       "      <td>0.266</td>\n",
       "      <td>0.411</td>\n",
       "    </tr>\n",
       "    <tr>\n",
       "      <th>7</th>\n",
       "      <td>getrailo__railo</td>\n",
       "      <td>815</td>\n",
       "      <td>572</td>\n",
       "      <td>0.636</td>\n",
       "      <td>0.631</td>\n",
       "      <td>0.633</td>\n",
       "      <td>0.631</td>\n",
       "      <td>0.378</td>\n",
       "      <td>0.407</td>\n",
       "    </tr>\n",
       "    <tr>\n",
       "      <th>11</th>\n",
       "      <td>TeamDev-Ltd__OpenFaces</td>\n",
       "      <td>2979</td>\n",
       "      <td>2859</td>\n",
       "      <td>0.964</td>\n",
       "      <td>0.963</td>\n",
       "      <td>0.964</td>\n",
       "      <td>0.963</td>\n",
       "      <td>0.938</td>\n",
       "      <td>0.403</td>\n",
       "    </tr>\n",
       "    <tr>\n",
       "      <th>13</th>\n",
       "      <td>zkoss__zk</td>\n",
       "      <td>1087</td>\n",
       "      <td>881</td>\n",
       "      <td>0.760</td>\n",
       "      <td>0.753</td>\n",
       "      <td>0.756</td>\n",
       "      <td>0.753</td>\n",
       "      <td>0.602</td>\n",
       "      <td>0.379</td>\n",
       "    </tr>\n",
       "    <tr>\n",
       "      <th>3</th>\n",
       "      <td>freenet__fred</td>\n",
       "      <td>1268</td>\n",
       "      <td>1012</td>\n",
       "      <td>0.606</td>\n",
       "      <td>0.606</td>\n",
       "      <td>0.605</td>\n",
       "      <td>0.606</td>\n",
       "      <td>0.404</td>\n",
       "      <td>0.338</td>\n",
       "    </tr>\n",
       "    <tr>\n",
       "      <th>22</th>\n",
       "      <td>AOKP__frameworks_base_disabled</td>\n",
       "      <td>1999</td>\n",
       "      <td>1370</td>\n",
       "      <td>0.794</td>\n",
       "      <td>0.796</td>\n",
       "      <td>0.794</td>\n",
       "      <td>0.796</td>\n",
       "      <td>0.711</td>\n",
       "      <td>0.293</td>\n",
       "    </tr>\n",
       "    <tr>\n",
       "      <th>17</th>\n",
       "      <td>cgjones__android-frameworks-base</td>\n",
       "      <td>828</td>\n",
       "      <td>565</td>\n",
       "      <td>0.827</td>\n",
       "      <td>0.818</td>\n",
       "      <td>0.821</td>\n",
       "      <td>0.818</td>\n",
       "      <td>0.747</td>\n",
       "      <td>0.280</td>\n",
       "    </tr>\n",
       "    <tr>\n",
       "      <th>9</th>\n",
       "      <td>hibernate__hibernate-orm</td>\n",
       "      <td>1000</td>\n",
       "      <td>716</td>\n",
       "      <td>0.506</td>\n",
       "      <td>0.503</td>\n",
       "      <td>0.504</td>\n",
       "      <td>0.503</td>\n",
       "      <td>0.311</td>\n",
       "      <td>0.278</td>\n",
       "    </tr>\n",
       "    <tr>\n",
       "      <th>4</th>\n",
       "      <td>alexo__wro4j</td>\n",
       "      <td>1663</td>\n",
       "      <td>1368</td>\n",
       "      <td>0.494</td>\n",
       "      <td>0.495</td>\n",
       "      <td>0.494</td>\n",
       "      <td>0.495</td>\n",
       "      <td>0.307</td>\n",
       "      <td>0.271</td>\n",
       "    </tr>\n",
       "    <tr>\n",
       "      <th>28</th>\n",
       "      <td>allwinner-ics__platform_frameworks_base</td>\n",
       "      <td>1780</td>\n",
       "      <td>1187</td>\n",
       "      <td>0.789</td>\n",
       "      <td>0.783</td>\n",
       "      <td>0.786</td>\n",
       "      <td>0.783</td>\n",
       "      <td>0.713</td>\n",
       "      <td>0.246</td>\n",
       "    </tr>\n",
       "    <tr>\n",
       "      <th>2</th>\n",
       "      <td>android__platform_frameworks_base</td>\n",
       "      <td>3557</td>\n",
       "      <td>2460</td>\n",
       "      <td>0.778</td>\n",
       "      <td>0.778</td>\n",
       "      <td>0.778</td>\n",
       "      <td>0.778</td>\n",
       "      <td>0.708</td>\n",
       "      <td>0.242</td>\n",
       "    </tr>\n",
       "    <tr>\n",
       "      <th>12</th>\n",
       "      <td>eucalyptus__eucalyptus</td>\n",
       "      <td>1020</td>\n",
       "      <td>747</td>\n",
       "      <td>0.556</td>\n",
       "      <td>0.549</td>\n",
       "      <td>0.552</td>\n",
       "      <td>0.549</td>\n",
       "      <td>0.423</td>\n",
       "      <td>0.218</td>\n",
       "    </tr>\n",
       "    <tr>\n",
       "      <th>27</th>\n",
       "      <td>RealVNC__android-frameworks-base-with-screensh...</td>\n",
       "      <td>2269</td>\n",
       "      <td>1561</td>\n",
       "      <td>0.774</td>\n",
       "      <td>0.773</td>\n",
       "      <td>0.773</td>\n",
       "      <td>0.773</td>\n",
       "      <td>0.711</td>\n",
       "      <td>0.215</td>\n",
       "    </tr>\n",
       "    <tr>\n",
       "      <th>21</th>\n",
       "      <td>IceColdSandwich__android_frameworks_base</td>\n",
       "      <td>1792</td>\n",
       "      <td>1193</td>\n",
       "      <td>0.784</td>\n",
       "      <td>0.782</td>\n",
       "      <td>0.783</td>\n",
       "      <td>0.782</td>\n",
       "      <td>0.726</td>\n",
       "      <td>0.205</td>\n",
       "    </tr>\n",
       "    <tr>\n",
       "      <th>8</th>\n",
       "      <td>atlasapi__atlas</td>\n",
       "      <td>1107</td>\n",
       "      <td>782</td>\n",
       "      <td>0.557</td>\n",
       "      <td>0.550</td>\n",
       "      <td>0.553</td>\n",
       "      <td>0.550</td>\n",
       "      <td>0.445</td>\n",
       "      <td>0.189</td>\n",
       "    </tr>\n",
       "    <tr>\n",
       "      <th>15</th>\n",
       "      <td>alkacon__opencms-core</td>\n",
       "      <td>923</td>\n",
       "      <td>840</td>\n",
       "      <td>0.945</td>\n",
       "      <td>0.949</td>\n",
       "      <td>0.947</td>\n",
       "      <td>0.949</td>\n",
       "      <td>0.944</td>\n",
       "      <td>0.085</td>\n",
       "    </tr>\n",
       "    <tr>\n",
       "      <th>16</th>\n",
       "      <td>SINTEF-9012__ThingML</td>\n",
       "      <td>1022</td>\n",
       "      <td>977</td>\n",
       "      <td>0.936</td>\n",
       "      <td>0.941</td>\n",
       "      <td>0.938</td>\n",
       "      <td>0.941</td>\n",
       "      <td>0.938</td>\n",
       "      <td>0.049</td>\n",
       "    </tr>\n",
       "    <tr>\n",
       "      <th>25</th>\n",
       "      <td>sebastianbenz__Jnario</td>\n",
       "      <td>8298</td>\n",
       "      <td>8173</td>\n",
       "      <td>0.998</td>\n",
       "      <td>0.999</td>\n",
       "      <td>0.998</td>\n",
       "      <td>0.999</td>\n",
       "      <td>0.999</td>\n",
       "      <td>-0.000</td>\n",
       "    </tr>\n",
       "    <tr>\n",
       "      <th>6</th>\n",
       "      <td>elastic__elasticsearch</td>\n",
       "      <td>1246</td>\n",
       "      <td>0</td>\n",
       "      <td>NaN</td>\n",
       "      <td>NaN</td>\n",
       "      <td>NaN</td>\n",
       "      <td>NaN</td>\n",
       "      <td>NaN</td>\n",
       "      <td>NaN</td>\n",
       "    </tr>\n",
       "    <tr>\n",
       "      <th>14</th>\n",
       "      <td>eclipse__jetty.project</td>\n",
       "      <td>1537</td>\n",
       "      <td>0</td>\n",
       "      <td>NaN</td>\n",
       "      <td>NaN</td>\n",
       "      <td>NaN</td>\n",
       "      <td>NaN</td>\n",
       "      <td>NaN</td>\n",
       "      <td>NaN</td>\n",
       "    </tr>\n",
       "    <tr>\n",
       "      <th>20</th>\n",
       "      <td>revolsys__com.revolsys.open</td>\n",
       "      <td>991</td>\n",
       "      <td>1</td>\n",
       "      <td>NaN</td>\n",
       "      <td>NaN</td>\n",
       "      <td>NaN</td>\n",
       "      <td>NaN</td>\n",
       "      <td>NaN</td>\n",
       "      <td>NaN</td>\n",
       "    </tr>\n",
       "    <tr>\n",
       "      <th>23</th>\n",
       "      <td>adetaylor__android-frameworks-base-with-remote...</td>\n",
       "      <td>1792</td>\n",
       "      <td>0</td>\n",
       "      <td>NaN</td>\n",
       "      <td>NaN</td>\n",
       "      <td>NaN</td>\n",
       "      <td>NaN</td>\n",
       "      <td>NaN</td>\n",
       "      <td>NaN</td>\n",
       "    </tr>\n",
       "  </tbody>\n",
       "</table>\n",
       "</div>"
      ],
      "text/plain": [
       "                                              project  observations  \\\n",
       "26                                    CCI-MIT__XCoLab          5512   \n",
       "1                            apache__directory-server           845   \n",
       "24                                   jgralab__jgralab          2072   \n",
       "19                                   Unidata__thredds          1154   \n",
       "18                                   apache__accumulo          4113   \n",
       "10              CloudStack-extras__CloudStack-archive          1424   \n",
       "0                              Ramblurr__Anki-Android           892   \n",
       "5                                 apache__lucene-solr          1256   \n",
       "7                                     getrailo__railo           815   \n",
       "11                             TeamDev-Ltd__OpenFaces          2979   \n",
       "13                                          zkoss__zk          1087   \n",
       "3                                       freenet__fred          1268   \n",
       "22                     AOKP__frameworks_base_disabled          1999   \n",
       "17                   cgjones__android-frameworks-base           828   \n",
       "9                            hibernate__hibernate-orm          1000   \n",
       "4                                        alexo__wro4j          1663   \n",
       "28            allwinner-ics__platform_frameworks_base          1780   \n",
       "2                   android__platform_frameworks_base          3557   \n",
       "12                             eucalyptus__eucalyptus          1020   \n",
       "27  RealVNC__android-frameworks-base-with-screensh...          2269   \n",
       "21           IceColdSandwich__android_frameworks_base          1792   \n",
       "8                                     atlasapi__atlas          1107   \n",
       "15                              alkacon__opencms-core           923   \n",
       "16                               SINTEF-9012__ThingML          1022   \n",
       "25                              sebastianbenz__Jnario          8298   \n",
       "6                              elastic__elasticsearch          1246   \n",
       "14                             eclipse__jetty.project          1537   \n",
       "20                        revolsys__com.revolsys.open           991   \n",
       "23  adetaylor__android-frameworks-base-with-remote...          1792   \n",
       "\n",
       "    observations (wt NaN)  precision  recall  f1-score  accuracy  \\\n",
       "26                   3757      0.973   0.971     0.972     0.971   \n",
       "1                     652      0.922   0.923     0.923     0.923   \n",
       "24                   1802      0.823   0.819     0.820     0.819   \n",
       "19                    950      0.902   0.901     0.901     0.901   \n",
       "18                   3148      0.838   0.835     0.836     0.835   \n",
       "10                   1106      0.699   0.700     0.699     0.700   \n",
       "0                     759      0.678   0.681     0.679     0.681   \n",
       "5                     974      0.573   0.568     0.569     0.568   \n",
       "7                     572      0.636   0.631     0.633     0.631   \n",
       "11                   2859      0.964   0.963     0.964     0.963   \n",
       "13                    881      0.760   0.753     0.756     0.753   \n",
       "3                    1012      0.606   0.606     0.605     0.606   \n",
       "22                   1370      0.794   0.796     0.794     0.796   \n",
       "17                    565      0.827   0.818     0.821     0.818   \n",
       "9                     716      0.506   0.503     0.504     0.503   \n",
       "4                    1368      0.494   0.495     0.494     0.495   \n",
       "28                   1187      0.789   0.783     0.786     0.783   \n",
       "2                    2460      0.778   0.778     0.778     0.778   \n",
       "12                    747      0.556   0.549     0.552     0.549   \n",
       "27                   1561      0.774   0.773     0.773     0.773   \n",
       "21                   1193      0.784   0.782     0.783     0.782   \n",
       "8                     782      0.557   0.550     0.553     0.550   \n",
       "15                    840      0.945   0.949     0.947     0.949   \n",
       "16                    977      0.936   0.941     0.938     0.941   \n",
       "25                   8173      0.998   0.999     0.998     0.999   \n",
       "6                       0        NaN     NaN       NaN       NaN   \n",
       "14                      0        NaN     NaN       NaN       NaN   \n",
       "20                      1        NaN     NaN       NaN       NaN   \n",
       "23                      0        NaN     NaN       NaN       NaN   \n",
       "\n",
       "    baseline (majority)  improvement  \n",
       "26                0.573        0.931  \n",
       "1                 0.512        0.843  \n",
       "24                0.491        0.643  \n",
       "19                0.777        0.557  \n",
       "18                0.635        0.548  \n",
       "10                0.437        0.467  \n",
       "0                 0.439        0.432  \n",
       "5                 0.266        0.411  \n",
       "7                 0.378        0.407  \n",
       "11                0.938        0.403  \n",
       "13                0.602        0.379  \n",
       "3                 0.404        0.338  \n",
       "22                0.711        0.293  \n",
       "17                0.747        0.280  \n",
       "9                 0.311        0.278  \n",
       "4                 0.307        0.271  \n",
       "28                0.713        0.246  \n",
       "2                 0.708        0.242  \n",
       "12                0.423        0.218  \n",
       "27                0.711        0.215  \n",
       "21                0.726        0.205  \n",
       "8                 0.445        0.189  \n",
       "15                0.944        0.085  \n",
       "16                0.938        0.049  \n",
       "25                0.999       -0.000  \n",
       "6                   NaN          NaN  \n",
       "14                  NaN          NaN  \n",
       "20                  NaN          NaN  \n",
       "23                  NaN          NaN  "
      ]
     },
     "execution_count": 7,
     "metadata": {},
     "output_type": "execute_result"
    }
   ],
   "source": [
    "report_dt = result_dt.get_report_df()\n",
    "\n",
    "report_dt\n"
   ]
  },
  {
   "cell_type": "markdown",
   "metadata": {},
   "source": [
    "### Tuning hyperparameters\n"
   ]
  },
  {
   "cell_type": "code",
   "execution_count": 8,
   "metadata": {
    "pycharm": {
     "name": "#%%\n"
    }
   },
   "outputs": [
    {
     "name": "stdout",
     "output_type": "stream",
     "text": [
      "Hyperparameters of Decision Tree:\n"
     ]
    },
    {
     "data": {
      "text/plain": [
       "{'ccp_alpha': 0.0,\n",
       " 'class_weight': None,\n",
       " 'criterion': 'gini',\n",
       " 'max_depth': None,\n",
       " 'max_features': None,\n",
       " 'max_leaf_nodes': None,\n",
       " 'min_impurity_decrease': 0.0,\n",
       " 'min_impurity_split': None,\n",
       " 'min_samples_leaf': 1,\n",
       " 'min_samples_split': 5,\n",
       " 'min_weight_fraction_leaf': 0.0,\n",
       " 'presort': 'deprecated',\n",
       " 'random_state': 99,\n",
       " 'splitter': 'best'}"
      ]
     },
     "execution_count": 8,
     "metadata": {},
     "output_type": "execute_result"
    }
   ],
   "source": [
    "print(\"Hyperparameters of Decision Tree:\")\n",
    "dt.get_params()"
   ]
  },
  {
   "cell_type": "code",
   "execution_count": 9,
   "metadata": {},
   "outputs": [],
   "source": [
    "parameters = {'criterion':('gini', 'entropy'),\n",
    "              'min_samples_leaf':[1, 2, 3],\n",
    "              # 'max_depth':[None, 3, 5, 10],\n",
    "              'max_depth':[None, 5, 20, 30]\n",
    "                 }"
   ]
  },
  {
   "cell_type": "code",
   "execution_count": 10,
   "metadata": {},
   "outputs": [
    {
     "data": {
      "text/html": [
       "<div>\n",
       "<style scoped>\n",
       "    .dataframe tbody tr th:only-of-type {\n",
       "        vertical-align: middle;\n",
       "    }\n",
       "\n",
       "    .dataframe tbody tr th {\n",
       "        vertical-align: top;\n",
       "    }\n",
       "\n",
       "    .dataframe thead th {\n",
       "        text-align: right;\n",
       "    }\n",
       "</style>\n",
       "<table border=\"1\" class=\"dataframe\">\n",
       "  <thead>\n",
       "    <tr style=\"text-align: right;\">\n",
       "      <th></th>\n",
       "      <th>criterion</th>\n",
       "      <th>min_samples_leaf</th>\n",
       "      <th>max_depth</th>\n",
       "      <th>mean_accuracy</th>\n",
       "      <th>total_medals</th>\n",
       "      <th>gold_medals</th>\n",
       "      <th>silver_medals</th>\n",
       "      <th>bronze_medals</th>\n",
       "    </tr>\n",
       "  </thead>\n",
       "  <tbody>\n",
       "    <tr>\n",
       "      <th>0</th>\n",
       "      <td>gini</td>\n",
       "      <td>1</td>\n",
       "      <td>NaN</td>\n",
       "      <td>0.741320</td>\n",
       "      <td>11</td>\n",
       "      <td>8</td>\n",
       "      <td>3</td>\n",
       "      <td>0</td>\n",
       "    </tr>\n",
       "    <tr>\n",
       "      <th>3</th>\n",
       "      <td>gini</td>\n",
       "      <td>1</td>\n",
       "      <td>30.0</td>\n",
       "      <td>0.741320</td>\n",
       "      <td>11</td>\n",
       "      <td>8</td>\n",
       "      <td>3</td>\n",
       "      <td>0</td>\n",
       "    </tr>\n",
       "    <tr>\n",
       "      <th>2</th>\n",
       "      <td>gini</td>\n",
       "      <td>1</td>\n",
       "      <td>20.0</td>\n",
       "      <td>0.726462</td>\n",
       "      <td>9</td>\n",
       "      <td>7</td>\n",
       "      <td>0</td>\n",
       "      <td>2</td>\n",
       "    </tr>\n",
       "    <tr>\n",
       "      <th>12</th>\n",
       "      <td>entropy</td>\n",
       "      <td>1</td>\n",
       "      <td>NaN</td>\n",
       "      <td>0.744830</td>\n",
       "      <td>6</td>\n",
       "      <td>5</td>\n",
       "      <td>1</td>\n",
       "      <td>0</td>\n",
       "    </tr>\n",
       "    <tr>\n",
       "      <th>14</th>\n",
       "      <td>entropy</td>\n",
       "      <td>1</td>\n",
       "      <td>20.0</td>\n",
       "      <td>0.744830</td>\n",
       "      <td>6</td>\n",
       "      <td>5</td>\n",
       "      <td>1</td>\n",
       "      <td>0</td>\n",
       "    </tr>\n",
       "    <tr>\n",
       "      <th>15</th>\n",
       "      <td>entropy</td>\n",
       "      <td>1</td>\n",
       "      <td>30.0</td>\n",
       "      <td>0.744830</td>\n",
       "      <td>6</td>\n",
       "      <td>5</td>\n",
       "      <td>1</td>\n",
       "      <td>0</td>\n",
       "    </tr>\n",
       "    <tr>\n",
       "      <th>9</th>\n",
       "      <td>gini</td>\n",
       "      <td>3</td>\n",
       "      <td>5.0</td>\n",
       "      <td>0.961008</td>\n",
       "      <td>3</td>\n",
       "      <td>2</td>\n",
       "      <td>1</td>\n",
       "      <td>0</td>\n",
       "    </tr>\n",
       "    <tr>\n",
       "      <th>17</th>\n",
       "      <td>entropy</td>\n",
       "      <td>2</td>\n",
       "      <td>5.0</td>\n",
       "      <td>0.735483</td>\n",
       "      <td>3</td>\n",
       "      <td>2</td>\n",
       "      <td>0</td>\n",
       "      <td>1</td>\n",
       "    </tr>\n",
       "    <tr>\n",
       "      <th>21</th>\n",
       "      <td>entropy</td>\n",
       "      <td>3</td>\n",
       "      <td>5.0</td>\n",
       "      <td>0.751769</td>\n",
       "      <td>3</td>\n",
       "      <td>2</td>\n",
       "      <td>0</td>\n",
       "      <td>1</td>\n",
       "    </tr>\n",
       "    <tr>\n",
       "      <th>20</th>\n",
       "      <td>entropy</td>\n",
       "      <td>3</td>\n",
       "      <td>NaN</td>\n",
       "      <td>0.767138</td>\n",
       "      <td>2</td>\n",
       "      <td>2</td>\n",
       "      <td>0</td>\n",
       "      <td>0</td>\n",
       "    </tr>\n",
       "    <tr>\n",
       "      <th>22</th>\n",
       "      <td>entropy</td>\n",
       "      <td>3</td>\n",
       "      <td>20.0</td>\n",
       "      <td>0.767138</td>\n",
       "      <td>2</td>\n",
       "      <td>2</td>\n",
       "      <td>0</td>\n",
       "      <td>0</td>\n",
       "    </tr>\n",
       "    <tr>\n",
       "      <th>23</th>\n",
       "      <td>entropy</td>\n",
       "      <td>3</td>\n",
       "      <td>30.0</td>\n",
       "      <td>0.767138</td>\n",
       "      <td>2</td>\n",
       "      <td>2</td>\n",
       "      <td>0</td>\n",
       "      <td>0</td>\n",
       "    </tr>\n",
       "    <tr>\n",
       "      <th>13</th>\n",
       "      <td>entropy</td>\n",
       "      <td>1</td>\n",
       "      <td>5.0</td>\n",
       "      <td>0.736078</td>\n",
       "      <td>3</td>\n",
       "      <td>1</td>\n",
       "      <td>2</td>\n",
       "      <td>0</td>\n",
       "    </tr>\n",
       "    <tr>\n",
       "      <th>1</th>\n",
       "      <td>gini</td>\n",
       "      <td>1</td>\n",
       "      <td>5.0</td>\n",
       "      <td>0.888878</td>\n",
       "      <td>3</td>\n",
       "      <td>1</td>\n",
       "      <td>1</td>\n",
       "      <td>1</td>\n",
       "    </tr>\n",
       "    <tr>\n",
       "      <th>8</th>\n",
       "      <td>gini</td>\n",
       "      <td>3</td>\n",
       "      <td>NaN</td>\n",
       "      <td>0.971931</td>\n",
       "      <td>2</td>\n",
       "      <td>1</td>\n",
       "      <td>0</td>\n",
       "      <td>1</td>\n",
       "    </tr>\n",
       "    <tr>\n",
       "      <th>10</th>\n",
       "      <td>gini</td>\n",
       "      <td>3</td>\n",
       "      <td>20.0</td>\n",
       "      <td>0.971931</td>\n",
       "      <td>2</td>\n",
       "      <td>1</td>\n",
       "      <td>0</td>\n",
       "      <td>1</td>\n",
       "    </tr>\n",
       "    <tr>\n",
       "      <th>11</th>\n",
       "      <td>gini</td>\n",
       "      <td>3</td>\n",
       "      <td>30.0</td>\n",
       "      <td>0.971931</td>\n",
       "      <td>2</td>\n",
       "      <td>1</td>\n",
       "      <td>0</td>\n",
       "      <td>1</td>\n",
       "    </tr>\n",
       "    <tr>\n",
       "      <th>18</th>\n",
       "      <td>entropy</td>\n",
       "      <td>2</td>\n",
       "      <td>20.0</td>\n",
       "      <td>0.899948</td>\n",
       "      <td>2</td>\n",
       "      <td>1</td>\n",
       "      <td>0</td>\n",
       "      <td>1</td>\n",
       "    </tr>\n",
       "    <tr>\n",
       "      <th>16</th>\n",
       "      <td>entropy</td>\n",
       "      <td>2</td>\n",
       "      <td>NaN</td>\n",
       "      <td>0.965377</td>\n",
       "      <td>1</td>\n",
       "      <td>1</td>\n",
       "      <td>0</td>\n",
       "      <td>0</td>\n",
       "    </tr>\n",
       "    <tr>\n",
       "      <th>19</th>\n",
       "      <td>entropy</td>\n",
       "      <td>2</td>\n",
       "      <td>30.0</td>\n",
       "      <td>0.965377</td>\n",
       "      <td>1</td>\n",
       "      <td>1</td>\n",
       "      <td>0</td>\n",
       "      <td>0</td>\n",
       "    </tr>\n",
       "    <tr>\n",
       "      <th>5</th>\n",
       "      <td>gini</td>\n",
       "      <td>2</td>\n",
       "      <td>5.0</td>\n",
       "      <td>0.858398</td>\n",
       "      <td>2</td>\n",
       "      <td>0</td>\n",
       "      <td>0</td>\n",
       "      <td>2</td>\n",
       "    </tr>\n",
       "    <tr>\n",
       "      <th>4</th>\n",
       "      <td>gini</td>\n",
       "      <td>2</td>\n",
       "      <td>NaN</td>\n",
       "      <td>NaN</td>\n",
       "      <td>0</td>\n",
       "      <td>0</td>\n",
       "      <td>0</td>\n",
       "      <td>0</td>\n",
       "    </tr>\n",
       "    <tr>\n",
       "      <th>6</th>\n",
       "      <td>gini</td>\n",
       "      <td>2</td>\n",
       "      <td>20.0</td>\n",
       "      <td>NaN</td>\n",
       "      <td>0</td>\n",
       "      <td>0</td>\n",
       "      <td>0</td>\n",
       "      <td>0</td>\n",
       "    </tr>\n",
       "    <tr>\n",
       "      <th>7</th>\n",
       "      <td>gini</td>\n",
       "      <td>2</td>\n",
       "      <td>30.0</td>\n",
       "      <td>NaN</td>\n",
       "      <td>0</td>\n",
       "      <td>0</td>\n",
       "      <td>0</td>\n",
       "      <td>0</td>\n",
       "    </tr>\n",
       "  </tbody>\n",
       "</table>\n",
       "</div>"
      ],
      "text/plain": [
       "   criterion  min_samples_leaf  max_depth  mean_accuracy  total_medals  \\\n",
       "0       gini                 1        NaN       0.741320            11   \n",
       "3       gini                 1       30.0       0.741320            11   \n",
       "2       gini                 1       20.0       0.726462             9   \n",
       "12   entropy                 1        NaN       0.744830             6   \n",
       "14   entropy                 1       20.0       0.744830             6   \n",
       "15   entropy                 1       30.0       0.744830             6   \n",
       "9       gini                 3        5.0       0.961008             3   \n",
       "17   entropy                 2        5.0       0.735483             3   \n",
       "21   entropy                 3        5.0       0.751769             3   \n",
       "20   entropy                 3        NaN       0.767138             2   \n",
       "22   entropy                 3       20.0       0.767138             2   \n",
       "23   entropy                 3       30.0       0.767138             2   \n",
       "13   entropy                 1        5.0       0.736078             3   \n",
       "1       gini                 1        5.0       0.888878             3   \n",
       "8       gini                 3        NaN       0.971931             2   \n",
       "10      gini                 3       20.0       0.971931             2   \n",
       "11      gini                 3       30.0       0.971931             2   \n",
       "18   entropy                 2       20.0       0.899948             2   \n",
       "16   entropy                 2        NaN       0.965377             1   \n",
       "19   entropy                 2       30.0       0.965377             1   \n",
       "5       gini                 2        5.0       0.858398             2   \n",
       "4       gini                 2        NaN            NaN             0   \n",
       "6       gini                 2       20.0            NaN             0   \n",
       "7       gini                 2       30.0            NaN             0   \n",
       "\n",
       "    gold_medals  silver_medals  bronze_medals  \n",
       "0             8              3              0  \n",
       "3             8              3              0  \n",
       "2             7              0              2  \n",
       "12            5              1              0  \n",
       "14            5              1              0  \n",
       "15            5              1              0  \n",
       "9             2              1              0  \n",
       "17            2              0              1  \n",
       "21            2              0              1  \n",
       "20            2              0              0  \n",
       "22            2              0              0  \n",
       "23            2              0              0  \n",
       "13            1              2              0  \n",
       "1             1              1              1  \n",
       "8             1              0              1  \n",
       "10            1              0              1  \n",
       "11            1              0              1  \n",
       "18            1              0              1  \n",
       "16            1              0              0  \n",
       "19            1              0              0  \n",
       "5             0              0              2  \n",
       "4             0              0              0  \n",
       "6             0              0              0  \n",
       "7             0              0              0  "
      ]
     },
     "execution_count": 10,
     "metadata": {},
     "output_type": "execute_result"
    }
   ],
   "source": [
    "results = classifier_utils.grid_search_all(projects, dt, parameters, non_features_columns)\n",
    "results.sort_values(['gold_medals', 'silver_medals', 'bronze_medals', 'total_medals'], ascending=False)"
   ]
  },
  {
   "cell_type": "markdown",
   "metadata": {
    "pycharm": {
     "name": "#%% md\n"
    }
   },
   "source": [
    "#### Validation curves\n",
    "\n",
    "##### min_samples_leaf\n",
    "\n",
    "min_samples_leaf : int or float, default=1\n",
    "\n",
    "The minimum number of samples required to be at a leaf node. A split point at any depth will only be considered if it leaves at least min_samples_leaf training samples in each of the left and right branches. This may have the effect of smoothing the model, especially in regression."
   ]
  },
  {
   "cell_type": "code",
   "execution_count": null,
   "metadata": {
    "pycharm": {
     "name": "#%%\n"
    }
   },
   "outputs": [],
   "source": [
    "for i, project in enumerate(projects[:3]):\n",
    "    classifier_utils.get_validation_curve(project, dt, 'min_samples_leaf',\n",
    "                                        np.arange(1, 10, 1),\n",
    "                                        non_features_columns)"
   ]
  },
  {
   "cell_type": "markdown",
   "metadata": {
    "pycharm": {
     "name": "#%% md\n"
    }
   },
   "source": [
    "##### criterion\n",
    "\n",
    "criterion : {“gini”, “entropy”}, default=”gini”\n",
    "\n",
    "The function to measure the quality of a split. Supported criteria are “gini” for the Gini impurity and “entropy” for the information gain."
   ]
  },
  {
   "cell_type": "code",
   "execution_count": null,
   "metadata": {
    "pycharm": {
     "name": "#%%\n"
    }
   },
   "outputs": [],
   "source": [
    "for i, project in enumerate(projects[:3]):\n",
    "    classifier_utils.get_validation_curve(project, dt, 'criterion',\n",
    "                                        ('gini', 'entropy'),\n",
    "                                        non_features_columns)"
   ]
  },
  {
   "cell_type": "markdown",
   "metadata": {
    "pycharm": {
     "name": "#%% md\n"
    }
   },
   "source": [
    "#### max_depth\n",
    "\n",
    "max_depth : int, default=None\n",
    "\n",
    "The maximum depth of the tree. If None, then nodes are expanded until all leaves are pure or until all leaves contain less than min_samples_split samples."
   ]
  },
  {
   "cell_type": "code",
   "execution_count": null,
   "metadata": {
    "pycharm": {
     "name": "#%%\n"
    }
   },
   "outputs": [],
   "source": [
    "for i, project in enumerate(projects[:3]):\n",
    "    classifier_utils.get_validation_curve(project, dt, 'max_depth',\n",
    "                                        [1, 3, 5, 7, 9, 11, 13, 15],\n",
    "                                        non_features_columns)"
   ]
  },
  {
   "cell_type": "markdown",
   "metadata": {},
   "source": [
    "# Random Forest"
   ]
  },
  {
   "cell_type": "markdown",
   "metadata": {},
   "source": [
    "### Base classifier"
   ]
  },
  {
   "cell_type": "code",
   "execution_count": null,
   "metadata": {},
   "outputs": [],
   "source": [
    "rf = RandomForestClassifier(random_state=99)\n",
    "result_rf = classifier_utils.ProjectsResults(rf, projects, non_features_columns)"
   ]
  },
  {
   "cell_type": "code",
   "execution_count": null,
   "metadata": {},
   "outputs": [],
   "source": [
    "report_rf = result_rf.get_report_df()\n",
    "\n",
    "report_rf"
   ]
  },
  {
   "cell_type": "markdown",
   "metadata": {},
   "source": [
    "### Inspect project"
   ]
  },
  {
   "cell_type": "code",
   "execution_count": null,
   "metadata": {},
   "outputs": [],
   "source": [
    "sample_project_rf = result_rf.get_project('alexo__wro4j')"
   ]
  },
  {
   "cell_type": "code",
   "execution_count": null,
   "metadata": {},
   "outputs": [],
   "source": [
    "display(sample_project_rf.get_scores_df())\n",
    "display(classifier_utils.plot_classification_report(sample_project_rf.scores))"
   ]
  },
  {
   "cell_type": "markdown",
   "metadata": {},
   "source": [
    "### Tuning hyperparameters"
   ]
  },
  {
   "cell_type": "code",
   "execution_count": null,
   "metadata": {
    "pycharm": {
     "name": "#%%\n"
    }
   },
   "outputs": [],
   "source": [
    "print(\"Hyperparameters of Random Forest:\")\n",
    "\n",
    "rf.get_params()"
   ]
  },
  {
   "cell_type": "markdown",
   "metadata": {
    "pycharm": {
     "name": "#%% md\n"
    }
   },
   "source": [
    "#### Using GridSearch to explore combinations of hyperparameters in one project"
   ]
  },
  {
   "cell_type": "code",
   "execution_count": null,
   "metadata": {},
   "outputs": [],
   "source": [
    "parameters_rf = {\n",
    "                # 'criterion':('gini', 'entropy'),\n",
    "              'min_samples_leaf':[1, 2, 3],\n",
    "              'max_depth':[None, 10, 20, 30],\n",
    "              'n_estimators': [10, 50, 100, 150, 200]\n",
    "              # 'n_estimators': [100, 200]\n",
    "                 }\n",
    "\n",
    "proj = projects[16]\n",
    "\n",
    "result_rf = classifier_utils.grid_search(proj, rf, parameters_rf, non_features_columns)\n",
    "\n",
    "df_gridsearch_rf = pd.DataFrame(result_rf)\\\n",
    "    .filter(regex=(\"param_.*|mean_test_score|std_test_score|rank_test_score\"))\\\n",
    "    .sort_values(by=['rank_test_score'])\n",
    "\n",
    "df_gridsearch_rf.insert(0, 'project', proj)\n",
    "\n",
    "df_gridsearch_rf\n",
    "\n"
   ]
  },
  {
   "cell_type": "markdown",
   "metadata": {
    "pycharm": {
     "name": "#%% md\n"
    }
   },
   "source": [
    "### GridSearch of parameter n_estimators on first 10 projects"
   ]
  },
  {
   "cell_type": "code",
   "execution_count": null,
   "metadata": {
    "pycharm": {
     "name": "#%%\n"
    }
   },
   "outputs": [],
   "source": [
    "parameters_rf = {\n",
    "                # 'criterion':('gini', 'entropy'),\n",
    "              # 'min_samples_leaf':[1, 2, 3],\n",
    "              # 'max_depth':[None, 10, 20, 30],\n",
    "              # 'n_estimators': [10, 50, 90, 100, 110, 150, 200]\n",
    "              'n_estimators': [50, 100, 150, 200]\n",
    "                 }\n",
    "\n",
    "dfs = []\n",
    "\n",
    "for project in projects[:10]:\n",
    "    print(\"\\n=== \", project, \" ===\")\n",
    "    result = classifier_utils.grid_search(project, rf, parameters_rf, non_features_columns)\n",
    "    if result != None:\n",
    "        df_gridsearch_proj = pd.DataFrame(result)\\\n",
    "            .filter(regex=(\"param_.*|mean_test_score|std_test_score|rank_test_score\"))\\\n",
    "            .sort_values(by=['rank_test_score'])\n",
    "        df_gridsearch_proj.insert(0, 'project', project.replace(\"/\", \"__\"))\n",
    "        # print(df_gridsearch_proj)\n",
    "        display(df_gridsearch_proj)\n",
    "        dfs.append(df_gridsearch_proj)\n",
    "\n",
    "large_df = pd.concat(dfs, ignore_index=True)\n",
    "\n",
    "large_df"
   ]
  },
  {
   "cell_type": "code",
   "execution_count": null,
   "metadata": {
    "pycharm": {
     "name": "#%%\n"
    }
   },
   "outputs": [],
   "source": [
    "# large_df.groupby(large_df['project']).mean()"
   ]
  },
  {
   "cell_type": "markdown",
   "metadata": {
    "pycharm": {
     "name": "#%% md\n"
    }
   },
   "source": [
    "#### Validation Curves\n",
    "\n",
    "##### parameter: n_estimators\n",
    "\n",
    "n_estimators : int, default=100\n",
    "\n",
    "The number of trees in the forest."
   ]
  },
  {
   "cell_type": "code",
   "execution_count": null,
   "metadata": {
    "pycharm": {
     "name": "#%%\n"
    }
   },
   "outputs": [],
   "source": [
    "for project in projects[:5]:\n",
    "    classifier_utils.get_validation_curve(project, rf, 'n_estimators',\n",
    "                                      # [10, 50, 100, 150, 200, 300],\n",
    "                                      np.arange(10, 300, 50),\n",
    "                                      non_features_columns)\n",
    "\n"
   ]
  },
  {
   "cell_type": "code",
   "execution_count": null,
   "metadata": {
    "pycharm": {
     "name": "#%%\n"
    }
   },
   "outputs": [],
   "source": [
    "import importlib\n",
    "importlib.reload(classifier_utils)"
   ]
  },
  {
   "cell_type": "code",
   "execution_count": null,
   "metadata": {
    "pycharm": {
     "name": "#%%\n"
    }
   },
   "outputs": [],
   "source": [
    "# # result = classifier_utils.grid_search(projects[6], rf, parameters_rf, non_features_columns)\n",
    "# # result\n",
    "# estimator = rf\n",
    "# parameters = parameters_rf\n",
    "#\n",
    "# proj = projects[6].replace(\"/\", \"__\")\n",
    "# print(\"\\n\", proj)\n",
    "# proj_dataset = f\"../../data/projects/{proj}-training.csv\"\n",
    "# df_proj = pd.read_csv(proj_dataset)\n",
    "# df_clean = df_proj.dropna()\n",
    "# print(f\"Length of df_clean: {len(df_clean)}\")\n",
    "# if len(df_clean) >= 10:\n",
    "#     y = df_clean[\"developerdecision\"].copy()\n",
    "#     df_clean_features = df_clean.drop(columns=['developerdecision']) \\\n",
    "#                                 .drop(columns=non_features_columns)\n",
    "#     features = list(df_clean_features.columns)\n",
    "#     X = df_clean_features[features]\n",
    "#     clf = GridSearchCV(estimator, parameters, verbose=1, cv=10)\n",
    "#     clf.fit(X, y)\n",
    "#     print('\\n', \"Best params and score:\", clf.best_params_, clf.best_score_, '\\n',\n",
    "#           # clf.cv_results_,\n",
    "#           sep='\\n')\n",
    "# else:\n",
    "#     print(None)"
   ]
  },
  {
   "cell_type": "markdown",
   "metadata": {},
   "source": [
    "# Random Forest (XGBoost)"
   ]
  },
  {
   "cell_type": "markdown",
   "metadata": {},
   "source": [
    "### Base classifier"
   ]
  },
  {
   "cell_type": "code",
   "execution_count": null,
   "metadata": {},
   "outputs": [],
   "source": [
    "rf_xg = XGBRFClassifier(random_state=99, n_estimators=100, subsample=0.9, colsample_bynode=0.2, eval_metric='mlogloss')\n"
   ]
  },
  {
   "cell_type": "code",
   "execution_count": null,
   "metadata": {},
   "outputs": [],
   "source": [
    "result_rf_xg = classifier_utils.ProjectsResults(rf_xg, projects, non_features_columns, drop_na=False)"
   ]
  },
  {
   "cell_type": "code",
   "execution_count": null,
   "metadata": {},
   "outputs": [],
   "source": [
    "report_rf_xg = result_rf_xg.get_report_df()\n",
    "\n",
    "report_rf_xg"
   ]
  },
  {
   "cell_type": "markdown",
   "metadata": {},
   "source": [
    "### Inspect project"
   ]
  },
  {
   "cell_type": "code",
   "execution_count": null,
   "metadata": {},
   "outputs": [],
   "source": [
    "project = result_rf_xg.get_project('alexo__wro4j')"
   ]
  },
  {
   "cell_type": "code",
   "execution_count": null,
   "metadata": {},
   "outputs": [],
   "source": [
    "display(project.get_scores_df())\n",
    "display(display(classifier_utils.plot_classification_report(project.scores)))"
   ]
  },
  {
   "cell_type": "markdown",
   "metadata": {},
   "source": [
    "### Tuning hyperparameters (TODO)"
   ]
  },
  {
   "cell_type": "code",
   "execution_count": null,
   "metadata": {
    "pycharm": {
     "name": "#%%\n"
    }
   },
   "outputs": [],
   "source": [
    "print(\"Hyperparameters of Random Forest:\")\n",
    "\n",
    "rf_xg.get_params()"
   ]
  },
  {
   "cell_type": "markdown",
   "metadata": {
    "pycharm": {
     "name": "#%% md\n"
    }
   },
   "source": [
    "#### Using GridSearch to explore combinations of hyperparameters in one project"
   ]
  },
  {
   "cell_type": "code",
   "execution_count": null,
   "metadata": {},
   "outputs": [],
   "source": [
    "parameters_rf_xg = {\n",
    "                # 'criterion':('gini', 'entropy'),\n",
    "#               'min_samples_leaf':[1, 2, 3],\n",
    "              'max_depth':[None, 10, 20, 30],\n",
    "              'n_estimators': [50, 100, 150]\n",
    "              # 'n_estimators': [100, 200]\n",
    "                 }\n",
    "\n",
    "proj = projects[0]\n",
    "\n",
    "result_rf = classifier_utils.grid_search(proj, rf_xg, parameters_rf_xg, non_features_columns)\n",
    "\n",
    "df_gridsearch_rf = pd.DataFrame(result_rf)\\\n",
    "    .filter(regex=(\"param_.*|mean_test_score|std_test_score|rank_test_score\"))\\\n",
    "    .sort_values(by=['rank_test_score'])\n",
    "\n",
    "df_gridsearch_rf.insert(0, 'project', proj)\n",
    "\n",
    "df_gridsearch_rf\n",
    "\n"
   ]
  },
  {
   "cell_type": "markdown",
   "metadata": {
    "pycharm": {
     "name": "#%% md\n"
    }
   },
   "source": [
    "### GridSearch of parameter n_estimators on first 10 projects"
   ]
  },
  {
   "cell_type": "code",
   "execution_count": null,
   "metadata": {
    "pycharm": {
     "name": "#%%\n"
    },
    "scrolled": true
   },
   "outputs": [],
   "source": [
    "parameters_rf_xg = {\n",
    "                # 'criterion':('gini', 'entropy'),\n",
    "              # 'min_samples_leaf':[1, 2, 3],\n",
    "              # 'max_depth':[None, 10, 20, 30],\n",
    "              # 'n_estimators': [10, 50, 90, 100, 110, 150, 200]\n",
    "              'n_estimators': [50, 100, 150, 200]\n",
    "                 }\n",
    "\n",
    "dfs = []\n",
    "\n",
    "for project in projects[:10]:\n",
    "    print(\"\\n=== \", project, \" ===\")\n",
    "    result = classifier_utils.grid_search(project, rf_xg, parameters_rf_xg, non_features_columns)\n",
    "    if result != None:\n",
    "        df_gridsearch_proj = pd.DataFrame(result)\\\n",
    "            .filter(regex=(\"param_.*|mean_test_score|std_test_score|rank_test_score\"))\\\n",
    "            .sort_values(by=['rank_test_score'])\n",
    "        df_gridsearch_proj.insert(0, 'project', project.replace(\"/\", \"__\"))\n",
    "        # print(df_gridsearch_proj)\n",
    "        display(df_gridsearch_proj)\n",
    "        dfs.append(df_gridsearch_proj)\n",
    "\n",
    "large_df = pd.concat(dfs, ignore_index=True)\n",
    "\n",
    "large_df"
   ]
  },
  {
   "cell_type": "markdown",
   "metadata": {
    "pycharm": {
     "name": "#%% md\n"
    }
   },
   "source": [
    "#### Validation Curves\n",
    "\n",
    "##### parameter: n_estimators\n",
    "\n",
    "n_estimators : int, default=100\n",
    "\n",
    "The number of trees in the forest."
   ]
  },
  {
   "cell_type": "code",
   "execution_count": null,
   "metadata": {
    "pycharm": {
     "name": "#%%\n"
    }
   },
   "outputs": [],
   "source": [
    "for project in projects[:3]:\n",
    "    classifier_utils.get_validation_curve(project, rf_xg, 'n_estimators',\n",
    "                                      # [10, 50, 100, 150, 200, 300],\n",
    "                                      np.arange(10, 300, 50),\n",
    "                                      non_features_columns)\n",
    "\n"
   ]
  },
  {
   "cell_type": "markdown",
   "metadata": {},
   "source": [
    "# Tuned algorithms' comparison (TODO)"
   ]
  },
  {
   "cell_type": "code",
   "execution_count": null,
   "metadata": {
    "scrolled": false
   },
   "outputs": [],
   "source": [
    "# import importlib\n",
    "# importlib.reload(classifier_utils)\n",
    "#\n",
    "# # setup the algorithms with the desired parameters\n",
    "# algorithms = {}\n",
    "# algorithms['sklearn-decisionTree'] = DecisionTreeClassifier(min_samples_split=5, random_state=99)\n",
    "# # algorithms['sklearn-adaboost'] = AdaBoostClassifier(n_estimators=100, random_state=99)\n",
    "# algorithms['sklearn-randomForest'] = RandomForestClassifier(random_state=99)\n",
    "# # algorithms['xgBoost-randomForest'] = XGBRFClassifier(random_state=99, n_estimators=100, subsample=0.9, colsample_bynode=0.2, eval_metric='mlogloss')\n",
    "#\n",
    "#\n",
    "# results = []\n",
    "# for project in projects:\n",
    "#     for algorithm_name, algorithm in algorithms.items():\n",
    "#         row = []\n",
    "#         project_results = classifier_utils.evaluate_project(project, non_features_columns, algorithm)\n",
    "#         result = project_results.results\n",
    "#         precision = result.iloc[0]['precision']\n",
    "#         recall = result.iloc[0]['recall']\n",
    "#         f1_score = result.iloc[0]['f1-score']\n",
    "#         accuracy = result.iloc[0]['accuracy']\n",
    "#         majority_class = result.iloc[0]['baseline (majority)']\n",
    "#         improvement = result.iloc[0]['improvement']\n",
    "#         row = [project, algorithm_name, precision, recall, f1_score, accuracy, majority_class, improvement]\n",
    "#         results.append(row)\n",
    "#\n",
    "# results = pd.DataFrame(results, columns=['project', 'algorithm', 'precision', 'recall', 'f1-score', 'accuracy', 'baseline (majority)', 'improvement'])\n",
    "# results.sort_values('improvement', ascending=False)\n",
    "# # print(results)\n",
    "# # pd.concat(results, ignore_index=True)"
   ]
  },
  {
   "cell_type": "markdown",
   "metadata": {},
   "source": [
    "## Comparing algorithms' reports\n",
    "\n",
    "First let's merge the reports from Decision Tree, Random Forest and Random Forest XGBoost in a big table."
   ]
  },
  {
   "cell_type": "code",
   "execution_count": null,
   "metadata": {
    "pycharm": {
     "name": "#%%\n"
    }
   },
   "outputs": [],
   "source": [
    "df_inner_dt_rf = pd.merge(report_dt, report_rf, on='project', how='inner', suffixes=('_dt', '_rf'))\n",
    "\n",
    "df_xg = report_rf_xg.add_suffix(\"_xg\").rename(columns={\"project_xg\": \"project\"})\n",
    "\n",
    "df_inner_dt_rf_xg = pd.merge(df_inner_dt_rf,\n",
    "                             df_xg,\n",
    "                             on='project', how='inner')\n",
    "\n",
    "df_inner_dt_rf_xg\n"
   ]
  },
  {
   "cell_type": "markdown",
   "metadata": {},
   "source": [
    "### How much accuracy improvement does each algorithm provide to the projects?"
   ]
  },
  {
   "cell_type": "code",
   "execution_count": null,
   "metadata": {
    "pycharm": {
     "name": "#%%\n"
    }
   },
   "outputs": [],
   "source": [
    "improvements = df_inner_dt_rf_xg.filter(regex=(\"project|improvement.*\"))\n",
    "\n",
    "# improvements"
   ]
  },
  {
   "cell_type": "code",
   "execution_count": null,
   "metadata": {
    "pycharm": {
     "name": "#%%\n"
    }
   },
   "outputs": [],
   "source": [
    "cm = sns.light_palette(\"green\", as_cmap=True)\n",
    "\n",
    "improvements.style.background_gradient(cmap = cm).format({'improvement_dt' : \"{:.2%}\",\n",
    "                           'improvement_rf' : \"{:.2%}\",\n",
    "                           'improvement_xg': \"{:.2%}\"})"
   ]
  },
  {
   "cell_type": "markdown",
   "metadata": {},
   "source": [
    "## For each project, which algorithm provides the highest accuracy improvement?"
   ]
  },
  {
   "cell_type": "code",
   "execution_count": null,
   "metadata": {
    "pycharm": {
     "name": "#%%\n"
    }
   },
   "outputs": [],
   "source": [
    "winner_algo = improvements.set_index('project').idxmax(axis=1)\n",
    "\n",
    "winner_algo"
   ]
  },
  {
   "cell_type": "markdown",
   "metadata": {},
   "source": [
    "## In how many projects does each algorithm provide the highest accuracy improvement?"
   ]
  },
  {
   "cell_type": "code",
   "execution_count": null,
   "metadata": {
    "pycharm": {
     "name": "#%%\n"
    }
   },
   "outputs": [],
   "source": [
    "winner_algo.groupby(winner_algo).size().sort_values(ascending=False)\n"
   ]
  },
  {
   "cell_type": "code",
   "execution_count": null,
   "metadata": {},
   "outputs": [],
   "source": []
  },
  {
   "cell_type": "code",
   "execution_count": null,
   "metadata": {},
   "outputs": [],
   "source": [
    "def get_combination_key(row, parameters):\n",
    "    key = ''\n",
    "    for value in row[:len(parameters)]:\n",
    "        key+=str(value)+'-'\n",
    "    return key\n",
    "\n",
    "def grid_search(project, estimator, parameters, non_features_columns):\n",
    "    proj = project.replace(\"/\", \"__\")\n",
    "    proj_dataset = f\"../../data/projects/{proj}-training.csv\"\n",
    "    df_proj = pd.read_csv(proj_dataset)\n",
    "    df_clean = df_proj.dropna()\n",
    "    print(f\"Length of df_clean: {len(df_clean)}\")\n",
    "    if len(df_clean) >= 10:\n",
    "        # majority_class = get_majority_class_percentage(df_clean, 'developerdecision')\n",
    "        y = df_clean[\"developerdecision\"].copy()\n",
    "        df_clean_features = df_clean.drop(columns=['developerdecision']) \\\n",
    "                                    .drop(columns=non_features_columns)\n",
    "        features = list(df_clean_features.columns)\n",
    "        X = df_clean_features[features]\n",
    "        clf = GridSearchCV(estimator, parameters, verbose=1, cv=10)\n",
    "        clf.fit(X, y)\n",
    "        print(\"Best params and score:\", clf.best_params_, clf.best_score_, '\\n',\n",
    "              # clf.cv_results_,\n",
    "              sep='\\n')\n",
    "        return clf.cv_results_\n",
    "    else:\n",
    "        return None"
   ]
  },
  {
   "cell_type": "code",
   "execution_count": null,
   "metadata": {},
   "outputs": [],
   "source": []
  },
  {
   "cell_type": "code",
   "execution_count": null,
   "metadata": {
    "scrolled": false
   },
   "outputs": [],
   "source": [
    "estimator = dt\n",
    "projects = ['jgralab__jgralab', 'Unidata__thredds']\n",
    "# projects = ['jgralab__jgralab']\n",
    "import itertools\n",
    "results = {}\n",
    "results_columns = list(parameters.keys())\n",
    "results_columns.extend(['mean_accuracy', 'sum_accuracy', 'total_medals', 'gold_medals', 'silver_medals', 'bronze_medals'])\n",
    "combinations = []\n",
    "\n",
    "for combination in itertools.product(*parameters.values()):\n",
    "    row = []\n",
    "    key=''\n",
    "    for parameter_value in combination:\n",
    "        row.append(parameter_value)\n",
    "        key+=str(parameter_value)\n",
    "    row.extend([0,0,0,0,0,0])\n",
    "    combinations.append(row)\n",
    "print(combinations)\n",
    "results = pd.DataFrame(combinations, columns=results_columns)\n",
    "display(results)\n",
    "print(parameters)\n",
    "    \n",
    "for project in projects:\n",
    "    project_results = grid_search(project, estimator, parameters, non_features_columns)\n",
    "    if project_results != None:\n",
    "        df_gridsearch_dt = pd.DataFrame(project_results)\\\n",
    "            .filter(regex=(\"param_.*|mean_test_score|std_test_score|rank_test_score\"))\\\n",
    "            .sort_values(by=['rank_test_score'])\n",
    "        # get the top 3 combinations \n",
    "        top_3 = df_gridsearch_dt[df_gridsearch_dt['rank_test_score']<=3]\n",
    "        display(top_3)\n",
    "        # for each combination in top 3, find them in the results list and distribute the respective medals\n",
    "        for index, combination in top_3.iterrows():\n",
    "            print(combination)\n",
    "            combination_index = None\n",
    "            filtered_rows = results\n",
    "            for parameter in list(parameters.keys()):\n",
    "                parameter_key = f'param_{parameter}'\n",
    "                combination_value = combination[parameter_key]\n",
    "                print(parameter, combination_value)\n",
    "                if combination[parameter_key] == None:\n",
    "                    filtered_rows = filtered_rows[filtered_rows[parameter].isnull()]\n",
    "                else:\n",
    "                    filtered_rows = filtered_rows[filtered_rows[parameter]==combination_value]\n",
    "                \n",
    "                \n",
    "            if len(filtered_rows) > 0:\n",
    "                row = results.loc[filtered_rows.index]\n",
    "                sum_accuracy = row['sum_accuracy']\n",
    "                gold_medals = row['gold_medals']\n",
    "                silver_medals = row['silver_medals']\n",
    "                bronze_medals = row['bronze_medals']\n",
    "                \n",
    "                results.at[filtered_rows.index, 'sum_accuracy'] = sum_accuracy + combination['mean_test_score']\n",
    "                if combination['rank_test_score'] == 1:\n",
    "                    results.at[filtered_rows.index, 'gold_medals'] = gold_medals + 1\n",
    "                elif combination['rank_test_score'] == 2:\n",
    "                   results.at[filtered_rows.index, 'silver_medals'] = silver_medals + 1\n",
    "                elif combination['rank_test_score'] == 3:\n",
    "                    results.at[filtered_rows.index, 'bronze_medals'] = bronze_medals + 1\n",
    "\n",
    "\n",
    "display(results)\n",
    "# print(results)\n",
    "df = pd.DataFrame(results)\n"
   ]
  },
  {
   "cell_type": "code",
   "execution_count": null,
   "metadata": {},
   "outputs": [],
   "source": [
    "import importlib\n",
    "importlib.reload(classifier_utils)"
   ]
  },
  {
   "cell_type": "code",
   "execution_count": null,
   "metadata": {},
   "outputs": [],
   "source": [
    "estimator = dt\n",
    "# projects = ['jgralab__jgralab', 'Unidata__thredds']\n",
    "results = classifier_utils.grid_search_all(projects[:5], dt, parameters, non_features_columns)"
   ]
  },
  {
   "cell_type": "code",
   "execution_count": null,
   "metadata": {},
   "outputs": [],
   "source": [
    "results.sort_values(['gold_medals', 'silver_medals', 'bronze_medals', 'total_medals'], ascending=False)"
   ]
  },
  {
   "cell_type": "code",
   "execution_count": null,
   "metadata": {},
   "outputs": [],
   "source": [
    "df = df.transpose()\n",
    "df.columns = results_columns"
   ]
  },
  {
   "cell_type": "code",
   "execution_count": null,
   "metadata": {},
   "outputs": [],
   "source": [
    "df"
   ]
  },
  {
   "cell_type": "code",
   "execution_count": null,
   "metadata": {},
   "outputs": [],
   "source": []
  }
 ],
 "metadata": {
  "kernelspec": {
   "display_name": "Python 3",
   "language": "python",
   "name": "python3"
  },
  "language_info": {
   "codemirror_mode": {
    "name": "ipython",
    "version": 3
   },
   "file_extension": ".py",
   "mimetype": "text/x-python",
   "name": "python",
   "nbconvert_exporter": "python",
   "pygments_lexer": "ipython3",
   "version": "3.8.5"
  }
 },
 "nbformat": 4,
 "nbformat_minor": 4
}
