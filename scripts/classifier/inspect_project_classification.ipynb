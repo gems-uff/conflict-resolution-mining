{
 "cells": [
  {
   "cell_type": "code",
   "execution_count": 1,
   "metadata": {},
   "outputs": [],
   "source": [
    "import numpy as np\n",
    "import pandas as pd\n",
    "from IPython.core.display import display\n",
    "\n",
    "pd.set_option('display.max_columns', None)\n",
    "from sklearn.tree import DecisionTreeClassifier\n",
    "from sklearn.ensemble import RandomForestClassifier\n",
    "from xgboost import XGBRFClassifier\n",
    "import warnings\n",
    "import classifier_utils\n",
    "warnings.filterwarnings(\"ignore\", category=UserWarning)"
   ]
  },
  {
   "cell_type": "code",
   "execution_count": 2,
   "metadata": {},
   "outputs": [],
   "source": [
    "non_features_columns = [\"chunk_id\", \"line_start\", \"line_end\", \"line_separator\", \"kind_conflict\", \"url\", \"project\"]\n",
    "non_features_columns.extend([\"project_user\", \"project_name\", \"path\", \"file_name\", \"sha\", \"leftsha\", \"rightsha\", \"basesha\"])"
   ]
  },
  {
   "cell_type": "code",
   "execution_count": 3,
   "metadata": {},
   "outputs": [],
   "source": [
    "selected_dataset = pd.read_csv(\"../../data/SELECTED_LABELLED_DATASET.csv\")\n",
    "projects = list(selected_dataset['project'].unique())"
   ]
  },
  {
   "cell_type": "code",
   "execution_count": 4,
   "metadata": {},
   "outputs": [],
   "source": [
    "project_name = \"alexo/wro4j\"\n",
    "project_name = project_name.replace('/','__')\n",
    "df_training = pd.read_csv(f'../../data/projects/{project_name}-training.csv')"
   ]
  },
  {
   "cell_type": "code",
   "execution_count": 5,
   "metadata": {},
   "outputs": [
    {
     "name": "stdout",
     "output_type": "stream",
     "text": [
      "Total number of rows for project alexo__wro4j: 1663\n",
      "Percentage of rows with missing values: 295/1663 (17.74%)\n"
     ]
    }
   ],
   "source": [
    "df_na = df_training[df_training.isna().any(axis=1)]\n",
    "print(f'Total number of rows for project {project_name}: {len(df_training)}')\n",
    "print(f'Percentage of rows with missing values: {len(df_na)}/{len(df_training)} ({(len(df_na) / len(df_training))*100:.2f}%)')"
   ]
  },
  {
   "cell_type": "markdown",
   "metadata": {},
   "source": [
    "# Class distributions"
   ]
  },
  {
   "cell_type": "markdown",
   "metadata": {},
   "source": [
    "### Normalized (%)"
   ]
  },
  {
   "cell_type": "code",
   "execution_count": 6,
   "metadata": {},
   "outputs": [
    {
     "data": {
      "text/html": [
       "<div>\n",
       "<style scoped>\n",
       "    .dataframe tbody tr th:only-of-type {\n",
       "        vertical-align: middle;\n",
       "    }\n",
       "\n",
       "    .dataframe tbody tr th {\n",
       "        vertical-align: top;\n",
       "    }\n",
       "\n",
       "    .dataframe thead th {\n",
       "        text-align: right;\n",
       "    }\n",
       "</style>\n",
       "<table border=\"1\" class=\"dataframe\">\n",
       "  <thead>\n",
       "    <tr style=\"text-align: right;\">\n",
       "      <th></th>\n",
       "      <th>Project</th>\n",
       "      <th>Version 1</th>\n",
       "      <th>Version 2</th>\n",
       "      <th>Combination</th>\n",
       "      <th>ConcatenationV1V2</th>\n",
       "      <th>ConcatenationV2V1</th>\n",
       "      <th>Manual</th>\n",
       "      <th>None</th>\n",
       "    </tr>\n",
       "  </thead>\n",
       "  <tbody>\n",
       "    <tr>\n",
       "      <th>0</th>\n",
       "      <td>alexo__wro4j</td>\n",
       "      <td>30.7</td>\n",
       "      <td>14.77</td>\n",
       "      <td>28.65</td>\n",
       "      <td>0.88</td>\n",
       "      <td>1.02</td>\n",
       "      <td>23.61</td>\n",
       "      <td>0.37</td>\n",
       "    </tr>\n",
       "  </tbody>\n",
       "</table>\n",
       "</div>"
      ],
      "text/plain": [
       "        Project  Version 1  Version 2  Combination  ConcatenationV1V2  \\\n",
       "0  alexo__wro4j       30.7      14.77        28.65               0.88   \n",
       "\n",
       "   ConcatenationV2V1  Manual  None  \n",
       "0               1.02   23.61  0.37  "
      ]
     },
     "execution_count": 6,
     "metadata": {},
     "output_type": "execute_result"
    }
   ],
   "source": [
    "class_distribution_normalized = classifier_utils.get_project_class_distribution(project_name)\n",
    "\n",
    "class_distribution_normalized"
   ]
  },
  {
   "cell_type": "markdown",
   "metadata": {},
   "source": [
    "### Count"
   ]
  },
  {
   "cell_type": "code",
   "execution_count": 7,
   "metadata": {},
   "outputs": [
    {
     "data": {
      "text/html": [
       "<div>\n",
       "<style scoped>\n",
       "    .dataframe tbody tr th:only-of-type {\n",
       "        vertical-align: middle;\n",
       "    }\n",
       "\n",
       "    .dataframe tbody tr th {\n",
       "        vertical-align: top;\n",
       "    }\n",
       "\n",
       "    .dataframe thead th {\n",
       "        text-align: right;\n",
       "    }\n",
       "</style>\n",
       "<table border=\"1\" class=\"dataframe\">\n",
       "  <thead>\n",
       "    <tr style=\"text-align: right;\">\n",
       "      <th></th>\n",
       "      <th>Project</th>\n",
       "      <th>Version 1</th>\n",
       "      <th>Version 2</th>\n",
       "      <th>Combination</th>\n",
       "      <th>ConcatenationV1V2</th>\n",
       "      <th>ConcatenationV2V1</th>\n",
       "      <th>Manual</th>\n",
       "      <th>None</th>\n",
       "    </tr>\n",
       "  </thead>\n",
       "  <tbody>\n",
       "    <tr>\n",
       "      <th>0</th>\n",
       "      <td>alexo__wro4j</td>\n",
       "      <td>420</td>\n",
       "      <td>202</td>\n",
       "      <td>392</td>\n",
       "      <td>12</td>\n",
       "      <td>14</td>\n",
       "      <td>323</td>\n",
       "      <td>5</td>\n",
       "    </tr>\n",
       "  </tbody>\n",
       "</table>\n",
       "</div>"
      ],
      "text/plain": [
       "        Project  Version 1  Version 2  Combination  ConcatenationV1V2  \\\n",
       "0  alexo__wro4j        420        202          392                 12   \n",
       "\n",
       "   ConcatenationV2V1  Manual  None  \n",
       "0                 14     323     5  "
      ]
     },
     "execution_count": 7,
     "metadata": {},
     "output_type": "execute_result"
    }
   ],
   "source": [
    "class_distribution_count = classifier_utils.get_project_class_distribution(project_name, False)\n",
    "\n",
    "class_distribution_count"
   ]
  },
  {
   "cell_type": "markdown",
   "metadata": {},
   "source": [
    "# Classifiers"
   ]
  },
  {
   "cell_type": "code",
   "execution_count": 8,
   "metadata": {},
   "outputs": [],
   "source": [
    "# choose which algorithm to use\n",
    "# algorithm = DecisionTreeClassifier(min_samples_split=5, random_state=99)\n",
    "algorithm = RandomForestClassifier(random_state=99)\n",
    "# algorithm = XGBRFClassifier(random_state=99)"
   ]
  },
  {
   "cell_type": "code",
   "execution_count": 9,
   "metadata": {
    "pycharm": {
     "name": "#%%\n"
    }
   },
   "outputs": [],
   "source": [
    "result = classifier_utils.ProjectsResults(algorithm, [project_name], non_features_columns)"
   ]
  },
  {
   "cell_type": "code",
   "execution_count": 10,
   "metadata": {},
   "outputs": [
    {
     "data": {
      "text/html": [
       "<div>\n",
       "<style scoped>\n",
       "    .dataframe tbody tr th:only-of-type {\n",
       "        vertical-align: middle;\n",
       "    }\n",
       "\n",
       "    .dataframe tbody tr th {\n",
       "        vertical-align: top;\n",
       "    }\n",
       "\n",
       "    .dataframe thead th {\n",
       "        text-align: right;\n",
       "    }\n",
       "</style>\n",
       "<table border=\"1\" class=\"dataframe\">\n",
       "  <thead>\n",
       "    <tr style=\"text-align: right;\">\n",
       "      <th></th>\n",
       "      <th>project</th>\n",
       "      <th>observations</th>\n",
       "      <th>observations (wt NaN)</th>\n",
       "      <th>precision</th>\n",
       "      <th>recall</th>\n",
       "      <th>f1-score</th>\n",
       "      <th>accuracy</th>\n",
       "      <th>baseline (majority)</th>\n",
       "      <th>improvement</th>\n",
       "    </tr>\n",
       "  </thead>\n",
       "  <tbody>\n",
       "    <tr>\n",
       "      <th>0</th>\n",
       "      <td>alexo__wro4j</td>\n",
       "      <td>1663</td>\n",
       "      <td>1368</td>\n",
       "      <td>0.569</td>\n",
       "      <td>0.581</td>\n",
       "      <td>0.572</td>\n",
       "      <td>0.581</td>\n",
       "      <td>0.307</td>\n",
       "      <td>0.396</td>\n",
       "    </tr>\n",
       "  </tbody>\n",
       "</table>\n",
       "</div>"
      ],
      "text/plain": [
       "        project  observations  observations (wt NaN)  precision  recall  \\\n",
       "0  alexo__wro4j          1663                   1368      0.569   0.581   \n",
       "\n",
       "   f1-score  accuracy  baseline (majority)  improvement  \n",
       "0     0.572     0.581                0.307        0.396  "
      ]
     },
     "execution_count": 10,
     "metadata": {},
     "output_type": "execute_result"
    }
   ],
   "source": [
    "report = result.get_report_df()\n",
    "report"
   ]
  },
  {
   "cell_type": "markdown",
   "metadata": {},
   "source": [
    "### Inspect project"
   ]
  },
  {
   "cell_type": "code",
   "execution_count": 11,
   "metadata": {},
   "outputs": [],
   "source": [
    "sample_project = result.get_project(project_name)"
   ]
  },
  {
   "cell_type": "code",
   "execution_count": 12,
   "metadata": {},
   "outputs": [
    {
     "data": {
      "text/html": [
       "<div>\n",
       "<style scoped>\n",
       "    .dataframe tbody tr th:only-of-type {\n",
       "        vertical-align: middle;\n",
       "    }\n",
       "\n",
       "    .dataframe tbody tr th {\n",
       "        vertical-align: top;\n",
       "    }\n",
       "\n",
       "    .dataframe thead th {\n",
       "        text-align: right;\n",
       "    }\n",
       "</style>\n",
       "<table border=\"1\" class=\"dataframe\">\n",
       "  <thead>\n",
       "    <tr style=\"text-align: right;\">\n",
       "      <th></th>\n",
       "      <th>precision</th>\n",
       "      <th>recall</th>\n",
       "      <th>f1-score</th>\n",
       "      <th>support</th>\n",
       "    </tr>\n",
       "  </thead>\n",
       "  <tbody>\n",
       "    <tr>\n",
       "      <th>Combination</th>\n",
       "      <td>0.588764</td>\n",
       "      <td>0.668367</td>\n",
       "      <td>0.626045</td>\n",
       "      <td>392.00000</td>\n",
       "    </tr>\n",
       "    <tr>\n",
       "      <th>ConcatenationV1V2</th>\n",
       "      <td>0.000000</td>\n",
       "      <td>0.000000</td>\n",
       "      <td>0.000000</td>\n",
       "      <td>12.00000</td>\n",
       "    </tr>\n",
       "    <tr>\n",
       "      <th>ConcatenationV2V1</th>\n",
       "      <td>0.333333</td>\n",
       "      <td>0.142857</td>\n",
       "      <td>0.200000</td>\n",
       "      <td>14.00000</td>\n",
       "    </tr>\n",
       "    <tr>\n",
       "      <th>Manual</th>\n",
       "      <td>0.552189</td>\n",
       "      <td>0.507740</td>\n",
       "      <td>0.529032</td>\n",
       "      <td>323.00000</td>\n",
       "    </tr>\n",
       "    <tr>\n",
       "      <th>None</th>\n",
       "      <td>0.000000</td>\n",
       "      <td>0.000000</td>\n",
       "      <td>0.000000</td>\n",
       "      <td>5.00000</td>\n",
       "    </tr>\n",
       "    <tr>\n",
       "      <th>Version 1</th>\n",
       "      <td>0.614894</td>\n",
       "      <td>0.688095</td>\n",
       "      <td>0.649438</td>\n",
       "      <td>420.00000</td>\n",
       "    </tr>\n",
       "    <tr>\n",
       "      <th>Version 2</th>\n",
       "      <td>0.527027</td>\n",
       "      <td>0.386139</td>\n",
       "      <td>0.445714</td>\n",
       "      <td>202.00000</td>\n",
       "    </tr>\n",
       "    <tr>\n",
       "      <th>accuracy</th>\n",
       "      <td>0.581140</td>\n",
       "      <td>0.581140</td>\n",
       "      <td>0.581140</td>\n",
       "      <td>0.58114</td>\n",
       "    </tr>\n",
       "    <tr>\n",
       "      <th>macro avg</th>\n",
       "      <td>0.373744</td>\n",
       "      <td>0.341885</td>\n",
       "      <td>0.350033</td>\n",
       "      <td>1368.00000</td>\n",
       "    </tr>\n",
       "    <tr>\n",
       "      <th>weighted avg</th>\n",
       "      <td>0.569104</td>\n",
       "      <td>0.581140</td>\n",
       "      <td>0.571554</td>\n",
       "      <td>1368.00000</td>\n",
       "    </tr>\n",
       "  </tbody>\n",
       "</table>\n",
       "</div>"
      ],
      "text/plain": [
       "                   precision    recall  f1-score     support\n",
       "Combination         0.588764  0.668367  0.626045   392.00000\n",
       "ConcatenationV1V2   0.000000  0.000000  0.000000    12.00000\n",
       "ConcatenationV2V1   0.333333  0.142857  0.200000    14.00000\n",
       "Manual              0.552189  0.507740  0.529032   323.00000\n",
       "None                0.000000  0.000000  0.000000     5.00000\n",
       "Version 1           0.614894  0.688095  0.649438   420.00000\n",
       "Version 2           0.527027  0.386139  0.445714   202.00000\n",
       "accuracy            0.581140  0.581140  0.581140     0.58114\n",
       "macro avg           0.373744  0.341885  0.350033  1368.00000\n",
       "weighted avg        0.569104  0.581140  0.571554  1368.00000"
      ]
     },
     "metadata": {},
     "output_type": "display_data"
    },
    {
     "data": {
      "text/plain": [
       "None"
      ]
     },
     "metadata": {},
     "output_type": "display_data"
    },
    {
     "data": {
      "image/png": "[encoded data removed]",
      "text/plain": [
       "<Figure size 708.661x396.85 with 2 Axes>"
      ]
     },
     "metadata": {},
     "output_type": "display_data"
    }
   ],
   "source": [
    "display(sample_project.get_scores_df())\n",
    "display(classifier_utils.plot_classification_report(sample_project.scores))"
   ]
  },
  {
   "cell_type": "markdown",
   "metadata": {},
   "source": [
    "### Confusion matrix"
   ]
  },
  {
   "cell_type": "code",
   "execution_count": 13,
   "metadata": {},
   "outputs": [
    {
     "name": "stdout",
     "output_type": "stream",
     "text": [
      "Columns = predicted label\n",
      "Rows = true label\n"
     ]
    },
    {
     "data": {
      "text/html": [
       "<div>\n",
       "<style scoped>\n",
       "    .dataframe tbody tr th:only-of-type {\n",
       "        vertical-align: middle;\n",
       "    }\n",
       "\n",
       "    .dataframe tbody tr th {\n",
       "        vertical-align: top;\n",
       "    }\n",
       "\n",
       "    .dataframe thead th {\n",
       "        text-align: right;\n",
       "    }\n",
       "</style>\n",
       "<table border=\"1\" class=\"dataframe\">\n",
       "  <thead>\n",
       "    <tr style=\"text-align: right;\">\n",
       "      <th></th>\n",
       "      <th>Combination</th>\n",
       "      <th>ConcatenationV1V2</th>\n",
       "      <th>ConcatenationV2V1</th>\n",
       "      <th>Manual</th>\n",
       "      <th>None</th>\n",
       "      <th>Version 1</th>\n",
       "      <th>Version 2</th>\n",
       "    </tr>\n",
       "  </thead>\n",
       "  <tbody>\n",
       "    <tr>\n",
       "      <th>Combination</th>\n",
       "      <td>262</td>\n",
       "      <td>1</td>\n",
       "      <td>2</td>\n",
       "      <td>50</td>\n",
       "      <td>0</td>\n",
       "      <td>62</td>\n",
       "      <td>15</td>\n",
       "    </tr>\n",
       "    <tr>\n",
       "      <th>ConcatenationV1V2</th>\n",
       "      <td>8</td>\n",
       "      <td>0</td>\n",
       "      <td>1</td>\n",
       "      <td>1</td>\n",
       "      <td>0</td>\n",
       "      <td>1</td>\n",
       "      <td>1</td>\n",
       "    </tr>\n",
       "    <tr>\n",
       "      <th>ConcatenationV2V1</th>\n",
       "      <td>5</td>\n",
       "      <td>0</td>\n",
       "      <td>2</td>\n",
       "      <td>1</td>\n",
       "      <td>1</td>\n",
       "      <td>4</td>\n",
       "      <td>1</td>\n",
       "    </tr>\n",
       "    <tr>\n",
       "      <th>Manual</th>\n",
       "      <td>80</td>\n",
       "      <td>0</td>\n",
       "      <td>0</td>\n",
       "      <td>164</td>\n",
       "      <td>0</td>\n",
       "      <td>57</td>\n",
       "      <td>22</td>\n",
       "    </tr>\n",
       "    <tr>\n",
       "      <th>None</th>\n",
       "      <td>2</td>\n",
       "      <td>0</td>\n",
       "      <td>1</td>\n",
       "      <td>0</td>\n",
       "      <td>0</td>\n",
       "      <td>0</td>\n",
       "      <td>2</td>\n",
       "    </tr>\n",
       "    <tr>\n",
       "      <th>Version 1</th>\n",
       "      <td>57</td>\n",
       "      <td>0</td>\n",
       "      <td>0</td>\n",
       "      <td>45</td>\n",
       "      <td>0</td>\n",
       "      <td>289</td>\n",
       "      <td>29</td>\n",
       "    </tr>\n",
       "    <tr>\n",
       "      <th>Version 2</th>\n",
       "      <td>31</td>\n",
       "      <td>0</td>\n",
       "      <td>0</td>\n",
       "      <td>36</td>\n",
       "      <td>0</td>\n",
       "      <td>57</td>\n",
       "      <td>78</td>\n",
       "    </tr>\n",
       "  </tbody>\n",
       "</table>\n",
       "</div>"
      ],
      "text/plain": [
       "                   Combination  ConcatenationV1V2  ConcatenationV2V1  Manual  \\\n",
       "Combination                262                  1                  2      50   \n",
       "ConcatenationV1V2            8                  0                  1       1   \n",
       "ConcatenationV2V1            5                  0                  2       1   \n",
       "Manual                      80                  0                  0     164   \n",
       "None                         2                  0                  1       0   \n",
       "Version 1                   57                  0                  0      45   \n",
       "Version 2                   31                  0                  0      36   \n",
       "\n",
       "                   None  Version 1  Version 2  \n",
       "Combination           0         62         15  \n",
       "ConcatenationV1V2     0          1          1  \n",
       "ConcatenationV2V1     1          4          1  \n",
       "Manual                0         57         22  \n",
       "None                  0          0          2  \n",
       "Version 1             0        289         29  \n",
       "Version 2             0         57         78  "
      ]
     },
     "metadata": {},
     "output_type": "display_data"
    }
   ],
   "source": [
    "display(sample_project.get_confusion_matrix_df())"
   ]
  }
 ],
 "metadata": {
  "kernelspec": {
   "display_name": "Python 3",
   "language": "python",
   "name": "python3"
  },
  "language_info": {
   "codemirror_mode": {
    "name": "ipython",
    "version": 3
   },
   "file_extension": ".py",
   "mimetype": "text/x-python",
   "name": "python",
   "nbconvert_exporter": "python",
   "pygments_lexer": "ipython3",
   "version": "3.8.5"
  }
 },
 "nbformat": 4,
 "nbformat_minor": 4
}
