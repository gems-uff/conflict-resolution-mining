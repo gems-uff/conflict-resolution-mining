{
 "cells": [
  {
   "cell_type": "markdown",
   "metadata": {},
   "source": [
    "Goal of this notebook:\n",
    "\n",
    "Perform feature selection on our dataset.\n",
    "\n",
    "Strategy:\n",
    "\n",
    "Iterate over each project and execute the feature selection"
   ]
  },
  {
   "cell_type": "code",
   "execution_count": 9,
   "metadata": {
    "ExecuteTime": {
     "end_time": "2022-07-22T17:38:52.067504Z",
     "start_time": "2022-07-22T17:38:51.132331Z"
    }
   },
   "outputs": [],
   "source": [
    "import numpy as np\n",
    "import pandas as pd\n",
    "from IPython.core.display import display\n",
    "\n",
    "pd.set_option('display.max_columns', None)\n",
    "from sklearn.ensemble import RandomForestClassifier\n",
    "from sklearn.feature_selection import RFECV\n",
    "import warnings\n",
    "import classifier_utils\n",
    "warnings.filterwarnings(\"ignore\")"
   ]
  },
  {
   "cell_type": "code",
   "execution_count": 10,
   "metadata": {
    "ExecuteTime": {
     "end_time": "2022-07-22T17:38:52.072887Z",
     "start_time": "2022-07-22T17:38:52.068697Z"
    }
   },
   "outputs": [],
   "source": [
    "non_features_columns = [\"chunk_id\", \"line_start\", \"line_end\", \"line_separator\", \"kind_conflict\", \"url\", \"project\"]\n",
    "non_features_columns.extend([\"project_user\", \"project_name\", \"path\", \"file_name\", \"sha\", \"leftsha\", \"rightsha\", \"basesha\"])\n",
    "non_features_columns.extend([\"has_branch_merge_message_indicator\"])"
   ]
  },
  {
   "cell_type": "code",
   "execution_count": 11,
   "metadata": {
    "ExecuteTime": {
     "end_time": "2022-07-22T17:38:52.311683Z",
     "start_time": "2022-07-22T17:38:52.075899Z"
    }
   },
   "outputs": [],
   "source": [
    "selected_dataset = pd.read_csv(\"../../data/SELECTED_LABELLED_DATASET.csv\")\n",
    "projects = list(selected_dataset['project'].unique())"
   ]
  },
  {
   "cell_type": "code",
   "execution_count": 12,
   "metadata": {
    "ExecuteTime": {
     "end_time": "2022-07-22T17:38:52.315436Z",
     "start_time": "2022-07-22T17:38:52.313214Z"
    }
   },
   "outputs": [],
   "source": [
    "rf = RandomForestClassifier(random_state=99, n_jobs=5, n_estimators=400, max_features=0.3, min_samples_leaf=1)"
   ]
  },
  {
   "cell_type": "markdown",
   "metadata": {},
   "source": [
    "# Tree-based feature selection\n",
    "\n",
    "Uses the feature_importances_ attribute from the Random Forest model to select the most important features. It uses the mean of the importances of all features as a threshold."
   ]
  },
  {
   "cell_type": "code",
   "execution_count": 13,
   "metadata": {
    "ExecuteTime": {
     "end_time": "2022-07-22T17:49:39.439796Z",
     "start_time": "2022-07-22T17:38:52.316647Z"
    }
   },
   "outputs": [],
   "source": [
    "import importlib\n",
    "importlib.reload(classifier_utils)\n",
    "results_tree, attributes_record_tree = classifier_utils.projects_feature_selection(projects, non_features_columns, rf, 'tree')"
   ]
  },
  {
   "cell_type": "code",
   "execution_count": 14,
   "metadata": {
    "ExecuteTime": {
     "end_time": "2022-07-22T17:49:39.457593Z",
     "start_time": "2022-07-22T17:49:39.440808Z"
    }
   },
   "outputs": [
    {
     "data": {
      "text/html": [
       "<div>\n",
       "<style scoped>\n",
       "    .dataframe tbody tr th:only-of-type {\n",
       "        vertical-align: middle;\n",
       "    }\n",
       "\n",
       "    .dataframe tbody tr th {\n",
       "        vertical-align: top;\n",
       "    }\n",
       "\n",
       "    .dataframe thead th {\n",
       "        text-align: right;\n",
       "    }\n",
       "</style>\n",
       "<table border=\"1\" class=\"dataframe\">\n",
       "  <thead>\n",
       "    <tr style=\"text-align: right;\">\n",
       "      <th></th>\n",
       "      <th>project</th>\n",
       "      <th>N</th>\n",
       "      <th># attr.</th>\n",
       "      <th># attr. fs</th>\n",
       "      <th>accuracy</th>\n",
       "      <th>accuracy_fs</th>\n",
       "      <th>improvement</th>\n",
       "    </tr>\n",
       "  </thead>\n",
       "  <tbody>\n",
       "    <tr>\n",
       "      <th>0</th>\n",
       "      <td>Ramblurr__Anki-Android</td>\n",
       "      <td>759</td>\n",
       "      <td>128.00</td>\n",
       "      <td>34.0</td>\n",
       "      <td>0.739</td>\n",
       "      <td>0.740</td>\n",
       "      <td>0.005</td>\n",
       "    </tr>\n",
       "    <tr>\n",
       "      <th>1</th>\n",
       "      <td>apache__directory-server</td>\n",
       "      <td>652</td>\n",
       "      <td>95.00</td>\n",
       "      <td>18.0</td>\n",
       "      <td>0.942</td>\n",
       "      <td>0.928</td>\n",
       "      <td>-0.015</td>\n",
       "    </tr>\n",
       "    <tr>\n",
       "      <th>2</th>\n",
       "      <td>android__platform_frameworks_base</td>\n",
       "      <td>2460</td>\n",
       "      <td>565.00</td>\n",
       "      <td>53.0</td>\n",
       "      <td>0.817</td>\n",
       "      <td>0.814</td>\n",
       "      <td>-0.004</td>\n",
       "    </tr>\n",
       "    <tr>\n",
       "      <th>3</th>\n",
       "      <td>freenet__fred</td>\n",
       "      <td>1012</td>\n",
       "      <td>133.00</td>\n",
       "      <td>47.0</td>\n",
       "      <td>0.673</td>\n",
       "      <td>0.680</td>\n",
       "      <td>0.021</td>\n",
       "    </tr>\n",
       "    <tr>\n",
       "      <th>4</th>\n",
       "      <td>alexo__wro4j</td>\n",
       "      <td>1368</td>\n",
       "      <td>106.00</td>\n",
       "      <td>31.0</td>\n",
       "      <td>0.583</td>\n",
       "      <td>0.585</td>\n",
       "      <td>0.004</td>\n",
       "    </tr>\n",
       "    <tr>\n",
       "      <th>5</th>\n",
       "      <td>apache__lucene-solr</td>\n",
       "      <td>974</td>\n",
       "      <td>123.00</td>\n",
       "      <td>42.0</td>\n",
       "      <td>0.646</td>\n",
       "      <td>0.644</td>\n",
       "      <td>-0.003</td>\n",
       "    </tr>\n",
       "    <tr>\n",
       "      <th>6</th>\n",
       "      <td>getrailo__railo</td>\n",
       "      <td>572</td>\n",
       "      <td>89.00</td>\n",
       "      <td>30.0</td>\n",
       "      <td>0.710</td>\n",
       "      <td>0.711</td>\n",
       "      <td>0.006</td>\n",
       "    </tr>\n",
       "    <tr>\n",
       "      <th>7</th>\n",
       "      <td>atlasapi__atlas</td>\n",
       "      <td>782</td>\n",
       "      <td>123.00</td>\n",
       "      <td>41.0</td>\n",
       "      <td>0.671</td>\n",
       "      <td>0.656</td>\n",
       "      <td>-0.023</td>\n",
       "    </tr>\n",
       "    <tr>\n",
       "      <th>8</th>\n",
       "      <td>hibernate__hibernate-orm</td>\n",
       "      <td>716</td>\n",
       "      <td>130.00</td>\n",
       "      <td>32.0</td>\n",
       "      <td>0.602</td>\n",
       "      <td>0.591</td>\n",
       "      <td>-0.018</td>\n",
       "    </tr>\n",
       "    <tr>\n",
       "      <th>9</th>\n",
       "      <td>CloudStack-extras__CloudStack-archive</td>\n",
       "      <td>1106</td>\n",
       "      <td>134.00</td>\n",
       "      <td>48.0</td>\n",
       "      <td>0.806</td>\n",
       "      <td>0.805</td>\n",
       "      <td>-0.001</td>\n",
       "    </tr>\n",
       "    <tr>\n",
       "      <th>10</th>\n",
       "      <td>TeamDev-Ltd__OpenFaces</td>\n",
       "      <td>2859</td>\n",
       "      <td>104.00</td>\n",
       "      <td>26.0</td>\n",
       "      <td>0.969</td>\n",
       "      <td>0.969</td>\n",
       "      <td>-0.000</td>\n",
       "    </tr>\n",
       "    <tr>\n",
       "      <th>11</th>\n",
       "      <td>eucalyptus__eucalyptus</td>\n",
       "      <td>747</td>\n",
       "      <td>145.00</td>\n",
       "      <td>41.0</td>\n",
       "      <td>0.623</td>\n",
       "      <td>0.617</td>\n",
       "      <td>-0.009</td>\n",
       "    </tr>\n",
       "    <tr>\n",
       "      <th>12</th>\n",
       "      <td>zkoss__zk</td>\n",
       "      <td>881</td>\n",
       "      <td>110.00</td>\n",
       "      <td>34.0</td>\n",
       "      <td>0.790</td>\n",
       "      <td>0.787</td>\n",
       "      <td>-0.004</td>\n",
       "    </tr>\n",
       "    <tr>\n",
       "      <th>13</th>\n",
       "      <td>alkacon__opencms-core</td>\n",
       "      <td>840</td>\n",
       "      <td>108.00</td>\n",
       "      <td>26.0</td>\n",
       "      <td>0.962</td>\n",
       "      <td>0.962</td>\n",
       "      <td>-0.000</td>\n",
       "    </tr>\n",
       "    <tr>\n",
       "      <th>14</th>\n",
       "      <td>SINTEF-9012__ThingML</td>\n",
       "      <td>977</td>\n",
       "      <td>86.00</td>\n",
       "      <td>23.0</td>\n",
       "      <td>0.949</td>\n",
       "      <td>0.950</td>\n",
       "      <td>0.020</td>\n",
       "    </tr>\n",
       "    <tr>\n",
       "      <th>15</th>\n",
       "      <td>apache__accumulo</td>\n",
       "      <td>3148</td>\n",
       "      <td>136.00</td>\n",
       "      <td>30.0</td>\n",
       "      <td>0.862</td>\n",
       "      <td>0.859</td>\n",
       "      <td>-0.004</td>\n",
       "    </tr>\n",
       "    <tr>\n",
       "      <th>16</th>\n",
       "      <td>Unidata__thredds</td>\n",
       "      <td>950</td>\n",
       "      <td>98.00</td>\n",
       "      <td>29.0</td>\n",
       "      <td>0.918</td>\n",
       "      <td>0.919</td>\n",
       "      <td>0.013</td>\n",
       "    </tr>\n",
       "    <tr>\n",
       "      <th>17</th>\n",
       "      <td>jgralab__jgralab</td>\n",
       "      <td>1802</td>\n",
       "      <td>97.00</td>\n",
       "      <td>24.0</td>\n",
       "      <td>0.867</td>\n",
       "      <td>0.861</td>\n",
       "      <td>-0.007</td>\n",
       "    </tr>\n",
       "    <tr>\n",
       "      <th>18</th>\n",
       "      <td>sebastianbenz__Jnario</td>\n",
       "      <td>8173</td>\n",
       "      <td>83.00</td>\n",
       "      <td>13.0</td>\n",
       "      <td>0.999</td>\n",
       "      <td>0.999</td>\n",
       "      <td>0.000</td>\n",
       "    </tr>\n",
       "    <tr>\n",
       "      <th>19</th>\n",
       "      <td>CCI-MIT__XCoLab</td>\n",
       "      <td>3757</td>\n",
       "      <td>98.00</td>\n",
       "      <td>14.0</td>\n",
       "      <td>0.976</td>\n",
       "      <td>0.972</td>\n",
       "      <td>-0.004</td>\n",
       "    </tr>\n",
       "    <tr>\n",
       "      <th>20</th>\n",
       "      <td>Overall</td>\n",
       "      <td>34535</td>\n",
       "      <td>134.55</td>\n",
       "      <td>31.8</td>\n",
       "      <td>0.805</td>\n",
       "      <td>0.802</td>\n",
       "      <td>-0.003</td>\n",
       "    </tr>\n",
       "  </tbody>\n",
       "</table>\n",
       "</div>"
      ],
      "text/plain": [
       "                                  project      N  # attr.  # attr. fs  \\\n",
       "0                  Ramblurr__Anki-Android    759   128.00        34.0   \n",
       "1                apache__directory-server    652    95.00        18.0   \n",
       "2       android__platform_frameworks_base   2460   565.00        53.0   \n",
       "3                           freenet__fred   1012   133.00        47.0   \n",
       "4                            alexo__wro4j   1368   106.00        31.0   \n",
       "5                     apache__lucene-solr    974   123.00        42.0   \n",
       "6                         getrailo__railo    572    89.00        30.0   \n",
       "7                         atlasapi__atlas    782   123.00        41.0   \n",
       "8                hibernate__hibernate-orm    716   130.00        32.0   \n",
       "9   CloudStack-extras__CloudStack-archive   1106   134.00        48.0   \n",
       "10                 TeamDev-Ltd__OpenFaces   2859   104.00        26.0   \n",
       "11                 eucalyptus__eucalyptus    747   145.00        41.0   \n",
       "12                              zkoss__zk    881   110.00        34.0   \n",
       "13                  alkacon__opencms-core    840   108.00        26.0   \n",
       "14                   SINTEF-9012__ThingML    977    86.00        23.0   \n",
       "15                       apache__accumulo   3148   136.00        30.0   \n",
       "16                       Unidata__thredds    950    98.00        29.0   \n",
       "17                       jgralab__jgralab   1802    97.00        24.0   \n",
       "18                  sebastianbenz__Jnario   8173    83.00        13.0   \n",
       "19                        CCI-MIT__XCoLab   3757    98.00        14.0   \n",
       "20                                Overall  34535   134.55        31.8   \n",
       "\n",
       "    accuracy  accuracy_fs  improvement  \n",
       "0      0.739        0.740        0.005  \n",
       "1      0.942        0.928       -0.015  \n",
       "2      0.817        0.814       -0.004  \n",
       "3      0.673        0.680        0.021  \n",
       "4      0.583        0.585        0.004  \n",
       "5      0.646        0.644       -0.003  \n",
       "6      0.710        0.711        0.006  \n",
       "7      0.671        0.656       -0.023  \n",
       "8      0.602        0.591       -0.018  \n",
       "9      0.806        0.805       -0.001  \n",
       "10     0.969        0.969       -0.000  \n",
       "11     0.623        0.617       -0.009  \n",
       "12     0.790        0.787       -0.004  \n",
       "13     0.962        0.962       -0.000  \n",
       "14     0.949        0.950        0.020  \n",
       "15     0.862        0.859       -0.004  \n",
       "16     0.918        0.919        0.013  \n",
       "17     0.867        0.861       -0.007  \n",
       "18     0.999        0.999        0.000  \n",
       "19     0.976        0.972       -0.004  \n",
       "20     0.805        0.802       -0.003  "
      ]
     },
     "execution_count": 14,
     "metadata": {},
     "output_type": "execute_result"
    }
   ],
   "source": [
    "results_tree"
   ]
  },
  {
   "cell_type": "markdown",
   "metadata": {},
   "source": [
    "# Recursive feature elimination:\n",
    "\n",
    "First, the estimator is trained on the initial set of features and the importance of each feature is obtained. Then, the least important features are pruned from current set of features. That procedure is recursively repeated on the pruned set until the desired number of features to select is eventually reached.\n",
    "Currently we are discarding 1 feature per step, using a 5-fold-cross-validation to calculate the accuracy on each step."
   ]
  },
  {
   "cell_type": "code",
   "execution_count": 15,
   "metadata": {
    "ExecuteTime": {
     "end_time": "2022-07-22T20:13:42.077167Z",
     "start_time": "2022-07-22T17:49:39.459102Z"
    }
   },
   "outputs": [],
   "source": [
    "# import importlib\n",
    "# importlib.reload(classifier_utils)\n",
    "# results_recursive, attributes_record_rec = classifier_utils.projects_feature_selection(projects, non_features_columns, rf, 'recursive')"
   ]
  },
  {
   "cell_type": "code",
   "execution_count": 16,
   "metadata": {
    "ExecuteTime": {
     "end_time": "2022-07-22T20:13:42.100838Z",
     "start_time": "2022-07-22T20:13:42.080379Z"
    }
   },
   "outputs": [],
   "source": [
    "# results_recursive"
   ]
  },
  {
   "cell_type": "markdown",
   "metadata": {},
   "source": [
    "# IGAR\n",
    "Selects attributes based on the ranking of their information gain.\n",
    "Information gain measures the ability of a feature to separate the target classes. The greater the information gain, the better its importance for classification tasks.\n",
    "\n",
    "Information Gain = Entropy(overall) - Entropy(attribute)\n",
    "\n",
    "The algorithm has an input value 'n' that is used to select the 'n' attributes with the greatest information gain among all attributes. In this notebook we use n = 84, which was the found in the notebook IGAR_tuning.ipynb."
   ]
  },
  {
   "cell_type": "code",
   "execution_count": 17,
   "metadata": {
    "ExecuteTime": {
     "end_time": "2022-07-22T20:26:02.295842Z",
     "start_time": "2022-07-22T20:13:42.102554Z"
    }
   },
   "outputs": [],
   "source": [
    "import importlib\n",
    "importlib.reload(classifier_utils)\n",
    "results_IGAR, attributes_record_IGAR = classifier_utils.projects_feature_selection(projects, non_features_columns, rf, 'IGAR')"
   ]
  },
  {
   "cell_type": "code",
   "execution_count": 18,
   "metadata": {
    "ExecuteTime": {
     "end_time": "2022-07-22T20:26:02.309580Z",
     "start_time": "2022-07-22T20:26:02.296864Z"
    }
   },
   "outputs": [
    {
     "data": {
      "text/html": [
       "<div>\n",
       "<style scoped>\n",
       "    .dataframe tbody tr th:only-of-type {\n",
       "        vertical-align: middle;\n",
       "    }\n",
       "\n",
       "    .dataframe tbody tr th {\n",
       "        vertical-align: top;\n",
       "    }\n",
       "\n",
       "    .dataframe thead th {\n",
       "        text-align: right;\n",
       "    }\n",
       "</style>\n",
       "<table border=\"1\" class=\"dataframe\">\n",
       "  <thead>\n",
       "    <tr style=\"text-align: right;\">\n",
       "      <th></th>\n",
       "      <th>project</th>\n",
       "      <th>N</th>\n",
       "      <th># attr.</th>\n",
       "      <th># attr. fs</th>\n",
       "      <th>accuracy</th>\n",
       "      <th>accuracy_fs</th>\n",
       "      <th>improvement</th>\n",
       "    </tr>\n",
       "  </thead>\n",
       "  <tbody>\n",
       "    <tr>\n",
       "      <th>0</th>\n",
       "      <td>Ramblurr__Anki-Android</td>\n",
       "      <td>759</td>\n",
       "      <td>128.00</td>\n",
       "      <td>84.0</td>\n",
       "      <td>0.739</td>\n",
       "      <td>0.743</td>\n",
       "      <td>0.015</td>\n",
       "    </tr>\n",
       "    <tr>\n",
       "      <th>1</th>\n",
       "      <td>apache__directory-server</td>\n",
       "      <td>652</td>\n",
       "      <td>95.00</td>\n",
       "      <td>84.0</td>\n",
       "      <td>0.942</td>\n",
       "      <td>0.933</td>\n",
       "      <td>-0.010</td>\n",
       "    </tr>\n",
       "    <tr>\n",
       "      <th>2</th>\n",
       "      <td>android__platform_frameworks_base</td>\n",
       "      <td>2460</td>\n",
       "      <td>565.00</td>\n",
       "      <td>84.0</td>\n",
       "      <td>0.817</td>\n",
       "      <td>0.811</td>\n",
       "      <td>-0.008</td>\n",
       "    </tr>\n",
       "    <tr>\n",
       "      <th>3</th>\n",
       "      <td>freenet__fred</td>\n",
       "      <td>1012</td>\n",
       "      <td>133.00</td>\n",
       "      <td>84.0</td>\n",
       "      <td>0.673</td>\n",
       "      <td>0.656</td>\n",
       "      <td>-0.025</td>\n",
       "    </tr>\n",
       "    <tr>\n",
       "      <th>4</th>\n",
       "      <td>alexo__wro4j</td>\n",
       "      <td>1368</td>\n",
       "      <td>106.00</td>\n",
       "      <td>84.0</td>\n",
       "      <td>0.583</td>\n",
       "      <td>0.583</td>\n",
       "      <td>-0.001</td>\n",
       "    </tr>\n",
       "    <tr>\n",
       "      <th>5</th>\n",
       "      <td>apache__lucene-solr</td>\n",
       "      <td>974</td>\n",
       "      <td>123.00</td>\n",
       "      <td>84.0</td>\n",
       "      <td>0.646</td>\n",
       "      <td>0.651</td>\n",
       "      <td>0.014</td>\n",
       "    </tr>\n",
       "    <tr>\n",
       "      <th>6</th>\n",
       "      <td>getrailo__railo</td>\n",
       "      <td>572</td>\n",
       "      <td>89.00</td>\n",
       "      <td>84.0</td>\n",
       "      <td>0.710</td>\n",
       "      <td>0.706</td>\n",
       "      <td>-0.005</td>\n",
       "    </tr>\n",
       "    <tr>\n",
       "      <th>7</th>\n",
       "      <td>atlasapi__atlas</td>\n",
       "      <td>782</td>\n",
       "      <td>123.00</td>\n",
       "      <td>84.0</td>\n",
       "      <td>0.671</td>\n",
       "      <td>0.675</td>\n",
       "      <td>0.012</td>\n",
       "    </tr>\n",
       "    <tr>\n",
       "      <th>8</th>\n",
       "      <td>hibernate__hibernate-orm</td>\n",
       "      <td>716</td>\n",
       "      <td>130.00</td>\n",
       "      <td>84.0</td>\n",
       "      <td>0.602</td>\n",
       "      <td>0.591</td>\n",
       "      <td>-0.019</td>\n",
       "    </tr>\n",
       "    <tr>\n",
       "      <th>9</th>\n",
       "      <td>CloudStack-extras__CloudStack-archive</td>\n",
       "      <td>1106</td>\n",
       "      <td>134.00</td>\n",
       "      <td>84.0</td>\n",
       "      <td>0.806</td>\n",
       "      <td>0.805</td>\n",
       "      <td>-0.001</td>\n",
       "    </tr>\n",
       "    <tr>\n",
       "      <th>10</th>\n",
       "      <td>TeamDev-Ltd__OpenFaces</td>\n",
       "      <td>2859</td>\n",
       "      <td>104.00</td>\n",
       "      <td>84.0</td>\n",
       "      <td>0.969</td>\n",
       "      <td>0.969</td>\n",
       "      <td>-0.000</td>\n",
       "    </tr>\n",
       "    <tr>\n",
       "      <th>11</th>\n",
       "      <td>eucalyptus__eucalyptus</td>\n",
       "      <td>747</td>\n",
       "      <td>145.00</td>\n",
       "      <td>84.0</td>\n",
       "      <td>0.623</td>\n",
       "      <td>0.608</td>\n",
       "      <td>-0.024</td>\n",
       "    </tr>\n",
       "    <tr>\n",
       "      <th>12</th>\n",
       "      <td>zkoss__zk</td>\n",
       "      <td>881</td>\n",
       "      <td>110.00</td>\n",
       "      <td>84.0</td>\n",
       "      <td>0.790</td>\n",
       "      <td>0.784</td>\n",
       "      <td>-0.007</td>\n",
       "    </tr>\n",
       "    <tr>\n",
       "      <th>13</th>\n",
       "      <td>alkacon__opencms-core</td>\n",
       "      <td>840</td>\n",
       "      <td>108.00</td>\n",
       "      <td>84.0</td>\n",
       "      <td>0.962</td>\n",
       "      <td>0.960</td>\n",
       "      <td>-0.002</td>\n",
       "    </tr>\n",
       "    <tr>\n",
       "      <th>14</th>\n",
       "      <td>SINTEF-9012__ThingML</td>\n",
       "      <td>977</td>\n",
       "      <td>86.00</td>\n",
       "      <td>84.0</td>\n",
       "      <td>0.949</td>\n",
       "      <td>0.949</td>\n",
       "      <td>0.000</td>\n",
       "    </tr>\n",
       "    <tr>\n",
       "      <th>15</th>\n",
       "      <td>apache__accumulo</td>\n",
       "      <td>3148</td>\n",
       "      <td>136.00</td>\n",
       "      <td>84.0</td>\n",
       "      <td>0.862</td>\n",
       "      <td>0.863</td>\n",
       "      <td>0.007</td>\n",
       "    </tr>\n",
       "    <tr>\n",
       "      <th>16</th>\n",
       "      <td>Unidata__thredds</td>\n",
       "      <td>950</td>\n",
       "      <td>98.00</td>\n",
       "      <td>84.0</td>\n",
       "      <td>0.918</td>\n",
       "      <td>0.921</td>\n",
       "      <td>0.038</td>\n",
       "    </tr>\n",
       "    <tr>\n",
       "      <th>17</th>\n",
       "      <td>jgralab__jgralab</td>\n",
       "      <td>1802</td>\n",
       "      <td>97.00</td>\n",
       "      <td>84.0</td>\n",
       "      <td>0.867</td>\n",
       "      <td>0.870</td>\n",
       "      <td>0.025</td>\n",
       "    </tr>\n",
       "    <tr>\n",
       "      <th>18</th>\n",
       "      <td>sebastianbenz__Jnario</td>\n",
       "      <td>8173</td>\n",
       "      <td>83.00</td>\n",
       "      <td>0.0</td>\n",
       "      <td>0.999</td>\n",
       "      <td>NaN</td>\n",
       "      <td>NaN</td>\n",
       "    </tr>\n",
       "    <tr>\n",
       "      <th>19</th>\n",
       "      <td>CCI-MIT__XCoLab</td>\n",
       "      <td>3757</td>\n",
       "      <td>98.00</td>\n",
       "      <td>84.0</td>\n",
       "      <td>0.976</td>\n",
       "      <td>0.976</td>\n",
       "      <td>0.022</td>\n",
       "    </tr>\n",
       "    <tr>\n",
       "      <th>20</th>\n",
       "      <td>Overall</td>\n",
       "      <td>34535</td>\n",
       "      <td>134.55</td>\n",
       "      <td>79.8</td>\n",
       "      <td>0.805</td>\n",
       "      <td>0.792</td>\n",
       "      <td>-0.016</td>\n",
       "    </tr>\n",
       "  </tbody>\n",
       "</table>\n",
       "</div>"
      ],
      "text/plain": [
       "                                  project      N  # attr.  # attr. fs  \\\n",
       "0                  Ramblurr__Anki-Android    759   128.00        84.0   \n",
       "1                apache__directory-server    652    95.00        84.0   \n",
       "2       android__platform_frameworks_base   2460   565.00        84.0   \n",
       "3                           freenet__fred   1012   133.00        84.0   \n",
       "4                            alexo__wro4j   1368   106.00        84.0   \n",
       "5                     apache__lucene-solr    974   123.00        84.0   \n",
       "6                         getrailo__railo    572    89.00        84.0   \n",
       "7                         atlasapi__atlas    782   123.00        84.0   \n",
       "8                hibernate__hibernate-orm    716   130.00        84.0   \n",
       "9   CloudStack-extras__CloudStack-archive   1106   134.00        84.0   \n",
       "10                 TeamDev-Ltd__OpenFaces   2859   104.00        84.0   \n",
       "11                 eucalyptus__eucalyptus    747   145.00        84.0   \n",
       "12                              zkoss__zk    881   110.00        84.0   \n",
       "13                  alkacon__opencms-core    840   108.00        84.0   \n",
       "14                   SINTEF-9012__ThingML    977    86.00        84.0   \n",
       "15                       apache__accumulo   3148   136.00        84.0   \n",
       "16                       Unidata__thredds    950    98.00        84.0   \n",
       "17                       jgralab__jgralab   1802    97.00        84.0   \n",
       "18                  sebastianbenz__Jnario   8173    83.00         0.0   \n",
       "19                        CCI-MIT__XCoLab   3757    98.00        84.0   \n",
       "20                                Overall  34535   134.55        79.8   \n",
       "\n",
       "    accuracy  accuracy_fs  improvement  \n",
       "0      0.739        0.743        0.015  \n",
       "1      0.942        0.933       -0.010  \n",
       "2      0.817        0.811       -0.008  \n",
       "3      0.673        0.656       -0.025  \n",
       "4      0.583        0.583       -0.001  \n",
       "5      0.646        0.651        0.014  \n",
       "6      0.710        0.706       -0.005  \n",
       "7      0.671        0.675        0.012  \n",
       "8      0.602        0.591       -0.019  \n",
       "9      0.806        0.805       -0.001  \n",
       "10     0.969        0.969       -0.000  \n",
       "11     0.623        0.608       -0.024  \n",
       "12     0.790        0.784       -0.007  \n",
       "13     0.962        0.960       -0.002  \n",
       "14     0.949        0.949        0.000  \n",
       "15     0.862        0.863        0.007  \n",
       "16     0.918        0.921        0.038  \n",
       "17     0.867        0.870        0.025  \n",
       "18     0.999          NaN          NaN  \n",
       "19     0.976        0.976        0.022  \n",
       "20     0.805        0.792       -0.016  "
      ]
     },
     "execution_count": 18,
     "metadata": {},
     "output_type": "execute_result"
    }
   ],
   "source": [
    "results_IGAR"
   ]
  },
  {
   "cell_type": "markdown",
   "metadata": {},
   "source": [
    "## Comparison"
   ]
  },
  {
   "cell_type": "code",
   "execution_count": 19,
   "metadata": {
    "ExecuteTime": {
     "end_time": "2022-07-22T20:26:02.360713Z",
     "start_time": "2022-07-22T20:26:02.310721Z"
    }
   },
   "outputs": [
    {
     "ename": "NameError",
     "evalue": "name 'results_recursive' is not defined",
     "output_type": "error",
     "traceback": [
      "\u001b[0;31m---------------------------------------------------------------------------\u001b[0m",
      "\u001b[0;31mNameError\u001b[0m                                 Traceback (most recent call last)",
      "\u001b[0;32m<ipython-input-19-4ecaec2ed8a5>\u001b[0m in \u001b[0;36m<module>\u001b[0;34m\u001b[0m\n\u001b[0;32m----> 1\u001b[0;31m \u001b[0mdf_inner\u001b[0m \u001b[0;34m=\u001b[0m \u001b[0mpd\u001b[0m\u001b[0;34m.\u001b[0m\u001b[0mmerge\u001b[0m\u001b[0;34m(\u001b[0m\u001b[0mresults_tree\u001b[0m\u001b[0;34m,\u001b[0m \u001b[0mresults_recursive\u001b[0m\u001b[0;34m,\u001b[0m \u001b[0mon\u001b[0m\u001b[0;34m=\u001b[0m\u001b[0;34m'project'\u001b[0m\u001b[0;34m,\u001b[0m \u001b[0mhow\u001b[0m\u001b[0;34m=\u001b[0m\u001b[0;34m'inner'\u001b[0m\u001b[0;34m,\u001b[0m \u001b[0msuffixes\u001b[0m\u001b[0;34m=\u001b[0m\u001b[0;34m(\u001b[0m\u001b[0;34m'_tree'\u001b[0m\u001b[0;34m,\u001b[0m \u001b[0;34m'_rec'\u001b[0m\u001b[0;34m)\u001b[0m\u001b[0;34m)\u001b[0m\u001b[0;34m\u001b[0m\u001b[0;34m\u001b[0m\u001b[0m\n\u001b[0m\u001b[1;32m      2\u001b[0m \u001b[0mdf_inner_igar\u001b[0m \u001b[0;34m=\u001b[0m \u001b[0mresults_IGAR\u001b[0m\u001b[0;34m.\u001b[0m\u001b[0madd_suffix\u001b[0m\u001b[0;34m(\u001b[0m\u001b[0;34m\"_IGAR\"\u001b[0m\u001b[0;34m)\u001b[0m\u001b[0;34m.\u001b[0m\u001b[0mrename\u001b[0m\u001b[0;34m(\u001b[0m\u001b[0mcolumns\u001b[0m\u001b[0;34m=\u001b[0m\u001b[0;34m{\u001b[0m\u001b[0;34m\"project_IGAR\"\u001b[0m\u001b[0;34m:\u001b[0m \u001b[0;34m\"project\"\u001b[0m\u001b[0;34m}\u001b[0m\u001b[0;34m)\u001b[0m\u001b[0;34m\u001b[0m\u001b[0;34m\u001b[0m\u001b[0m\n\u001b[1;32m      3\u001b[0m \u001b[0mdf_inner\u001b[0m \u001b[0;34m=\u001b[0m \u001b[0mpd\u001b[0m\u001b[0;34m.\u001b[0m\u001b[0mmerge\u001b[0m\u001b[0;34m(\u001b[0m\u001b[0mdf_inner\u001b[0m\u001b[0;34m,\u001b[0m \u001b[0mdf_inner_igar\u001b[0m\u001b[0;34m,\u001b[0m \u001b[0mon\u001b[0m\u001b[0;34m=\u001b[0m\u001b[0;34m'project'\u001b[0m\u001b[0;34m,\u001b[0m \u001b[0mhow\u001b[0m\u001b[0;34m=\u001b[0m\u001b[0;34m'inner'\u001b[0m\u001b[0;34m)\u001b[0m\u001b[0;34m\u001b[0m\u001b[0;34m\u001b[0m\u001b[0m\n\u001b[1;32m      4\u001b[0m \u001b[0mdf_inner\u001b[0m\u001b[0;34m.\u001b[0m\u001b[0mto_csv\u001b[0m\u001b[0;34m(\u001b[0m\u001b[0;34m'feature_selection_comparison.csv'\u001b[0m\u001b[0;34m,\u001b[0m \u001b[0mindex\u001b[0m\u001b[0;34m=\u001b[0m\u001b[0;32mFalse\u001b[0m\u001b[0;34m)\u001b[0m\u001b[0;34m\u001b[0m\u001b[0;34m\u001b[0m\u001b[0m\n\u001b[1;32m      5\u001b[0m \u001b[0;34m\u001b[0m\u001b[0m\n",
      "\u001b[0;31mNameError\u001b[0m: name 'results_recursive' is not defined"
     ]
    }
   ],
   "source": [
    "df_inner = pd.merge(results_tree, results_recursive, on='project', how='inner', suffixes=('_tree', '_rec'))\n",
    "df_inner_igar = results_IGAR.add_suffix(\"_IGAR\").rename(columns={\"project_IGAR\": \"project\"})\n",
    "df_inner = pd.merge(df_inner, df_inner_igar, on='project', how='inner')\n",
    "df_inner.to_csv('feature_selection_comparison.csv', index=False)\n",
    "\n",
    "accuracy_inner = df_inner.filter(regex=(\"project|accuracy.*\")).copy()\n",
    "accuracy_inner['improvement_tree'] = accuracy_inner.apply(lambda x: classifier_utils.get_normalized_improvement(x['accuracy_fs_tree'], x['accuracy_tree']), axis=1)\n",
    "accuracy_inner['improvement_rec'] = accuracy_inner.apply(lambda x: classifier_utils.get_normalized_improvement(x['accuracy_fs_rec'], x['accuracy_rec']), axis=1)\n",
    "accuracy_inner['improvement_IGAR'] = accuracy_inner.apply(lambda x: classifier_utils.get_normalized_improvement(x['accuracy_fs_IGAR'], x['accuracy_IGAR']), axis=1)\n",
    "accuracy_inner = accuracy_inner.round(3)\n",
    "accuracy_inner"
   ]
  },
  {
   "cell_type": "code",
   "execution_count": 20,
   "metadata": {
    "ExecuteTime": {
     "end_time": "2022-07-22T20:26:02.377049Z",
     "start_time": "2022-07-22T20:26:02.362744Z"
    }
   },
   "outputs": [
    {
     "ename": "NameError",
     "evalue": "name 'attributes_record_rec' is not defined",
     "output_type": "error",
     "traceback": [
      "\u001b[0;31m---------------------------------------------------------------------------\u001b[0m",
      "\u001b[0;31mNameError\u001b[0m                                 Traceback (most recent call last)",
      "\u001b[0;32m<ipython-input-20-67d7b78840d4>\u001b[0m in \u001b[0;36m<module>\u001b[0;34m\u001b[0m\n\u001b[0;32m----> 1\u001b[0;31m \u001b[0mpd\u001b[0m\u001b[0;34m.\u001b[0m\u001b[0mDataFrame\u001b[0m\u001b[0;34m(\u001b[0m\u001b[0mattributes_record_rec\u001b[0m\u001b[0;34m,\u001b[0m \u001b[0mcolumns\u001b[0m\u001b[0;34m=\u001b[0m\u001b[0;34m[\u001b[0m\u001b[0;34m'project'\u001b[0m\u001b[0;34m,\u001b[0m \u001b[0;34m'attribute'\u001b[0m\u001b[0;34m,\u001b[0m \u001b[0;34m'information_gain'\u001b[0m\u001b[0;34m,\u001b[0m \u001b[0;34m'method'\u001b[0m\u001b[0;34m]\u001b[0m\u001b[0;34m)\u001b[0m\u001b[0;34m.\u001b[0m\u001b[0mto_csv\u001b[0m\u001b[0;34m(\u001b[0m\u001b[0;34m'attributes_record_rec.csv'\u001b[0m\u001b[0;34m,\u001b[0m \u001b[0mindex\u001b[0m\u001b[0;34m=\u001b[0m\u001b[0;32mFalse\u001b[0m\u001b[0;34m)\u001b[0m\u001b[0;34m\u001b[0m\u001b[0;34m\u001b[0m\u001b[0m\n\u001b[0m",
      "\u001b[0;31mNameError\u001b[0m: name 'attributes_record_rec' is not defined"
     ]
    }
   ],
   "source": [
    "pd.DataFrame(attributes_record_rec, columns=['project', 'attribute', 'information_gain', 'method']).to_csv('attributes_record_rec.csv', index=False)"
   ]
  },
  {
   "cell_type": "code",
   "execution_count": null,
   "metadata": {
    "ExecuteTime": {
     "end_time": "2022-07-22T20:26:02.417017Z",
     "start_time": "2022-07-22T20:26:02.379771Z"
    }
   },
   "outputs": [],
   "source": [
    "attributes_record = []\n",
    "attributes_record.extend(attributes_record_tree)\n",
    "attributes_record.extend(attributes_record_rec)\n",
    "attributes_record.extend(attributes_record_IGAR)\n",
    "attributes_record_df = pd.DataFrame(attributes_record, columns=['project', 'attribute', 'information_gain', 'method'])\n",
    "attributes_record_df.to_csv('attributes_record.csv', index=False)"
   ]
  },
  {
   "cell_type": "code",
   "execution_count": null,
   "metadata": {
    "ExecuteTime": {
     "end_time": "2022-07-22T20:26:02.428857Z",
     "start_time": "2022-07-22T20:26:02.418266Z"
    }
   },
   "outputs": [],
   "source": [
    "attributes_record = pd.read_csv('attributes_record.csv')"
   ]
  },
  {
   "cell_type": "markdown",
   "metadata": {},
   "source": [
    "## Ranking of features selected by tree method\n",
    "\n",
    "Counts in how many projects the respective feature was selected using the tree method."
   ]
  },
  {
   "cell_type": "code",
   "execution_count": null,
   "metadata": {
    "ExecuteTime": {
     "end_time": "2022-07-22T20:26:02.511282Z",
     "start_time": "2022-07-22T20:26:02.430120Z"
    },
    "scrolled": false
   },
   "outputs": [],
   "source": [
    "ranking_tree = classifier_utils.get_attribute_selection_ranking(attributes_record, 'tree')\n",
    "ranking_tree.sort_values(['average_information_gain', 'count_selected'], ascending=False).head(50)"
   ]
  },
  {
   "cell_type": "markdown",
   "metadata": {},
   "source": [
    "## Ranking of features selected by recursive method\n",
    "\n",
    "Counts in how many projects the respective feature was selected using the recursive method."
   ]
  },
  {
   "cell_type": "code",
   "execution_count": null,
   "metadata": {
    "ExecuteTime": {
     "end_time": "2022-07-22T20:26:02.850642Z",
     "start_time": "2022-07-22T20:26:02.512262Z"
    },
    "scrolled": false
   },
   "outputs": [],
   "source": [
    "ranking_recursive = classifier_utils.get_attribute_selection_ranking(attributes_record, 'recursive')\n",
    "ranking_recursive.sort_values(['average_information_gain', 'count_selected'], ascending=False).head(50)"
   ]
  },
  {
   "cell_type": "markdown",
   "metadata": {},
   "source": [
    "## Ranking of features selected by IGAR method\n",
    "\n",
    "Counts in how many projects the respective feature was selected using the IGAR method. \n",
    "\n",
    "The information gain column is an average among all projects."
   ]
  },
  {
   "cell_type": "code",
   "execution_count": null,
   "metadata": {
    "ExecuteTime": {
     "end_time": "2022-07-22T20:26:03.170205Z",
     "start_time": "2022-07-22T20:26:02.851761Z"
    },
    "scrolled": false
   },
   "outputs": [],
   "source": [
    "import importlib\n",
    "importlib.reload(classifier_utils)\n",
    "ranking_IGAR = classifier_utils.get_attribute_selection_ranking(attributes_record, 'IGAR')\n",
    "ranking_IGAR.sort_values(['average_information_gain', 'count_selected'], ascending=False).head(50)"
   ]
  },
  {
   "cell_type": "code",
   "execution_count": null,
   "metadata": {},
   "outputs": [],
   "source": []
  }
 ],
 "metadata": {
  "kernelspec": {
   "display_name": "Python 3",
   "language": "python",
   "name": "python3"
  },
  "language_info": {
   "codemirror_mode": {
    "name": "ipython",
    "version": 3
   },
   "file_extension": ".py",
   "mimetype": "text/x-python",
   "name": "python",
   "nbconvert_exporter": "python",
   "pygments_lexer": "ipython3",
   "version": "3.9.2"
  }
 },
 "nbformat": 4,
 "nbformat_minor": 4
}
